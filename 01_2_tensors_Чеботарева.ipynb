{
  "cells": [
    {
      "cell_type": "markdown",
      "id": "ab47ec31",
      "metadata": {
        "id": "ab47ec31"
      },
      "source": [
        "# Знакомство с `torch.Tensor`\n",
        "\n",
        "__Автор задач: Блохин Н.В. (NVBlokhin@fa.ru)__\n",
        "\n",
        "Материалы:\n",
        "* Deep Learning with PyTorch (2020) Авторы: Eli Stevens, Luca Antiga, Thomas Viehmann\n",
        "* https://pytorch.org/docs/stable/torch.html\n"
      ]
    },
    {
      "cell_type": "markdown",
      "id": "b2e5acce",
      "metadata": {
        "id": "b2e5acce"
      },
      "source": [
        "## Задачи для совместного разбора"
      ]
    },
    {
      "cell_type": "code",
      "source": [
        "import torch as th"
      ],
      "metadata": {
        "id": "FTxUsz4wk1zd"
      },
      "id": "FTxUsz4wk1zd",
      "execution_count": 4,
      "outputs": []
    },
    {
      "cell_type": "markdown",
      "id": "cb56f308",
      "metadata": {
        "id": "cb56f308"
      },
      "source": [
        "1\\. Создайте тензор и исследуйте его основные характеристики"
      ]
    },
    {
      "cell_type": "code",
      "source": [
        "a = th.randint(0,10, size = (10,5), dtype = th.float32)"
      ],
      "metadata": {
        "id": "WHWXECthlFTB"
      },
      "id": "WHWXECthlFTB",
      "execution_count": 4,
      "outputs": []
    },
    {
      "cell_type": "code",
      "source": [
        "a.dtype"
      ],
      "metadata": {
        "colab": {
          "base_uri": "https://localhost:8080/"
        },
        "id": "AGqUhEyLlqGc",
        "outputId": "7baf599c-cbb3-472a-af05-22b11141fdb4"
      },
      "id": "AGqUhEyLlqGc",
      "execution_count": 5,
      "outputs": [
        {
          "output_type": "execute_result",
          "data": {
            "text/plain": [
              "torch.float32"
            ]
          },
          "metadata": {},
          "execution_count": 5
        }
      ]
    },
    {
      "cell_type": "code",
      "source": [
        "a.pow(2)"
      ],
      "metadata": {
        "colab": {
          "base_uri": "https://localhost:8080/"
        },
        "id": "vnJG2g8LlqJw",
        "outputId": "4b722fe2-c53d-4f71-d7c3-c0500ff1e7ea"
      },
      "id": "vnJG2g8LlqJw",
      "execution_count": 7,
      "outputs": [
        {
          "output_type": "execute_result",
          "data": {
            "text/plain": [
              "tensor([[ 1., 16., 64.,  9.,  0.],\n",
              "        [25.,  1., 81., 64.,  9.],\n",
              "        [36., 25., 49.,  9.,  9.],\n",
              "        [64., 64., 36.,  1.,  1.],\n",
              "        [ 9., 81.,  1.,  0., 36.],\n",
              "        [49.,  1., 16.,  4.,  0.],\n",
              "        [ 4.,  1., 64., 64.,  1.],\n",
              "        [16., 36.,  0., 36.,  4.],\n",
              "        [64., 49.,  4., 25.,  4.],\n",
              "        [ 4., 49., 25.,  9., 16.]])"
            ]
          },
          "metadata": {},
          "execution_count": 7
        }
      ]
    },
    {
      "cell_type": "code",
      "source": [
        "import numpy as np\n",
        "np.mean(a)"
      ],
      "metadata": {
        "colab": {
          "base_uri": "https://localhost:8080/",
          "height": 405
        },
        "id": "4piFOYX9lqMl",
        "outputId": "8cada17e-938c-41cb-8cc7-9651e67f3f9c"
      },
      "id": "4piFOYX9lqMl",
      "execution_count": 10,
      "outputs": [
        {
          "output_type": "error",
          "ename": "TypeError",
          "evalue": "ignored",
          "traceback": [
            "\u001b[0;31m---------------------------------------------------------------------------\u001b[0m",
            "\u001b[0;31mTypeError\u001b[0m                                 Traceback (most recent call last)",
            "\u001b[0;32m<ipython-input-10-e8842c4b2e4a>\u001b[0m in \u001b[0;36m<cell line: 2>\u001b[0;34m()\u001b[0m\n\u001b[1;32m      1\u001b[0m \u001b[0;32mimport\u001b[0m \u001b[0mnumpy\u001b[0m \u001b[0;32mas\u001b[0m \u001b[0mnp\u001b[0m\u001b[0;34m\u001b[0m\u001b[0;34m\u001b[0m\u001b[0m\n\u001b[0;32m----> 2\u001b[0;31m \u001b[0mnp\u001b[0m\u001b[0;34m.\u001b[0m\u001b[0mmean\u001b[0m\u001b[0;34m(\u001b[0m\u001b[0ma\u001b[0m\u001b[0;34m)\u001b[0m\u001b[0;34m\u001b[0m\u001b[0;34m\u001b[0m\u001b[0m\n\u001b[0m",
            "\u001b[0;32m/usr/local/lib/python3.10/dist-packages/numpy/core/overrides.py\u001b[0m in \u001b[0;36mmean\u001b[0;34m(*args, **kwargs)\u001b[0m\n",
            "\u001b[0;32m/usr/local/lib/python3.10/dist-packages/numpy/core/fromnumeric.py\u001b[0m in \u001b[0;36mmean\u001b[0;34m(a, axis, dtype, out, keepdims, where)\u001b[0m\n\u001b[1;32m   3428\u001b[0m             \u001b[0;32mpass\u001b[0m\u001b[0;34m\u001b[0m\u001b[0;34m\u001b[0m\u001b[0m\n\u001b[1;32m   3429\u001b[0m         \u001b[0;32melse\u001b[0m\u001b[0;34m:\u001b[0m\u001b[0;34m\u001b[0m\u001b[0;34m\u001b[0m\u001b[0m\n\u001b[0;32m-> 3430\u001b[0;31m             \u001b[0;32mreturn\u001b[0m \u001b[0mmean\u001b[0m\u001b[0;34m(\u001b[0m\u001b[0maxis\u001b[0m\u001b[0;34m=\u001b[0m\u001b[0maxis\u001b[0m\u001b[0;34m,\u001b[0m \u001b[0mdtype\u001b[0m\u001b[0;34m=\u001b[0m\u001b[0mdtype\u001b[0m\u001b[0;34m,\u001b[0m \u001b[0mout\u001b[0m\u001b[0;34m=\u001b[0m\u001b[0mout\u001b[0m\u001b[0;34m,\u001b[0m \u001b[0;34m**\u001b[0m\u001b[0mkwargs\u001b[0m\u001b[0;34m)\u001b[0m\u001b[0;34m\u001b[0m\u001b[0;34m\u001b[0m\u001b[0m\n\u001b[0m\u001b[1;32m   3431\u001b[0m \u001b[0;34m\u001b[0m\u001b[0m\n\u001b[1;32m   3432\u001b[0m     return _methods._mean(a, axis=axis, dtype=dtype,\n",
            "\u001b[0;31mTypeError\u001b[0m: mean() received an invalid combination of arguments - got (dtype=NoneType, out=NoneType, axis=NoneType, ), but expected one of:\n * (*, torch.dtype dtype)\n * (tuple of ints dim, bool keepdim, *, torch.dtype dtype)\n * (tuple of names dim, bool keepdim, *, torch.dtype dtype)\n"
          ]
        }
      ]
    },
    {
      "cell_type": "code",
      "source": [],
      "metadata": {
        "id": "xm7WHc5plqPg"
      },
      "id": "xm7WHc5plqPg",
      "execution_count": 12,
      "outputs": []
    },
    {
      "cell_type": "markdown",
      "id": "c1d14d26",
      "metadata": {
        "id": "c1d14d26"
      },
      "source": [
        "2\\. Создайте трехмерный тензор и рассмотрите основные способы индексирования по нему"
      ]
    },
    {
      "cell_type": "code",
      "source": [
        "t = th.randint(0,100, size = (5,3,3))\n",
        "t"
      ],
      "metadata": {
        "colab": {
          "base_uri": "https://localhost:8080/"
        },
        "id": "vw9DDjrSk2UI",
        "outputId": "655717f8-67c3-4aad-e484-7ceaa4af1a60"
      },
      "id": "vw9DDjrSk2UI",
      "execution_count": 21,
      "outputs": [
        {
          "output_type": "execute_result",
          "data": {
            "text/plain": [
              "tensor([[[40, 56, 88],\n",
              "         [63, 96, 72],\n",
              "         [24, 99, 53]],\n",
              "\n",
              "        [[78, 26, 67],\n",
              "         [97, 84, 56],\n",
              "         [63, 52, 22]],\n",
              "\n",
              "        [[46, 22, 61],\n",
              "         [44, 82, 25],\n",
              "         [39, 76,  2]],\n",
              "\n",
              "        [[68, 91, 75],\n",
              "         [49, 94, 15],\n",
              "         [39, 58, 88]],\n",
              "\n",
              "        [[65, 86, 96],\n",
              "         [85, 77, 86],\n",
              "         [ 1, 74, 59]]])"
            ]
          },
          "metadata": {},
          "execution_count": 21
        }
      ]
    },
    {
      "cell_type": "code",
      "source": [
        "t[0] #t[0,:,:]"
      ],
      "metadata": {
        "colab": {
          "base_uri": "https://localhost:8080/"
        },
        "id": "QQhBDJpWnSlc",
        "outputId": "5d3a3153-8877-46a2-8450-b6c82f10f224"
      },
      "id": "QQhBDJpWnSlc",
      "execution_count": 22,
      "outputs": [
        {
          "output_type": "execute_result",
          "data": {
            "text/plain": [
              "tensor([[40, 56, 88],\n",
              "        [63, 96, 72],\n",
              "        [24, 99, 53]])"
            ]
          },
          "metadata": {},
          "execution_count": 22
        }
      ]
    },
    {
      "cell_type": "code",
      "source": [
        "t[:, 0]"
      ],
      "metadata": {
        "colab": {
          "base_uri": "https://localhost:8080/"
        },
        "id": "dIGC2OlUnSpA",
        "outputId": "670324de-cfc5-43fc-d28d-db10f1b79da8"
      },
      "id": "dIGC2OlUnSpA",
      "execution_count": 26,
      "outputs": [
        {
          "output_type": "execute_result",
          "data": {
            "text/plain": [
              "tensor([[40, 56, 88],\n",
              "        [78, 26, 67],\n",
              "        [46, 22, 61],\n",
              "        [68, 91, 75],\n",
              "        [65, 86, 96]])"
            ]
          },
          "metadata": {},
          "execution_count": 26
        }
      ]
    },
    {
      "cell_type": "code",
      "source": [
        "t[:, :, [0,2,0,2,0]]"
      ],
      "metadata": {
        "colab": {
          "base_uri": "https://localhost:8080/"
        },
        "id": "3jWqW2uunSvd",
        "outputId": "f833c70a-6383-4e02-8f0e-e182264a9c23"
      },
      "id": "3jWqW2uunSvd",
      "execution_count": 28,
      "outputs": [
        {
          "output_type": "execute_result",
          "data": {
            "text/plain": [
              "tensor([[[40, 88, 40, 88, 40],\n",
              "         [63, 72, 63, 72, 63],\n",
              "         [24, 53, 24, 53, 24]],\n",
              "\n",
              "        [[78, 67, 78, 67, 78],\n",
              "         [97, 56, 97, 56, 97],\n",
              "         [63, 22, 63, 22, 63]],\n",
              "\n",
              "        [[46, 61, 46, 61, 46],\n",
              "         [44, 25, 44, 25, 44],\n",
              "         [39,  2, 39,  2, 39]],\n",
              "\n",
              "        [[68, 75, 68, 75, 68],\n",
              "         [49, 15, 49, 15, 49],\n",
              "         [39, 88, 39, 88, 39]],\n",
              "\n",
              "        [[65, 96, 65, 96, 65],\n",
              "         [85, 86, 85, 86, 85],\n",
              "         [ 1, 59,  1, 59,  1]]])"
            ]
          },
          "metadata": {},
          "execution_count": 28
        }
      ]
    },
    {
      "cell_type": "code",
      "source": [],
      "metadata": {
        "id": "Ok4lXRBznSys"
      },
      "id": "Ok4lXRBznSys",
      "execution_count": null,
      "outputs": []
    },
    {
      "cell_type": "code",
      "source": [],
      "metadata": {
        "id": "Ro0fEU-5nS18"
      },
      "id": "Ro0fEU-5nS18",
      "execution_count": null,
      "outputs": []
    },
    {
      "cell_type": "markdown",
      "id": "c4dfe946",
      "metadata": {
        "id": "c4dfe946"
      },
      "source": [
        "3\\. Создайте тензор (4х4) и модифицируйте следующим образом: ко всем четным столбцам прибавьте 1, из нечетных вычтите 1."
      ]
    },
    {
      "cell_type": "code",
      "source": [],
      "metadata": {
        "id": "MLBYG2V5k2o_"
      },
      "id": "MLBYG2V5k2o_",
      "execution_count": null,
      "outputs": []
    },
    {
      "cell_type": "markdown",
      "id": "f73eb486",
      "metadata": {
        "id": "f73eb486"
      },
      "source": [
        "4\\. Исследуйте совместимость `torch` с `numpy` и `sklearn`"
      ]
    },
    {
      "cell_type": "code",
      "source": [],
      "metadata": {
        "id": "Mm0DbPh_k3GS"
      },
      "id": "Mm0DbPh_k3GS",
      "execution_count": null,
      "outputs": []
    },
    {
      "cell_type": "markdown",
      "id": "8e3aaaeb",
      "metadata": {
        "id": "8e3aaaeb"
      },
      "source": [
        "## Задачи для самостоятельного решения"
      ]
    },
    {
      "cell_type": "markdown",
      "id": "fdb47cbe",
      "metadata": {
        "id": "fdb47cbe"
      },
      "source": [
        "<p class=\"task\" id=\"1\"></p>\n",
        "\n",
        "1\\. Создайте двумерный тензор размера (100000, 10), заполненный нулями. Используя прихотливое индексирование, поставьте в каждой строке тензора ровно одну единицу в случайно выбранном столбце. Рассчитайте и выведите на экран вероятности $p_i$ того, что для случайно выбранной строки в столбце $i$ будет стоять единица."
      ]
    },
    {
      "cell_type": "code",
      "source": [
        "import torch as th"
      ],
      "metadata": {
        "id": "xGNuqwmmKGMQ"
      },
      "id": "xGNuqwmmKGMQ",
      "execution_count": 1,
      "outputs": []
    },
    {
      "cell_type": "code",
      "source": [
        "t = th.zeros(size=(100000, 10))"
      ],
      "metadata": {
        "id": "-VkNdoNnk39A"
      },
      "id": "-VkNdoNnk39A",
      "execution_count": 2,
      "outputs": []
    },
    {
      "cell_type": "code",
      "source": [
        "indexes = th.randint(0, 10, size=(100000,))"
      ],
      "metadata": {
        "id": "q_NqjpVtrejE"
      },
      "id": "q_NqjpVtrejE",
      "execution_count": 3,
      "outputs": []
    },
    {
      "cell_type": "code",
      "source": [
        "indexes"
      ],
      "metadata": {
        "colab": {
          "base_uri": "https://localhost:8080/"
        },
        "id": "w4bHV8BEvxzU",
        "outputId": "bfbd05ae-b51d-4f15-d69a-99fe3ef6aea6"
      },
      "id": "w4bHV8BEvxzU",
      "execution_count": 4,
      "outputs": [
        {
          "output_type": "execute_result",
          "data": {
            "text/plain": [
              "tensor([0, 7, 5,  ..., 8, 5, 4])"
            ]
          },
          "metadata": {},
          "execution_count": 4
        }
      ]
    },
    {
      "cell_type": "code",
      "source": [
        "t"
      ],
      "metadata": {
        "colab": {
          "base_uri": "https://localhost:8080/"
        },
        "id": "rUfW-Q_4v0Np",
        "outputId": "849f0dff-327f-43b4-8e06-beb2c209c1dd"
      },
      "id": "rUfW-Q_4v0Np",
      "execution_count": 5,
      "outputs": [
        {
          "output_type": "execute_result",
          "data": {
            "text/plain": [
              "tensor([[0., 0., 0.,  ..., 0., 0., 0.],\n",
              "        [0., 0., 0.,  ..., 0., 0., 0.],\n",
              "        [0., 0., 0.,  ..., 0., 0., 0.],\n",
              "        ...,\n",
              "        [0., 0., 0.,  ..., 0., 0., 0.],\n",
              "        [0., 0., 0.,  ..., 0., 0., 0.],\n",
              "        [0., 0., 0.,  ..., 0., 0., 0.]])"
            ]
          },
          "metadata": {},
          "execution_count": 5
        }
      ]
    },
    {
      "cell_type": "code",
      "source": [
        "t[th.arange(t.shape[0]), indexes] = 1"
      ],
      "metadata": {
        "id": "mgh5g7fQremS"
      },
      "id": "mgh5g7fQremS",
      "execution_count": 6,
      "outputs": []
    },
    {
      "cell_type": "code",
      "source": [
        "t.mean(axis=0)"
      ],
      "metadata": {
        "colab": {
          "base_uri": "https://localhost:8080/"
        },
        "id": "lBfBDCyKrese",
        "outputId": "9fcf1aec-d6fb-422c-f2f5-6f3751383b2d"
      },
      "id": "lBfBDCyKrese",
      "execution_count": 7,
      "outputs": [
        {
          "output_type": "execute_result",
          "data": {
            "text/plain": [
              "tensor([0.1020, 0.1003, 0.1000, 0.1009, 0.0997, 0.0977, 0.1003, 0.0993, 0.1001,\n",
              "        0.0997])"
            ]
          },
          "metadata": {},
          "execution_count": 7
        }
      ]
    },
    {
      "cell_type": "markdown",
      "id": "2212b996",
      "metadata": {
        "id": "2212b996"
      },
      "source": [
        "<p class=\"task\" id=\"2\"></p>\n",
        "\n",
        "2\\. При помощи прихотливого индексирования для двумерного тензора размерности (10, 10), состоящего из случайных целых чисел в пределах от 0 до 10, получите тензор элементов, находящихся сразу над побочной диагональю."
      ]
    },
    {
      "cell_type": "code",
      "source": [
        "t = th.randint(0, 11, size=(10, 10))"
      ],
      "metadata": {
        "id": "0K5KxBJkk4aU"
      },
      "id": "0K5KxBJkk4aU",
      "execution_count": 8,
      "outputs": []
    },
    {
      "cell_type": "code",
      "source": [
        "t"
      ],
      "metadata": {
        "colab": {
          "base_uri": "https://localhost:8080/"
        },
        "id": "w36GtQEZr8UG",
        "outputId": "506f27fe-c960-4345-9730-2ff41b951de8"
      },
      "id": "w36GtQEZr8UG",
      "execution_count": 9,
      "outputs": [
        {
          "output_type": "execute_result",
          "data": {
            "text/plain": [
              "tensor([[ 9,  6,  6,  9,  4,  5,  6,  2,  3,  6],\n",
              "        [ 1,  1,  4,  5,  1, 10,  8, 10,  0,  7],\n",
              "        [ 4,  2,  1,  4,  2,  8,  2, 10,  9,  4],\n",
              "        [ 6,  1,  2, 10,  9,  8,  0,  8,  8,  1],\n",
              "        [10,  8,  3,  4,  1,  1,  9,  0,  1,  2],\n",
              "        [ 6,  6,  1,  0,  2,  1,  0,  2,  6,  0],\n",
              "        [ 7,  5,  1,  1,  7,  8, 10,  7,  2,  3],\n",
              "        [ 6,  5,  6,  9,  1,  8,  3,  1,  6,  9],\n",
              "        [ 1,  5,  9,  9,  5,  8,  7,  5,  4,  8],\n",
              "        [ 7,  3,  0,  5,  6,  0,  4,  4,  3,  6]])"
            ]
          },
          "metadata": {},
          "execution_count": 9
        }
      ]
    },
    {
      "cell_type": "code",
      "source": [
        "rows = th.arange(0,t.shape[0]-1)"
      ],
      "metadata": {
        "id": "7raa3y5PtS7k"
      },
      "id": "7raa3y5PtS7k",
      "execution_count": 10,
      "outputs": []
    },
    {
      "cell_type": "code",
      "source": [
        "columns = th.arange(t.shape[0] -2 , -1, -1)"
      ],
      "metadata": {
        "id": "pdsq6FMLtS-_"
      },
      "id": "pdsq6FMLtS-_",
      "execution_count": 11,
      "outputs": []
    },
    {
      "cell_type": "code",
      "source": [
        "t[rows,columns]"
      ],
      "metadata": {
        "colab": {
          "base_uri": "https://localhost:8080/"
        },
        "id": "oJmDwMTdr8Z_",
        "outputId": "5a2ba4be-5539-4287-adec-57ea95852b6d"
      },
      "id": "oJmDwMTdr8Z_",
      "execution_count": 12,
      "outputs": [
        {
          "output_type": "execute_result",
          "data": {
            "text/plain": [
              "tensor([ 3, 10,  2,  8,  1,  0,  1,  5,  1])"
            ]
          },
          "metadata": {},
          "execution_count": 12
        }
      ]
    },
    {
      "cell_type": "markdown",
      "id": "4c81e1c1",
      "metadata": {
        "id": "4c81e1c1"
      },
      "source": [
        "<p class=\"task\" id=\"3\"></p>\n",
        "\n",
        "3\\. Создайте двумерный тензор $t$ размерности (5, 5), состоящий из случайных чисел в пределах от 0 до 100. Обнулить все значения в массиве, расположенные вне квадрата размера 3х3 вокруг максимального элемента. Если максимумов несколько, обнулите элементы около любого из них."
      ]
    },
    {
      "cell_type": "code",
      "source": [
        "t = th.randint(0, 101, (5, 5))"
      ],
      "metadata": {
        "id": "W_CUJxj-Kp6Y"
      },
      "id": "W_CUJxj-Kp6Y",
      "execution_count": 13,
      "outputs": []
    },
    {
      "cell_type": "code",
      "source": [
        "t"
      ],
      "metadata": {
        "colab": {
          "base_uri": "https://localhost:8080/"
        },
        "id": "0LUT2rGSKp99",
        "outputId": "c5d978b9-9fdf-4c12-f765-cf97f67ce5d9"
      },
      "id": "0LUT2rGSKp99",
      "execution_count": 14,
      "outputs": [
        {
          "output_type": "execute_result",
          "data": {
            "text/plain": [
              "tensor([[12, 12, 18, 83, 36],\n",
              "        [41, 16,  0, 67, 53],\n",
              "        [25, 66, 52, 95, 52],\n",
              "        [47, 77, 83, 40, 90],\n",
              "        [16, 31, 54, 46, 52]])"
            ]
          },
          "metadata": {},
          "execution_count": 14
        }
      ]
    },
    {
      "cell_type": "code",
      "source": [
        "res = t.clone()"
      ],
      "metadata": {
        "id": "sOZ0vNnshlyV"
      },
      "id": "sOZ0vNnshlyV",
      "execution_count": 15,
      "outputs": []
    },
    {
      "cell_type": "code",
      "source": [
        "max_value = t.max()\n",
        "max_indices = th.where(t == max_value)"
      ],
      "metadata": {
        "id": "1GPMDa-aKqAw"
      },
      "id": "1GPMDa-aKqAw",
      "execution_count": 16,
      "outputs": []
    },
    {
      "cell_type": "code",
      "source": [
        "min_row = max(0, max_indices[0][0].item() - 1)\n",
        "max_row = min(4, max_indices[0][0].item() + 1)\n",
        "min_col = max(0, max_indices[1][0].item() - 1)\n",
        "max_col = min(4, max_indices[1][0].item() + 1)"
      ],
      "metadata": {
        "id": "RvieK_cNy61D"
      },
      "id": "RvieK_cNy61D",
      "execution_count": 17,
      "outputs": []
    },
    {
      "cell_type": "code",
      "source": [
        "mask = th.ones((5, 5), dtype=th.bool)\n",
        "mask[min_row:max_row+1, min_col:max_col+1] = False\n",
        "res[mask] = 0"
      ],
      "metadata": {
        "id": "7jHcVaFhK3pW"
      },
      "id": "7jHcVaFhK3pW",
      "execution_count": 18,
      "outputs": []
    },
    {
      "cell_type": "code",
      "source": [
        "res"
      ],
      "metadata": {
        "colab": {
          "base_uri": "https://localhost:8080/"
        },
        "id": "gWUZlWnVK3ss",
        "outputId": "0c52f0eb-5abb-461f-dc62-3fd87382b694"
      },
      "id": "gWUZlWnVK3ss",
      "execution_count": 19,
      "outputs": [
        {
          "output_type": "execute_result",
          "data": {
            "text/plain": [
              "tensor([[ 0,  0,  0,  0,  0],\n",
              "        [ 0,  0,  0, 67, 53],\n",
              "        [ 0,  0, 52, 95, 52],\n",
              "        [ 0,  0, 83, 40, 90],\n",
              "        [ 0,  0,  0,  0,  0]])"
            ]
          },
          "metadata": {},
          "execution_count": 19
        }
      ]
    },
    {
      "cell_type": "markdown",
      "id": "f68b795c",
      "metadata": {
        "id": "f68b795c"
      },
      "source": [
        "<p class=\"task\" id=\"4\"></p>\n",
        "\n",
        "4\\. Создайте трехмерный массив размерности (2, 5, 5) на основе решения задачи 3 (объедините исходный и результирущий тензор вдоль нулевой оси). Сохраните полученный трехмерный тензор в файл `tensor.pt`. Загрузите полученный тензор и покажите, что все элементы двух тензоров совпадают."
      ]
    },
    {
      "cell_type": "code",
      "source": [
        "t3 = th.stack([t, res], dim=0)"
      ],
      "metadata": {
        "id": "MbVsikdkh7Xf"
      },
      "id": "MbVsikdkh7Xf",
      "execution_count": 20,
      "outputs": []
    },
    {
      "cell_type": "code",
      "source": [
        "t3"
      ],
      "metadata": {
        "colab": {
          "base_uri": "https://localhost:8080/"
        },
        "id": "HnvJf25ciXE6",
        "outputId": "0cd1921f-e2c7-4680-fc4f-2e4e5251ceda"
      },
      "id": "HnvJf25ciXE6",
      "execution_count": 21,
      "outputs": [
        {
          "output_type": "execute_result",
          "data": {
            "text/plain": [
              "tensor([[[12, 12, 18, 83, 36],\n",
              "         [41, 16,  0, 67, 53],\n",
              "         [25, 66, 52, 95, 52],\n",
              "         [47, 77, 83, 40, 90],\n",
              "         [16, 31, 54, 46, 52]],\n",
              "\n",
              "        [[ 0,  0,  0,  0,  0],\n",
              "         [ 0,  0,  0, 67, 53],\n",
              "         [ 0,  0, 52, 95, 52],\n",
              "         [ 0,  0, 83, 40, 90],\n",
              "         [ 0,  0,  0,  0,  0]]])"
            ]
          },
          "metadata": {},
          "execution_count": 21
        }
      ]
    },
    {
      "cell_type": "code",
      "source": [
        "th.save(t3, 'tensor.pt')"
      ],
      "metadata": {
        "id": "jX2Gi7LAiG5d"
      },
      "id": "jX2Gi7LAiG5d",
      "execution_count": 22,
      "outputs": []
    },
    {
      "cell_type": "code",
      "source": [
        "t_load = th.load('tensor.pt')"
      ],
      "metadata": {
        "id": "XFDPbH0Uk5bO"
      },
      "id": "XFDPbH0Uk5bO",
      "execution_count": 23,
      "outputs": []
    },
    {
      "cell_type": "code",
      "source": [
        "t_load == t3"
      ],
      "metadata": {
        "colab": {
          "base_uri": "https://localhost:8080/"
        },
        "id": "uLV8DZEIhuif",
        "outputId": "e3ac34f0-7feb-4563-c420-e45808fcc531"
      },
      "id": "uLV8DZEIhuif",
      "execution_count": 24,
      "outputs": [
        {
          "output_type": "execute_result",
          "data": {
            "text/plain": [
              "tensor([[[True, True, True, True, True],\n",
              "         [True, True, True, True, True],\n",
              "         [True, True, True, True, True],\n",
              "         [True, True, True, True, True],\n",
              "         [True, True, True, True, True]],\n",
              "\n",
              "        [[True, True, True, True, True],\n",
              "         [True, True, True, True, True],\n",
              "         [True, True, True, True, True],\n",
              "         [True, True, True, True, True],\n",
              "         [True, True, True, True, True]]])"
            ]
          },
          "metadata": {},
          "execution_count": 24
        }
      ]
    },
    {
      "cell_type": "markdown",
      "id": "ab2dd4cd",
      "metadata": {
        "id": "ab2dd4cd"
      },
      "source": [
        "<p class=\"task\" id=\"5\"></p>\n",
        "\n",
        "5\\. Создайте четырехмерный массив `t` размерности (2, 3, 5, 5), заполненный случайными целыми числами от 1 до 10 (сами значения должны быть представлены типом float32). Рассчитайте среднее значение для каждого двумерного тензора `t[i, j, :, :]`. Представьте результат в виде трехмерного тензора размера (2, 3, 1)."
      ]
    },
    {
      "cell_type": "code",
      "source": [
        "t = th.randint(1, 11, size=(2, 3, 5, 5), dtype=th.float32)"
      ],
      "metadata": {
        "id": "ROf954uTAHR3"
      },
      "id": "ROf954uTAHR3",
      "execution_count": 25,
      "outputs": []
    },
    {
      "cell_type": "code",
      "source": [
        "mean_values = th.mean(t, dim=(2, 3), keepdim=True)\n",
        "\n",
        "\n",
        "\n",
        "mean_values\n"
      ],
      "metadata": {
        "colab": {
          "base_uri": "https://localhost:8080/"
        },
        "id": "NOyTDJ5Nk5zB",
        "outputId": "a1e85608-1988-4d6b-8e3d-9d8fd4783ed0"
      },
      "id": "NOyTDJ5Nk5zB",
      "execution_count": 26,
      "outputs": [
        {
          "output_type": "execute_result",
          "data": {
            "text/plain": [
              "tensor([[[[4.8400]],\n",
              "\n",
              "         [[5.7600]],\n",
              "\n",
              "         [[5.0400]]],\n",
              "\n",
              "\n",
              "        [[[5.2000]],\n",
              "\n",
              "         [[6.0800]],\n",
              "\n",
              "         [[5.1600]]]])"
            ]
          },
          "metadata": {},
          "execution_count": 26
        }
      ]
    },
    {
      "cell_type": "markdown",
      "id": "0f29b7fa",
      "metadata": {
        "id": "0f29b7fa"
      },
      "source": [
        "<p class=\"task\" id=\"6\"></p>\n",
        "\n",
        "6\\. Создайте одномерный тензор размера `N=100_000_000`, заполненный числами из экспоненциального распредления с параметром $\\lambda=5$. Рассчитайте значения для построения гистограммы при помощи пакета `torch`. Визуализируйте гистограмму. Проверьте возможность использования GPU. При наличии GPU перенесите созданный тензор в память GPU, повторите вычисления. Сравните время расчетом с и без использования GPU."
      ]
    },
    {
      "cell_type": "code",
      "source": [],
      "metadata": {
        "id": "FXb54RnOk6WL"
      },
      "id": "FXb54RnOk6WL",
      "execution_count": 27,
      "outputs": []
    },
    {
      "cell_type": "markdown",
      "id": "590c35a6",
      "metadata": {
        "id": "590c35a6"
      },
      "source": [
        "<p class=\"task\" id=\"7\"></p>\n",
        "\n",
        "7\\. Создайте четырехмерный тензор размера (10, 6, 6, 3), заполненный случайными целыми числами от 0 до 255. Считая, что данный тензор представляет собой батч из 10 картинок размера 6х6 в формате RGB, измените тензор следующим образом. Для оттенков красного обнулите все столбцы, кроме первых двух; для оттенков зеленого обнулите столбцы со второго по четвертый; для оттенков синего обнулите пятый и шестой столбцы. Для выполнения задания используйте механизм распространения."
      ]
    },
    {
      "cell_type": "code",
      "source": [],
      "metadata": {
        "id": "lET_TrnWPFM3"
      },
      "id": "lET_TrnWPFM3",
      "execution_count": null,
      "outputs": []
    },
    {
      "cell_type": "markdown",
      "id": "c87e5d68",
      "metadata": {
        "id": "c87e5d68"
      },
      "source": [
        "## Обратная связь\n",
        "- [ ] Хочу получить обратную связь по решению"
      ]
    },
    {
      "cell_type": "code",
      "execution_count": null,
      "id": "45728f21",
      "metadata": {
        "id": "45728f21"
      },
      "outputs": [],
      "source": []
    }
  ],
  "metadata": {
    "kernelspec": {
      "display_name": "Python 3",
      "name": "python3"
    },
    "language_info": {
      "codemirror_mode": {
        "name": "ipython",
        "version": 3
      },
      "file_extension": ".py",
      "mimetype": "text/x-python",
      "name": "python",
      "nbconvert_exporter": "python",
      "pygments_lexer": "ipython3",
      "version": "3.9.13"
    },
    "colab": {
      "provenance": [],
      "collapsed_sections": [
        "b2e5acce"
      ]
    },
    "accelerator": "TPU"
  },
  "nbformat": 4,
  "nbformat_minor": 5
}