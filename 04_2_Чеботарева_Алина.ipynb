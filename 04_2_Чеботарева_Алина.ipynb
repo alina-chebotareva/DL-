{
  "cells": [
    {
      "cell_type": "markdown",
      "id": "3a564d5f",
      "metadata": {
        "id": "3a564d5f"
      },
      "source": [
        "#  Использование предобученных моделей для классификации изображений\n",
        "\n",
        "__Автор задач: Блохин Н.В. (NVBlokhin@fa.ru)__\n",
        "\n",
        "Материалы:\n",
        "* Deep Learning with PyTorch (2020) Авторы: Eli Stevens, Luca Antiga, Thomas Viehmann\n",
        "* https://pytorch.org/vision/0.16/transforms.html#v2-api-reference-recommended\n",
        "* https://pytorch.org/vision/main/generated/torchvision.datasets.ImageFolder.html\n",
        "* https://pytorch.org/vision/stable/models.html\n",
        "* https://albumentations.ai/docs/getting_started/image_augmentation/"
      ]
    },
    {
      "cell_type": "markdown",
      "id": "c9ecd663",
      "metadata": {
        "id": "c9ecd663"
      },
      "source": [
        "## Задачи для совместного разбора"
      ]
    },
    {
      "cell_type": "markdown",
      "id": "24f6b60d",
      "metadata": {
        "id": "24f6b60d"
      },
      "source": [
        "1\\. Загрузите предобученную модель из `torchvision`. Познакомьтесь с ее архитектурой. Заморозьте веса нескольких слоев."
      ]
    },
    {
      "cell_type": "code",
      "source": [
        "import torchvision\n",
        "import torch as th\n",
        "import torch.nn as nn"
      ],
      "metadata": {
        "id": "gXaS-B117GZa"
      },
      "id": "gXaS-B117GZa",
      "execution_count": 1,
      "outputs": []
    },
    {
      "cell_type": "code",
      "source": [
        "model = torchvision.models.efficientnet_b1(\n",
        "    weights=torchvision.models.EfficientNet_B1_Weights.IMAGENET1K_V1\n",
        ")"
      ],
      "metadata": {
        "id": "EoDDY8Pu7J5U"
      },
      "id": "EoDDY8Pu7J5U",
      "execution_count": 2,
      "outputs": []
    },
    {
      "cell_type": "code",
      "source": [
        "model"
      ],
      "metadata": {
        "id": "K_QFxGco7-Ar",
        "colab": {
          "base_uri": "https://localhost:8080/"
        },
        "outputId": "d01715d8-8681-4bcc-d30d-9d9b74d4ed48"
      },
      "id": "K_QFxGco7-Ar",
      "execution_count": 3,
      "outputs": [
        {
          "output_type": "execute_result",
          "data": {
            "text/plain": [
              "EfficientNet(\n",
              "  (features): Sequential(\n",
              "    (0): Conv2dNormActivation(\n",
              "      (0): Conv2d(3, 32, kernel_size=(3, 3), stride=(2, 2), padding=(1, 1), bias=False)\n",
              "      (1): BatchNorm2d(32, eps=1e-05, momentum=0.1, affine=True, track_running_stats=True)\n",
              "      (2): SiLU(inplace=True)\n",
              "    )\n",
              "    (1): Sequential(\n",
              "      (0): MBConv(\n",
              "        (block): Sequential(\n",
              "          (0): Conv2dNormActivation(\n",
              "            (0): Conv2d(32, 32, kernel_size=(3, 3), stride=(1, 1), padding=(1, 1), groups=32, bias=False)\n",
              "            (1): BatchNorm2d(32, eps=1e-05, momentum=0.1, affine=True, track_running_stats=True)\n",
              "            (2): SiLU(inplace=True)\n",
              "          )\n",
              "          (1): SqueezeExcitation(\n",
              "            (avgpool): AdaptiveAvgPool2d(output_size=1)\n",
              "            (fc1): Conv2d(32, 8, kernel_size=(1, 1), stride=(1, 1))\n",
              "            (fc2): Conv2d(8, 32, kernel_size=(1, 1), stride=(1, 1))\n",
              "            (activation): SiLU(inplace=True)\n",
              "            (scale_activation): Sigmoid()\n",
              "          )\n",
              "          (2): Conv2dNormActivation(\n",
              "            (0): Conv2d(32, 16, kernel_size=(1, 1), stride=(1, 1), bias=False)\n",
              "            (1): BatchNorm2d(16, eps=1e-05, momentum=0.1, affine=True, track_running_stats=True)\n",
              "          )\n",
              "        )\n",
              "        (stochastic_depth): StochasticDepth(p=0.0, mode=row)\n",
              "      )\n",
              "      (1): MBConv(\n",
              "        (block): Sequential(\n",
              "          (0): Conv2dNormActivation(\n",
              "            (0): Conv2d(16, 16, kernel_size=(3, 3), stride=(1, 1), padding=(1, 1), groups=16, bias=False)\n",
              "            (1): BatchNorm2d(16, eps=1e-05, momentum=0.1, affine=True, track_running_stats=True)\n",
              "            (2): SiLU(inplace=True)\n",
              "          )\n",
              "          (1): SqueezeExcitation(\n",
              "            (avgpool): AdaptiveAvgPool2d(output_size=1)\n",
              "            (fc1): Conv2d(16, 4, kernel_size=(1, 1), stride=(1, 1))\n",
              "            (fc2): Conv2d(4, 16, kernel_size=(1, 1), stride=(1, 1))\n",
              "            (activation): SiLU(inplace=True)\n",
              "            (scale_activation): Sigmoid()\n",
              "          )\n",
              "          (2): Conv2dNormActivation(\n",
              "            (0): Conv2d(16, 16, kernel_size=(1, 1), stride=(1, 1), bias=False)\n",
              "            (1): BatchNorm2d(16, eps=1e-05, momentum=0.1, affine=True, track_running_stats=True)\n",
              "          )\n",
              "        )\n",
              "        (stochastic_depth): StochasticDepth(p=0.008695652173913044, mode=row)\n",
              "      )\n",
              "    )\n",
              "    (2): Sequential(\n",
              "      (0): MBConv(\n",
              "        (block): Sequential(\n",
              "          (0): Conv2dNormActivation(\n",
              "            (0): Conv2d(16, 96, kernel_size=(1, 1), stride=(1, 1), bias=False)\n",
              "            (1): BatchNorm2d(96, eps=1e-05, momentum=0.1, affine=True, track_running_stats=True)\n",
              "            (2): SiLU(inplace=True)\n",
              "          )\n",
              "          (1): Conv2dNormActivation(\n",
              "            (0): Conv2d(96, 96, kernel_size=(3, 3), stride=(2, 2), padding=(1, 1), groups=96, bias=False)\n",
              "            (1): BatchNorm2d(96, eps=1e-05, momentum=0.1, affine=True, track_running_stats=True)\n",
              "            (2): SiLU(inplace=True)\n",
              "          )\n",
              "          (2): SqueezeExcitation(\n",
              "            (avgpool): AdaptiveAvgPool2d(output_size=1)\n",
              "            (fc1): Conv2d(96, 4, kernel_size=(1, 1), stride=(1, 1))\n",
              "            (fc2): Conv2d(4, 96, kernel_size=(1, 1), stride=(1, 1))\n",
              "            (activation): SiLU(inplace=True)\n",
              "            (scale_activation): Sigmoid()\n",
              "          )\n",
              "          (3): Conv2dNormActivation(\n",
              "            (0): Conv2d(96, 24, kernel_size=(1, 1), stride=(1, 1), bias=False)\n",
              "            (1): BatchNorm2d(24, eps=1e-05, momentum=0.1, affine=True, track_running_stats=True)\n",
              "          )\n",
              "        )\n",
              "        (stochastic_depth): StochasticDepth(p=0.017391304347826087, mode=row)\n",
              "      )\n",
              "      (1): MBConv(\n",
              "        (block): Sequential(\n",
              "          (0): Conv2dNormActivation(\n",
              "            (0): Conv2d(24, 144, kernel_size=(1, 1), stride=(1, 1), bias=False)\n",
              "            (1): BatchNorm2d(144, eps=1e-05, momentum=0.1, affine=True, track_running_stats=True)\n",
              "            (2): SiLU(inplace=True)\n",
              "          )\n",
              "          (1): Conv2dNormActivation(\n",
              "            (0): Conv2d(144, 144, kernel_size=(3, 3), stride=(1, 1), padding=(1, 1), groups=144, bias=False)\n",
              "            (1): BatchNorm2d(144, eps=1e-05, momentum=0.1, affine=True, track_running_stats=True)\n",
              "            (2): SiLU(inplace=True)\n",
              "          )\n",
              "          (2): SqueezeExcitation(\n",
              "            (avgpool): AdaptiveAvgPool2d(output_size=1)\n",
              "            (fc1): Conv2d(144, 6, kernel_size=(1, 1), stride=(1, 1))\n",
              "            (fc2): Conv2d(6, 144, kernel_size=(1, 1), stride=(1, 1))\n",
              "            (activation): SiLU(inplace=True)\n",
              "            (scale_activation): Sigmoid()\n",
              "          )\n",
              "          (3): Conv2dNormActivation(\n",
              "            (0): Conv2d(144, 24, kernel_size=(1, 1), stride=(1, 1), bias=False)\n",
              "            (1): BatchNorm2d(24, eps=1e-05, momentum=0.1, affine=True, track_running_stats=True)\n",
              "          )\n",
              "        )\n",
              "        (stochastic_depth): StochasticDepth(p=0.026086956521739136, mode=row)\n",
              "      )\n",
              "      (2): MBConv(\n",
              "        (block): Sequential(\n",
              "          (0): Conv2dNormActivation(\n",
              "            (0): Conv2d(24, 144, kernel_size=(1, 1), stride=(1, 1), bias=False)\n",
              "            (1): BatchNorm2d(144, eps=1e-05, momentum=0.1, affine=True, track_running_stats=True)\n",
              "            (2): SiLU(inplace=True)\n",
              "          )\n",
              "          (1): Conv2dNormActivation(\n",
              "            (0): Conv2d(144, 144, kernel_size=(3, 3), stride=(1, 1), padding=(1, 1), groups=144, bias=False)\n",
              "            (1): BatchNorm2d(144, eps=1e-05, momentum=0.1, affine=True, track_running_stats=True)\n",
              "            (2): SiLU(inplace=True)\n",
              "          )\n",
              "          (2): SqueezeExcitation(\n",
              "            (avgpool): AdaptiveAvgPool2d(output_size=1)\n",
              "            (fc1): Conv2d(144, 6, kernel_size=(1, 1), stride=(1, 1))\n",
              "            (fc2): Conv2d(6, 144, kernel_size=(1, 1), stride=(1, 1))\n",
              "            (activation): SiLU(inplace=True)\n",
              "            (scale_activation): Sigmoid()\n",
              "          )\n",
              "          (3): Conv2dNormActivation(\n",
              "            (0): Conv2d(144, 24, kernel_size=(1, 1), stride=(1, 1), bias=False)\n",
              "            (1): BatchNorm2d(24, eps=1e-05, momentum=0.1, affine=True, track_running_stats=True)\n",
              "          )\n",
              "        )\n",
              "        (stochastic_depth): StochasticDepth(p=0.034782608695652174, mode=row)\n",
              "      )\n",
              "    )\n",
              "    (3): Sequential(\n",
              "      (0): MBConv(\n",
              "        (block): Sequential(\n",
              "          (0): Conv2dNormActivation(\n",
              "            (0): Conv2d(24, 144, kernel_size=(1, 1), stride=(1, 1), bias=False)\n",
              "            (1): BatchNorm2d(144, eps=1e-05, momentum=0.1, affine=True, track_running_stats=True)\n",
              "            (2): SiLU(inplace=True)\n",
              "          )\n",
              "          (1): Conv2dNormActivation(\n",
              "            (0): Conv2d(144, 144, kernel_size=(5, 5), stride=(2, 2), padding=(2, 2), groups=144, bias=False)\n",
              "            (1): BatchNorm2d(144, eps=1e-05, momentum=0.1, affine=True, track_running_stats=True)\n",
              "            (2): SiLU(inplace=True)\n",
              "          )\n",
              "          (2): SqueezeExcitation(\n",
              "            (avgpool): AdaptiveAvgPool2d(output_size=1)\n",
              "            (fc1): Conv2d(144, 6, kernel_size=(1, 1), stride=(1, 1))\n",
              "            (fc2): Conv2d(6, 144, kernel_size=(1, 1), stride=(1, 1))\n",
              "            (activation): SiLU(inplace=True)\n",
              "            (scale_activation): Sigmoid()\n",
              "          )\n",
              "          (3): Conv2dNormActivation(\n",
              "            (0): Conv2d(144, 40, kernel_size=(1, 1), stride=(1, 1), bias=False)\n",
              "            (1): BatchNorm2d(40, eps=1e-05, momentum=0.1, affine=True, track_running_stats=True)\n",
              "          )\n",
              "        )\n",
              "        (stochastic_depth): StochasticDepth(p=0.043478260869565216, mode=row)\n",
              "      )\n",
              "      (1): MBConv(\n",
              "        (block): Sequential(\n",
              "          (0): Conv2dNormActivation(\n",
              "            (0): Conv2d(40, 240, kernel_size=(1, 1), stride=(1, 1), bias=False)\n",
              "            (1): BatchNorm2d(240, eps=1e-05, momentum=0.1, affine=True, track_running_stats=True)\n",
              "            (2): SiLU(inplace=True)\n",
              "          )\n",
              "          (1): Conv2dNormActivation(\n",
              "            (0): Conv2d(240, 240, kernel_size=(5, 5), stride=(1, 1), padding=(2, 2), groups=240, bias=False)\n",
              "            (1): BatchNorm2d(240, eps=1e-05, momentum=0.1, affine=True, track_running_stats=True)\n",
              "            (2): SiLU(inplace=True)\n",
              "          )\n",
              "          (2): SqueezeExcitation(\n",
              "            (avgpool): AdaptiveAvgPool2d(output_size=1)\n",
              "            (fc1): Conv2d(240, 10, kernel_size=(1, 1), stride=(1, 1))\n",
              "            (fc2): Conv2d(10, 240, kernel_size=(1, 1), stride=(1, 1))\n",
              "            (activation): SiLU(inplace=True)\n",
              "            (scale_activation): Sigmoid()\n",
              "          )\n",
              "          (3): Conv2dNormActivation(\n",
              "            (0): Conv2d(240, 40, kernel_size=(1, 1), stride=(1, 1), bias=False)\n",
              "            (1): BatchNorm2d(40, eps=1e-05, momentum=0.1, affine=True, track_running_stats=True)\n",
              "          )\n",
              "        )\n",
              "        (stochastic_depth): StochasticDepth(p=0.05217391304347827, mode=row)\n",
              "      )\n",
              "      (2): MBConv(\n",
              "        (block): Sequential(\n",
              "          (0): Conv2dNormActivation(\n",
              "            (0): Conv2d(40, 240, kernel_size=(1, 1), stride=(1, 1), bias=False)\n",
              "            (1): BatchNorm2d(240, eps=1e-05, momentum=0.1, affine=True, track_running_stats=True)\n",
              "            (2): SiLU(inplace=True)\n",
              "          )\n",
              "          (1): Conv2dNormActivation(\n",
              "            (0): Conv2d(240, 240, kernel_size=(5, 5), stride=(1, 1), padding=(2, 2), groups=240, bias=False)\n",
              "            (1): BatchNorm2d(240, eps=1e-05, momentum=0.1, affine=True, track_running_stats=True)\n",
              "            (2): SiLU(inplace=True)\n",
              "          )\n",
              "          (2): SqueezeExcitation(\n",
              "            (avgpool): AdaptiveAvgPool2d(output_size=1)\n",
              "            (fc1): Conv2d(240, 10, kernel_size=(1, 1), stride=(1, 1))\n",
              "            (fc2): Conv2d(10, 240, kernel_size=(1, 1), stride=(1, 1))\n",
              "            (activation): SiLU(inplace=True)\n",
              "            (scale_activation): Sigmoid()\n",
              "          )\n",
              "          (3): Conv2dNormActivation(\n",
              "            (0): Conv2d(240, 40, kernel_size=(1, 1), stride=(1, 1), bias=False)\n",
              "            (1): BatchNorm2d(40, eps=1e-05, momentum=0.1, affine=True, track_running_stats=True)\n",
              "          )\n",
              "        )\n",
              "        (stochastic_depth): StochasticDepth(p=0.06086956521739131, mode=row)\n",
              "      )\n",
              "    )\n",
              "    (4): Sequential(\n",
              "      (0): MBConv(\n",
              "        (block): Sequential(\n",
              "          (0): Conv2dNormActivation(\n",
              "            (0): Conv2d(40, 240, kernel_size=(1, 1), stride=(1, 1), bias=False)\n",
              "            (1): BatchNorm2d(240, eps=1e-05, momentum=0.1, affine=True, track_running_stats=True)\n",
              "            (2): SiLU(inplace=True)\n",
              "          )\n",
              "          (1): Conv2dNormActivation(\n",
              "            (0): Conv2d(240, 240, kernel_size=(3, 3), stride=(2, 2), padding=(1, 1), groups=240, bias=False)\n",
              "            (1): BatchNorm2d(240, eps=1e-05, momentum=0.1, affine=True, track_running_stats=True)\n",
              "            (2): SiLU(inplace=True)\n",
              "          )\n",
              "          (2): SqueezeExcitation(\n",
              "            (avgpool): AdaptiveAvgPool2d(output_size=1)\n",
              "            (fc1): Conv2d(240, 10, kernel_size=(1, 1), stride=(1, 1))\n",
              "            (fc2): Conv2d(10, 240, kernel_size=(1, 1), stride=(1, 1))\n",
              "            (activation): SiLU(inplace=True)\n",
              "            (scale_activation): Sigmoid()\n",
              "          )\n",
              "          (3): Conv2dNormActivation(\n",
              "            (0): Conv2d(240, 80, kernel_size=(1, 1), stride=(1, 1), bias=False)\n",
              "            (1): BatchNorm2d(80, eps=1e-05, momentum=0.1, affine=True, track_running_stats=True)\n",
              "          )\n",
              "        )\n",
              "        (stochastic_depth): StochasticDepth(p=0.06956521739130435, mode=row)\n",
              "      )\n",
              "      (1): MBConv(\n",
              "        (block): Sequential(\n",
              "          (0): Conv2dNormActivation(\n",
              "            (0): Conv2d(80, 480, kernel_size=(1, 1), stride=(1, 1), bias=False)\n",
              "            (1): BatchNorm2d(480, eps=1e-05, momentum=0.1, affine=True, track_running_stats=True)\n",
              "            (2): SiLU(inplace=True)\n",
              "          )\n",
              "          (1): Conv2dNormActivation(\n",
              "            (0): Conv2d(480, 480, kernel_size=(3, 3), stride=(1, 1), padding=(1, 1), groups=480, bias=False)\n",
              "            (1): BatchNorm2d(480, eps=1e-05, momentum=0.1, affine=True, track_running_stats=True)\n",
              "            (2): SiLU(inplace=True)\n",
              "          )\n",
              "          (2): SqueezeExcitation(\n",
              "            (avgpool): AdaptiveAvgPool2d(output_size=1)\n",
              "            (fc1): Conv2d(480, 20, kernel_size=(1, 1), stride=(1, 1))\n",
              "            (fc2): Conv2d(20, 480, kernel_size=(1, 1), stride=(1, 1))\n",
              "            (activation): SiLU(inplace=True)\n",
              "            (scale_activation): Sigmoid()\n",
              "          )\n",
              "          (3): Conv2dNormActivation(\n",
              "            (0): Conv2d(480, 80, kernel_size=(1, 1), stride=(1, 1), bias=False)\n",
              "            (1): BatchNorm2d(80, eps=1e-05, momentum=0.1, affine=True, track_running_stats=True)\n",
              "          )\n",
              "        )\n",
              "        (stochastic_depth): StochasticDepth(p=0.0782608695652174, mode=row)\n",
              "      )\n",
              "      (2): MBConv(\n",
              "        (block): Sequential(\n",
              "          (0): Conv2dNormActivation(\n",
              "            (0): Conv2d(80, 480, kernel_size=(1, 1), stride=(1, 1), bias=False)\n",
              "            (1): BatchNorm2d(480, eps=1e-05, momentum=0.1, affine=True, track_running_stats=True)\n",
              "            (2): SiLU(inplace=True)\n",
              "          )\n",
              "          (1): Conv2dNormActivation(\n",
              "            (0): Conv2d(480, 480, kernel_size=(3, 3), stride=(1, 1), padding=(1, 1), groups=480, bias=False)\n",
              "            (1): BatchNorm2d(480, eps=1e-05, momentum=0.1, affine=True, track_running_stats=True)\n",
              "            (2): SiLU(inplace=True)\n",
              "          )\n",
              "          (2): SqueezeExcitation(\n",
              "            (avgpool): AdaptiveAvgPool2d(output_size=1)\n",
              "            (fc1): Conv2d(480, 20, kernel_size=(1, 1), stride=(1, 1))\n",
              "            (fc2): Conv2d(20, 480, kernel_size=(1, 1), stride=(1, 1))\n",
              "            (activation): SiLU(inplace=True)\n",
              "            (scale_activation): Sigmoid()\n",
              "          )\n",
              "          (3): Conv2dNormActivation(\n",
              "            (0): Conv2d(480, 80, kernel_size=(1, 1), stride=(1, 1), bias=False)\n",
              "            (1): BatchNorm2d(80, eps=1e-05, momentum=0.1, affine=True, track_running_stats=True)\n",
              "          )\n",
              "        )\n",
              "        (stochastic_depth): StochasticDepth(p=0.08695652173913043, mode=row)\n",
              "      )\n",
              "      (3): MBConv(\n",
              "        (block): Sequential(\n",
              "          (0): Conv2dNormActivation(\n",
              "            (0): Conv2d(80, 480, kernel_size=(1, 1), stride=(1, 1), bias=False)\n",
              "            (1): BatchNorm2d(480, eps=1e-05, momentum=0.1, affine=True, track_running_stats=True)\n",
              "            (2): SiLU(inplace=True)\n",
              "          )\n",
              "          (1): Conv2dNormActivation(\n",
              "            (0): Conv2d(480, 480, kernel_size=(3, 3), stride=(1, 1), padding=(1, 1), groups=480, bias=False)\n",
              "            (1): BatchNorm2d(480, eps=1e-05, momentum=0.1, affine=True, track_running_stats=True)\n",
              "            (2): SiLU(inplace=True)\n",
              "          )\n",
              "          (2): SqueezeExcitation(\n",
              "            (avgpool): AdaptiveAvgPool2d(output_size=1)\n",
              "            (fc1): Conv2d(480, 20, kernel_size=(1, 1), stride=(1, 1))\n",
              "            (fc2): Conv2d(20, 480, kernel_size=(1, 1), stride=(1, 1))\n",
              "            (activation): SiLU(inplace=True)\n",
              "            (scale_activation): Sigmoid()\n",
              "          )\n",
              "          (3): Conv2dNormActivation(\n",
              "            (0): Conv2d(480, 80, kernel_size=(1, 1), stride=(1, 1), bias=False)\n",
              "            (1): BatchNorm2d(80, eps=1e-05, momentum=0.1, affine=True, track_running_stats=True)\n",
              "          )\n",
              "        )\n",
              "        (stochastic_depth): StochasticDepth(p=0.09565217391304348, mode=row)\n",
              "      )\n",
              "    )\n",
              "    (5): Sequential(\n",
              "      (0): MBConv(\n",
              "        (block): Sequential(\n",
              "          (0): Conv2dNormActivation(\n",
              "            (0): Conv2d(80, 480, kernel_size=(1, 1), stride=(1, 1), bias=False)\n",
              "            (1): BatchNorm2d(480, eps=1e-05, momentum=0.1, affine=True, track_running_stats=True)\n",
              "            (2): SiLU(inplace=True)\n",
              "          )\n",
              "          (1): Conv2dNormActivation(\n",
              "            (0): Conv2d(480, 480, kernel_size=(5, 5), stride=(1, 1), padding=(2, 2), groups=480, bias=False)\n",
              "            (1): BatchNorm2d(480, eps=1e-05, momentum=0.1, affine=True, track_running_stats=True)\n",
              "            (2): SiLU(inplace=True)\n",
              "          )\n",
              "          (2): SqueezeExcitation(\n",
              "            (avgpool): AdaptiveAvgPool2d(output_size=1)\n",
              "            (fc1): Conv2d(480, 20, kernel_size=(1, 1), stride=(1, 1))\n",
              "            (fc2): Conv2d(20, 480, kernel_size=(1, 1), stride=(1, 1))\n",
              "            (activation): SiLU(inplace=True)\n",
              "            (scale_activation): Sigmoid()\n",
              "          )\n",
              "          (3): Conv2dNormActivation(\n",
              "            (0): Conv2d(480, 112, kernel_size=(1, 1), stride=(1, 1), bias=False)\n",
              "            (1): BatchNorm2d(112, eps=1e-05, momentum=0.1, affine=True, track_running_stats=True)\n",
              "          )\n",
              "        )\n",
              "        (stochastic_depth): StochasticDepth(p=0.10434782608695654, mode=row)\n",
              "      )\n",
              "      (1): MBConv(\n",
              "        (block): Sequential(\n",
              "          (0): Conv2dNormActivation(\n",
              "            (0): Conv2d(112, 672, kernel_size=(1, 1), stride=(1, 1), bias=False)\n",
              "            (1): BatchNorm2d(672, eps=1e-05, momentum=0.1, affine=True, track_running_stats=True)\n",
              "            (2): SiLU(inplace=True)\n",
              "          )\n",
              "          (1): Conv2dNormActivation(\n",
              "            (0): Conv2d(672, 672, kernel_size=(5, 5), stride=(1, 1), padding=(2, 2), groups=672, bias=False)\n",
              "            (1): BatchNorm2d(672, eps=1e-05, momentum=0.1, affine=True, track_running_stats=True)\n",
              "            (2): SiLU(inplace=True)\n",
              "          )\n",
              "          (2): SqueezeExcitation(\n",
              "            (avgpool): AdaptiveAvgPool2d(output_size=1)\n",
              "            (fc1): Conv2d(672, 28, kernel_size=(1, 1), stride=(1, 1))\n",
              "            (fc2): Conv2d(28, 672, kernel_size=(1, 1), stride=(1, 1))\n",
              "            (activation): SiLU(inplace=True)\n",
              "            (scale_activation): Sigmoid()\n",
              "          )\n",
              "          (3): Conv2dNormActivation(\n",
              "            (0): Conv2d(672, 112, kernel_size=(1, 1), stride=(1, 1), bias=False)\n",
              "            (1): BatchNorm2d(112, eps=1e-05, momentum=0.1, affine=True, track_running_stats=True)\n",
              "          )\n",
              "        )\n",
              "        (stochastic_depth): StochasticDepth(p=0.11304347826086956, mode=row)\n",
              "      )\n",
              "      (2): MBConv(\n",
              "        (block): Sequential(\n",
              "          (0): Conv2dNormActivation(\n",
              "            (0): Conv2d(112, 672, kernel_size=(1, 1), stride=(1, 1), bias=False)\n",
              "            (1): BatchNorm2d(672, eps=1e-05, momentum=0.1, affine=True, track_running_stats=True)\n",
              "            (2): SiLU(inplace=True)\n",
              "          )\n",
              "          (1): Conv2dNormActivation(\n",
              "            (0): Conv2d(672, 672, kernel_size=(5, 5), stride=(1, 1), padding=(2, 2), groups=672, bias=False)\n",
              "            (1): BatchNorm2d(672, eps=1e-05, momentum=0.1, affine=True, track_running_stats=True)\n",
              "            (2): SiLU(inplace=True)\n",
              "          )\n",
              "          (2): SqueezeExcitation(\n",
              "            (avgpool): AdaptiveAvgPool2d(output_size=1)\n",
              "            (fc1): Conv2d(672, 28, kernel_size=(1, 1), stride=(1, 1))\n",
              "            (fc2): Conv2d(28, 672, kernel_size=(1, 1), stride=(1, 1))\n",
              "            (activation): SiLU(inplace=True)\n",
              "            (scale_activation): Sigmoid()\n",
              "          )\n",
              "          (3): Conv2dNormActivation(\n",
              "            (0): Conv2d(672, 112, kernel_size=(1, 1), stride=(1, 1), bias=False)\n",
              "            (1): BatchNorm2d(112, eps=1e-05, momentum=0.1, affine=True, track_running_stats=True)\n",
              "          )\n",
              "        )\n",
              "        (stochastic_depth): StochasticDepth(p=0.12173913043478261, mode=row)\n",
              "      )\n",
              "      (3): MBConv(\n",
              "        (block): Sequential(\n",
              "          (0): Conv2dNormActivation(\n",
              "            (0): Conv2d(112, 672, kernel_size=(1, 1), stride=(1, 1), bias=False)\n",
              "            (1): BatchNorm2d(672, eps=1e-05, momentum=0.1, affine=True, track_running_stats=True)\n",
              "            (2): SiLU(inplace=True)\n",
              "          )\n",
              "          (1): Conv2dNormActivation(\n",
              "            (0): Conv2d(672, 672, kernel_size=(5, 5), stride=(1, 1), padding=(2, 2), groups=672, bias=False)\n",
              "            (1): BatchNorm2d(672, eps=1e-05, momentum=0.1, affine=True, track_running_stats=True)\n",
              "            (2): SiLU(inplace=True)\n",
              "          )\n",
              "          (2): SqueezeExcitation(\n",
              "            (avgpool): AdaptiveAvgPool2d(output_size=1)\n",
              "            (fc1): Conv2d(672, 28, kernel_size=(1, 1), stride=(1, 1))\n",
              "            (fc2): Conv2d(28, 672, kernel_size=(1, 1), stride=(1, 1))\n",
              "            (activation): SiLU(inplace=True)\n",
              "            (scale_activation): Sigmoid()\n",
              "          )\n",
              "          (3): Conv2dNormActivation(\n",
              "            (0): Conv2d(672, 112, kernel_size=(1, 1), stride=(1, 1), bias=False)\n",
              "            (1): BatchNorm2d(112, eps=1e-05, momentum=0.1, affine=True, track_running_stats=True)\n",
              "          )\n",
              "        )\n",
              "        (stochastic_depth): StochasticDepth(p=0.13043478260869565, mode=row)\n",
              "      )\n",
              "    )\n",
              "    (6): Sequential(\n",
              "      (0): MBConv(\n",
              "        (block): Sequential(\n",
              "          (0): Conv2dNormActivation(\n",
              "            (0): Conv2d(112, 672, kernel_size=(1, 1), stride=(1, 1), bias=False)\n",
              "            (1): BatchNorm2d(672, eps=1e-05, momentum=0.1, affine=True, track_running_stats=True)\n",
              "            (2): SiLU(inplace=True)\n",
              "          )\n",
              "          (1): Conv2dNormActivation(\n",
              "            (0): Conv2d(672, 672, kernel_size=(5, 5), stride=(2, 2), padding=(2, 2), groups=672, bias=False)\n",
              "            (1): BatchNorm2d(672, eps=1e-05, momentum=0.1, affine=True, track_running_stats=True)\n",
              "            (2): SiLU(inplace=True)\n",
              "          )\n",
              "          (2): SqueezeExcitation(\n",
              "            (avgpool): AdaptiveAvgPool2d(output_size=1)\n",
              "            (fc1): Conv2d(672, 28, kernel_size=(1, 1), stride=(1, 1))\n",
              "            (fc2): Conv2d(28, 672, kernel_size=(1, 1), stride=(1, 1))\n",
              "            (activation): SiLU(inplace=True)\n",
              "            (scale_activation): Sigmoid()\n",
              "          )\n",
              "          (3): Conv2dNormActivation(\n",
              "            (0): Conv2d(672, 192, kernel_size=(1, 1), stride=(1, 1), bias=False)\n",
              "            (1): BatchNorm2d(192, eps=1e-05, momentum=0.1, affine=True, track_running_stats=True)\n",
              "          )\n",
              "        )\n",
              "        (stochastic_depth): StochasticDepth(p=0.1391304347826087, mode=row)\n",
              "      )\n",
              "      (1): MBConv(\n",
              "        (block): Sequential(\n",
              "          (0): Conv2dNormActivation(\n",
              "            (0): Conv2d(192, 1152, kernel_size=(1, 1), stride=(1, 1), bias=False)\n",
              "            (1): BatchNorm2d(1152, eps=1e-05, momentum=0.1, affine=True, track_running_stats=True)\n",
              "            (2): SiLU(inplace=True)\n",
              "          )\n",
              "          (1): Conv2dNormActivation(\n",
              "            (0): Conv2d(1152, 1152, kernel_size=(5, 5), stride=(1, 1), padding=(2, 2), groups=1152, bias=False)\n",
              "            (1): BatchNorm2d(1152, eps=1e-05, momentum=0.1, affine=True, track_running_stats=True)\n",
              "            (2): SiLU(inplace=True)\n",
              "          )\n",
              "          (2): SqueezeExcitation(\n",
              "            (avgpool): AdaptiveAvgPool2d(output_size=1)\n",
              "            (fc1): Conv2d(1152, 48, kernel_size=(1, 1), stride=(1, 1))\n",
              "            (fc2): Conv2d(48, 1152, kernel_size=(1, 1), stride=(1, 1))\n",
              "            (activation): SiLU(inplace=True)\n",
              "            (scale_activation): Sigmoid()\n",
              "          )\n",
              "          (3): Conv2dNormActivation(\n",
              "            (0): Conv2d(1152, 192, kernel_size=(1, 1), stride=(1, 1), bias=False)\n",
              "            (1): BatchNorm2d(192, eps=1e-05, momentum=0.1, affine=True, track_running_stats=True)\n",
              "          )\n",
              "        )\n",
              "        (stochastic_depth): StochasticDepth(p=0.14782608695652175, mode=row)\n",
              "      )\n",
              "      (2): MBConv(\n",
              "        (block): Sequential(\n",
              "          (0): Conv2dNormActivation(\n",
              "            (0): Conv2d(192, 1152, kernel_size=(1, 1), stride=(1, 1), bias=False)\n",
              "            (1): BatchNorm2d(1152, eps=1e-05, momentum=0.1, affine=True, track_running_stats=True)\n",
              "            (2): SiLU(inplace=True)\n",
              "          )\n",
              "          (1): Conv2dNormActivation(\n",
              "            (0): Conv2d(1152, 1152, kernel_size=(5, 5), stride=(1, 1), padding=(2, 2), groups=1152, bias=False)\n",
              "            (1): BatchNorm2d(1152, eps=1e-05, momentum=0.1, affine=True, track_running_stats=True)\n",
              "            (2): SiLU(inplace=True)\n",
              "          )\n",
              "          (2): SqueezeExcitation(\n",
              "            (avgpool): AdaptiveAvgPool2d(output_size=1)\n",
              "            (fc1): Conv2d(1152, 48, kernel_size=(1, 1), stride=(1, 1))\n",
              "            (fc2): Conv2d(48, 1152, kernel_size=(1, 1), stride=(1, 1))\n",
              "            (activation): SiLU(inplace=True)\n",
              "            (scale_activation): Sigmoid()\n",
              "          )\n",
              "          (3): Conv2dNormActivation(\n",
              "            (0): Conv2d(1152, 192, kernel_size=(1, 1), stride=(1, 1), bias=False)\n",
              "            (1): BatchNorm2d(192, eps=1e-05, momentum=0.1, affine=True, track_running_stats=True)\n",
              "          )\n",
              "        )\n",
              "        (stochastic_depth): StochasticDepth(p=0.1565217391304348, mode=row)\n",
              "      )\n",
              "      (3): MBConv(\n",
              "        (block): Sequential(\n",
              "          (0): Conv2dNormActivation(\n",
              "            (0): Conv2d(192, 1152, kernel_size=(1, 1), stride=(1, 1), bias=False)\n",
              "            (1): BatchNorm2d(1152, eps=1e-05, momentum=0.1, affine=True, track_running_stats=True)\n",
              "            (2): SiLU(inplace=True)\n",
              "          )\n",
              "          (1): Conv2dNormActivation(\n",
              "            (0): Conv2d(1152, 1152, kernel_size=(5, 5), stride=(1, 1), padding=(2, 2), groups=1152, bias=False)\n",
              "            (1): BatchNorm2d(1152, eps=1e-05, momentum=0.1, affine=True, track_running_stats=True)\n",
              "            (2): SiLU(inplace=True)\n",
              "          )\n",
              "          (2): SqueezeExcitation(\n",
              "            (avgpool): AdaptiveAvgPool2d(output_size=1)\n",
              "            (fc1): Conv2d(1152, 48, kernel_size=(1, 1), stride=(1, 1))\n",
              "            (fc2): Conv2d(48, 1152, kernel_size=(1, 1), stride=(1, 1))\n",
              "            (activation): SiLU(inplace=True)\n",
              "            (scale_activation): Sigmoid()\n",
              "          )\n",
              "          (3): Conv2dNormActivation(\n",
              "            (0): Conv2d(1152, 192, kernel_size=(1, 1), stride=(1, 1), bias=False)\n",
              "            (1): BatchNorm2d(192, eps=1e-05, momentum=0.1, affine=True, track_running_stats=True)\n",
              "          )\n",
              "        )\n",
              "        (stochastic_depth): StochasticDepth(p=0.16521739130434784, mode=row)\n",
              "      )\n",
              "      (4): MBConv(\n",
              "        (block): Sequential(\n",
              "          (0): Conv2dNormActivation(\n",
              "            (0): Conv2d(192, 1152, kernel_size=(1, 1), stride=(1, 1), bias=False)\n",
              "            (1): BatchNorm2d(1152, eps=1e-05, momentum=0.1, affine=True, track_running_stats=True)\n",
              "            (2): SiLU(inplace=True)\n",
              "          )\n",
              "          (1): Conv2dNormActivation(\n",
              "            (0): Conv2d(1152, 1152, kernel_size=(5, 5), stride=(1, 1), padding=(2, 2), groups=1152, bias=False)\n",
              "            (1): BatchNorm2d(1152, eps=1e-05, momentum=0.1, affine=True, track_running_stats=True)\n",
              "            (2): SiLU(inplace=True)\n",
              "          )\n",
              "          (2): SqueezeExcitation(\n",
              "            (avgpool): AdaptiveAvgPool2d(output_size=1)\n",
              "            (fc1): Conv2d(1152, 48, kernel_size=(1, 1), stride=(1, 1))\n",
              "            (fc2): Conv2d(48, 1152, kernel_size=(1, 1), stride=(1, 1))\n",
              "            (activation): SiLU(inplace=True)\n",
              "            (scale_activation): Sigmoid()\n",
              "          )\n",
              "          (3): Conv2dNormActivation(\n",
              "            (0): Conv2d(1152, 192, kernel_size=(1, 1), stride=(1, 1), bias=False)\n",
              "            (1): BatchNorm2d(192, eps=1e-05, momentum=0.1, affine=True, track_running_stats=True)\n",
              "          )\n",
              "        )\n",
              "        (stochastic_depth): StochasticDepth(p=0.17391304347826086, mode=row)\n",
              "      )\n",
              "    )\n",
              "    (7): Sequential(\n",
              "      (0): MBConv(\n",
              "        (block): Sequential(\n",
              "          (0): Conv2dNormActivation(\n",
              "            (0): Conv2d(192, 1152, kernel_size=(1, 1), stride=(1, 1), bias=False)\n",
              "            (1): BatchNorm2d(1152, eps=1e-05, momentum=0.1, affine=True, track_running_stats=True)\n",
              "            (2): SiLU(inplace=True)\n",
              "          )\n",
              "          (1): Conv2dNormActivation(\n",
              "            (0): Conv2d(1152, 1152, kernel_size=(3, 3), stride=(1, 1), padding=(1, 1), groups=1152, bias=False)\n",
              "            (1): BatchNorm2d(1152, eps=1e-05, momentum=0.1, affine=True, track_running_stats=True)\n",
              "            (2): SiLU(inplace=True)\n",
              "          )\n",
              "          (2): SqueezeExcitation(\n",
              "            (avgpool): AdaptiveAvgPool2d(output_size=1)\n",
              "            (fc1): Conv2d(1152, 48, kernel_size=(1, 1), stride=(1, 1))\n",
              "            (fc2): Conv2d(48, 1152, kernel_size=(1, 1), stride=(1, 1))\n",
              "            (activation): SiLU(inplace=True)\n",
              "            (scale_activation): Sigmoid()\n",
              "          )\n",
              "          (3): Conv2dNormActivation(\n",
              "            (0): Conv2d(1152, 320, kernel_size=(1, 1), stride=(1, 1), bias=False)\n",
              "            (1): BatchNorm2d(320, eps=1e-05, momentum=0.1, affine=True, track_running_stats=True)\n",
              "          )\n",
              "        )\n",
              "        (stochastic_depth): StochasticDepth(p=0.1826086956521739, mode=row)\n",
              "      )\n",
              "      (1): MBConv(\n",
              "        (block): Sequential(\n",
              "          (0): Conv2dNormActivation(\n",
              "            (0): Conv2d(320, 1920, kernel_size=(1, 1), stride=(1, 1), bias=False)\n",
              "            (1): BatchNorm2d(1920, eps=1e-05, momentum=0.1, affine=True, track_running_stats=True)\n",
              "            (2): SiLU(inplace=True)\n",
              "          )\n",
              "          (1): Conv2dNormActivation(\n",
              "            (0): Conv2d(1920, 1920, kernel_size=(3, 3), stride=(1, 1), padding=(1, 1), groups=1920, bias=False)\n",
              "            (1): BatchNorm2d(1920, eps=1e-05, momentum=0.1, affine=True, track_running_stats=True)\n",
              "            (2): SiLU(inplace=True)\n",
              "          )\n",
              "          (2): SqueezeExcitation(\n",
              "            (avgpool): AdaptiveAvgPool2d(output_size=1)\n",
              "            (fc1): Conv2d(1920, 80, kernel_size=(1, 1), stride=(1, 1))\n",
              "            (fc2): Conv2d(80, 1920, kernel_size=(1, 1), stride=(1, 1))\n",
              "            (activation): SiLU(inplace=True)\n",
              "            (scale_activation): Sigmoid()\n",
              "          )\n",
              "          (3): Conv2dNormActivation(\n",
              "            (0): Conv2d(1920, 320, kernel_size=(1, 1), stride=(1, 1), bias=False)\n",
              "            (1): BatchNorm2d(320, eps=1e-05, momentum=0.1, affine=True, track_running_stats=True)\n",
              "          )\n",
              "        )\n",
              "        (stochastic_depth): StochasticDepth(p=0.19130434782608696, mode=row)\n",
              "      )\n",
              "    )\n",
              "    (8): Conv2dNormActivation(\n",
              "      (0): Conv2d(320, 1280, kernel_size=(1, 1), stride=(1, 1), bias=False)\n",
              "      (1): BatchNorm2d(1280, eps=1e-05, momentum=0.1, affine=True, track_running_stats=True)\n",
              "      (2): SiLU(inplace=True)\n",
              "    )\n",
              "  )\n",
              "  (avgpool): AdaptiveAvgPool2d(output_size=1)\n",
              "  (classifier): Sequential(\n",
              "    (0): Dropout(p=0.2, inplace=True)\n",
              "    (1): Linear(in_features=1280, out_features=1000, bias=True)\n",
              "  )\n",
              ")"
            ]
          },
          "metadata": {},
          "execution_count": 3
        }
      ]
    },
    {
      "cell_type": "code",
      "source": [
        "# model.classifier[1] = nn.Linear(in_features=1280, out_features=5)\n",
        "\n",
        "model.classifier = nn.Sequential(\n",
        "    nn.Linear(in_features=1280, out_features=1024*1024),\n",
        "    nn.ReLU(),\n",
        "    nn.Linear(in_features=1024*1024, out_features=5),\n",
        ")"
      ],
      "metadata": {
        "id": "-dBcOPr68aUX"
      },
      "id": "-dBcOPr68aUX",
      "execution_count": 4,
      "outputs": []
    },
    {
      "cell_type": "code",
      "source": [
        "model.classifier"
      ],
      "metadata": {
        "colab": {
          "base_uri": "https://localhost:8080/"
        },
        "id": "qDfk7rZI8t5K",
        "outputId": "58d4cbc1-a819-4bcf-fb4a-ce6b92ec732e"
      },
      "id": "qDfk7rZI8t5K",
      "execution_count": 5,
      "outputs": [
        {
          "output_type": "execute_result",
          "data": {
            "text/plain": [
              "Sequential(\n",
              "  (0): Linear(in_features=1280, out_features=1048576, bias=True)\n",
              "  (1): ReLU()\n",
              "  (2): Linear(in_features=1048576, out_features=5, bias=True)\n",
              ")"
            ]
          },
          "metadata": {},
          "execution_count": 5
        }
      ]
    },
    {
      "cell_type": "code",
      "source": [
        "model.features[0][0].weight.requires_grad"
      ],
      "metadata": {
        "colab": {
          "base_uri": "https://localhost:8080/"
        },
        "id": "V3-Xu1z887Eu",
        "outputId": "88a15b80-ba8c-42cb-c2e6-3937bf88d85c"
      },
      "id": "V3-Xu1z887Eu",
      "execution_count": 6,
      "outputs": [
        {
          "output_type": "execute_result",
          "data": {
            "text/plain": [
              "True"
            ]
          },
          "metadata": {},
          "execution_count": 6
        }
      ]
    },
    {
      "cell_type": "code",
      "source": [
        "model.features[0][0].weight.requires_grad_(False)"
      ],
      "metadata": {
        "id": "XkY8kFx79lwU",
        "colab": {
          "base_uri": "https://localhost:8080/"
        },
        "outputId": "99b1ace4-94f6-4882-8e28-88db80a7be36"
      },
      "id": "XkY8kFx79lwU",
      "execution_count": 7,
      "outputs": [
        {
          "output_type": "execute_result",
          "data": {
            "text/plain": [
              "Parameter containing:\n",
              "tensor([[[[ 3.8642e-01,  1.2241e-01,  5.0212e-01],\n",
              "          [ 3.4997e-01,  1.1550e-01,  3.8508e-01],\n",
              "          [ 3.8387e-01,  2.2056e-01,  9.6468e-02]],\n",
              "\n",
              "         [[ 4.0602e-01,  5.6148e-01, -2.2251e-01],\n",
              "          [ 1.4863e-01,  3.9573e-01, -1.5376e-01],\n",
              "          [-4.0972e-01, -2.2052e-01, -3.6777e-01]],\n",
              "\n",
              "         [[-1.3333e-01,  2.5190e-01, -1.4265e-01],\n",
              "          [-2.0382e-01,  1.1603e-01, -9.3522e-02],\n",
              "          [-8.1681e-02,  3.6629e-02,  9.3803e-02]]],\n",
              "\n",
              "\n",
              "        [[[-6.9058e-02,  2.8358e-01, -2.4048e-01],\n",
              "          [-5.1645e-02,  6.1927e-01, -5.3088e-01],\n",
              "          [-1.1722e-02,  2.8499e-01, -3.0543e-01]],\n",
              "\n",
              "         [[-3.0572e-02,  4.9295e-01, -4.7230e-01],\n",
              "          [-3.8374e-02,  1.0284e+00, -9.7627e-01],\n",
              "          [ 3.5327e-02,  4.7342e-01, -4.9546e-01]],\n",
              "\n",
              "         [[-3.1007e-02,  1.1951e-01, -7.2655e-02],\n",
              "          [-7.1973e-02,  3.3143e-01, -2.7283e-01],\n",
              "          [ 2.4259e-02,  8.3443e-02, -1.4971e-01]]],\n",
              "\n",
              "\n",
              "        [[[ 2.0461e-01, -6.1518e-02,  9.1279e-02],\n",
              "          [-1.8198e-01, -5.3110e-01,  6.7361e-02],\n",
              "          [ 1.1345e-01, -8.5406e-02,  4.8096e-02]],\n",
              "\n",
              "         [[-1.4580e-01, -2.7701e-01, -7.1097e-02],\n",
              "          [-2.6481e-01, -4.3660e-01,  3.5552e-02],\n",
              "          [-4.4251e-04, -1.0774e-01,  2.0507e-02]],\n",
              "\n",
              "         [[ 1.3563e-02, -4.0687e-02,  4.2063e-02],\n",
              "          [-1.1624e-01, -2.0697e-01,  7.3977e-02],\n",
              "          [ 6.6678e-02,  4.7623e-03,  4.2345e-02]]],\n",
              "\n",
              "\n",
              "        [[[ 1.5384e-01,  5.4341e-01,  4.4364e-02],\n",
              "          [ 6.3022e-01,  2.0474e+00,  6.1920e-01],\n",
              "          [ 3.7199e-01,  1.5078e+00,  5.5816e-01]],\n",
              "\n",
              "         [[-1.8568e-01, -3.0848e-01, -1.1297e-01],\n",
              "          [-3.5199e-01, -7.1416e-01, -4.0234e-01],\n",
              "          [-2.3826e-01, -4.9809e-01, -2.8328e-01]],\n",
              "\n",
              "         [[ 2.0091e-02, -1.6377e-01,  4.9735e-02],\n",
              "          [-2.3268e-01, -1.1915e+00, -2.6464e-01],\n",
              "          [-1.5272e-01, -9.0797e-01, -2.2303e-01]]],\n",
              "\n",
              "\n",
              "        [[[ 1.0816e-01, -6.8590e-02,  1.2958e-01],\n",
              "          [ 6.6136e-02, -1.6301e-01,  6.4563e-02],\n",
              "          [ 1.1522e-01, -4.8972e-03,  7.2950e-02]],\n",
              "\n",
              "         [[-1.7709e-01, -4.7609e-01, -3.2888e-01],\n",
              "          [-4.9221e-01, -8.4999e-01, -5.9019e-01],\n",
              "          [-3.3001e-01, -6.6008e-01, -4.4846e-01]],\n",
              "\n",
              "         [[ 1.8738e-01,  4.7651e-01,  3.2317e-01],\n",
              "          [ 2.6557e-01,  7.1659e-01,  4.7534e-01],\n",
              "          [ 3.9136e-01,  6.9456e-01,  4.9557e-01]]],\n",
              "\n",
              "\n",
              "        [[[ 6.9948e-01,  8.8175e-01,  2.8464e-02],\n",
              "          [-9.4758e-01, -9.3174e-01, -2.9358e-01],\n",
              "          [ 2.2530e-01,  1.7267e-01,  1.6615e-01]],\n",
              "\n",
              "         [[ 1.1669e+00,  1.5096e+00,  2.0082e-01],\n",
              "          [-1.5248e+00, -1.6459e+00, -4.8787e-01],\n",
              "          [ 2.8118e-01,  2.1306e-01,  2.4905e-01]],\n",
              "\n",
              "         [[ 4.5855e-01,  5.8793e-01,  3.4743e-02],\n",
              "          [-6.0267e-01, -5.3623e-01, -2.3957e-01],\n",
              "          [ 1.3126e-01,  1.5412e-01,  5.9028e-02]]],\n",
              "\n",
              "\n",
              "        [[[ 3.5274e-01, -5.4982e-01,  1.9039e-01],\n",
              "          [ 1.0997e+00, -1.1626e+00,  1.1281e-01],\n",
              "          [ 4.7042e-01, -5.8844e-01,  1.0782e-01]],\n",
              "\n",
              "         [[ 8.0365e-01, -1.0005e+00,  2.6135e-01],\n",
              "          [ 1.8770e+00, -1.9250e+00,  1.1972e-01],\n",
              "          [ 6.6886e-01, -8.5609e-01,  1.2675e-01]],\n",
              "\n",
              "         [[ 2.7460e-01, -3.9711e-01,  1.1128e-01],\n",
              "          [ 6.8280e-01, -8.0132e-01,  4.5575e-02],\n",
              "          [ 3.4893e-01, -3.6840e-01,  7.5268e-02]]],\n",
              "\n",
              "\n",
              "        [[[-2.2006e-01,  3.7219e-01,  5.5754e-02],\n",
              "          [-1.1193e-01,  3.1736e-01, -1.1019e-01],\n",
              "          [ 1.2395e-01,  3.4559e-01,  1.1167e-02]],\n",
              "\n",
              "         [[-1.8460e-01,  5.0527e-01,  7.2048e-02],\n",
              "          [-1.1564e-01,  2.5440e-01, -2.7212e-01],\n",
              "          [ 2.4265e-01,  4.3687e-01, -3.7690e-02]],\n",
              "\n",
              "         [[-1.3984e-01,  2.6479e-01,  7.8790e-03],\n",
              "          [-1.0739e-01,  1.8540e-01, -1.1985e-01],\n",
              "          [ 1.4977e-01,  3.1103e-01,  9.2341e-02]]],\n",
              "\n",
              "\n",
              "        [[[-2.4120e-01, -2.0788e-01, -9.3013e-02],\n",
              "          [-3.0841e-01, -3.4335e-01, -1.9637e-01],\n",
              "          [-2.5711e-01, -1.9648e-01, -5.6452e-02]],\n",
              "\n",
              "         [[-5.3382e-02,  1.1507e-03, -2.3421e-03],\n",
              "          [-2.4121e-02,  1.0539e-01,  5.7824e-02],\n",
              "          [-1.2251e-01,  4.7059e-02,  9.0531e-02]],\n",
              "\n",
              "         [[ 1.6818e-01,  2.6370e-01,  1.2762e-01],\n",
              "          [ 3.3614e-01,  6.4715e-01,  3.2670e-01],\n",
              "          [ 1.9470e-01,  4.7382e-01,  3.1004e-01]]],\n",
              "\n",
              "\n",
              "        [[[-2.9360e-01, -6.1021e-01,  4.3534e-02],\n",
              "          [-1.2628e-01, -3.6993e-01,  1.8038e-02],\n",
              "          [ 6.0076e-02,  1.1647e-02,  3.4437e-02]],\n",
              "\n",
              "         [[-3.1672e-01, -2.9090e-01, -1.4529e-01],\n",
              "          [-9.4257e-02, -9.3024e-02, -3.7685e-02],\n",
              "          [-1.3249e-01, -5.3873e-02, -7.4538e-02]],\n",
              "\n",
              "         [[-2.2024e-01, -3.7993e-01,  7.1308e-02],\n",
              "          [-3.0850e-02, -2.2159e-01,  4.8473e-02],\n",
              "          [ 3.8167e-02,  4.0285e-02,  8.3913e-02]]],\n",
              "\n",
              "\n",
              "        [[[ 1.1321e-01, -7.2940e-02, -2.1619e-01],\n",
              "          [ 7.9953e-01,  3.1628e-01,  3.6656e-02],\n",
              "          [ 5.1930e-02, -9.4365e-02, -1.8477e-01]],\n",
              "\n",
              "         [[ 1.0866e-01,  6.9801e-02,  1.9569e-01],\n",
              "          [ 5.7395e-01,  1.8464e-01,  3.2324e-01],\n",
              "          [ 1.7235e-01,  8.9046e-02,  2.1656e-01]],\n",
              "\n",
              "         [[-1.0532e-01, -6.3296e-02, -1.6726e-01],\n",
              "          [ 6.0891e-01,  2.9959e-01, -1.2555e-01],\n",
              "          [-8.0580e-02, -6.5498e-02, -2.1278e-01]]],\n",
              "\n",
              "\n",
              "        [[[ 4.3661e-02,  3.3142e-02, -2.0905e-01],\n",
              "          [-9.6954e-02, -7.5001e-02, -5.9796e-01],\n",
              "          [-3.7087e-02,  7.4966e-02, -4.2732e-02]],\n",
              "\n",
              "         [[ 3.1025e-01,  5.9191e-01, -1.9552e-01],\n",
              "          [ 5.9899e-01,  1.3502e+00, -9.6004e-02],\n",
              "          [ 2.2453e-01,  7.5361e-01,  8.4913e-02]],\n",
              "\n",
              "         [[-1.4807e-02, -1.8987e-01, -1.8754e-01],\n",
              "          [-2.8725e-01, -5.8024e-01, -6.2096e-01],\n",
              "          [-1.2575e-01, -2.1485e-01, -1.6652e-01]]],\n",
              "\n",
              "\n",
              "        [[[-1.8595e-01,  2.5893e-01,  6.5096e-02],\n",
              "          [-2.1476e-02,  9.7262e-02, -5.2540e-02],\n",
              "          [ 2.2623e-01, -1.0001e-01, -1.9183e-01]],\n",
              "\n",
              "         [[-8.9677e-01,  5.7587e-03,  2.6507e-01],\n",
              "          [-4.2097e-01,  3.6441e-03,  1.8720e-01],\n",
              "          [ 2.0868e-01,  1.0582e-01,  1.6382e-01]],\n",
              "\n",
              "         [[-5.8913e-01, -1.6586e-01, -3.1477e-01],\n",
              "          [-2.0451e-01,  4.8784e-02, -8.3366e-02],\n",
              "          [-2.3984e-01, -4.5847e-02, -1.8920e-02]]],\n",
              "\n",
              "\n",
              "        [[[-5.7209e-01,  1.7340e-01, -1.8662e-02],\n",
              "          [-3.0267e-01,  2.6177e-01,  6.2408e-02],\n",
              "          [-1.1153e-02,  8.7526e-02,  4.8527e-02]],\n",
              "\n",
              "         [[-5.6100e-01, -3.3251e-02, -2.4625e-01],\n",
              "          [-3.5461e-01, -2.3166e-02, -1.8881e-01],\n",
              "          [-1.5139e-01, -1.0098e-01, -7.1014e-02]],\n",
              "\n",
              "         [[-2.6458e-01,  2.4569e-01,  3.7492e-02],\n",
              "          [-1.2579e-01,  1.4748e-01,  3.5145e-02],\n",
              "          [ 4.3285e-02,  4.0876e-02,  6.7888e-02]]],\n",
              "\n",
              "\n",
              "        [[[-9.9767e-01, -1.1953e+00, -7.4856e-01],\n",
              "          [-3.4149e-01, -2.9743e-01, -2.2055e-01],\n",
              "          [ 1.2977e+00,  1.5128e+00,  9.7736e-01]],\n",
              "\n",
              "         [[-1.6027e+00, -1.8858e+00, -1.1576e+00],\n",
              "          [-4.2610e-01, -3.9242e-01, -2.4129e-01],\n",
              "          [ 1.9524e+00,  2.2205e+00,  1.5350e+00]],\n",
              "\n",
              "         [[-6.3846e-01, -8.5005e-01, -4.7778e-01],\n",
              "          [-2.4518e-01, -2.5235e-01, -2.3054e-01],\n",
              "          [ 9.5920e-01,  1.0444e+00,  6.4891e-01]]],\n",
              "\n",
              "\n",
              "        [[[ 1.3089e-01, -5.2207e-01,  4.2315e-01],\n",
              "          [ 3.1292e-01, -1.1228e+00,  7.9907e-01],\n",
              "          [ 6.8195e-02, -4.8106e-01,  3.9974e-01]],\n",
              "\n",
              "         [[ 1.8449e-01, -9.5691e-01,  7.5847e-01],\n",
              "          [ 3.5696e-01, -1.7832e+00,  1.4513e+00],\n",
              "          [ 1.1945e-01, -7.2248e-01,  6.3424e-01]],\n",
              "\n",
              "         [[ 9.9831e-02, -3.2180e-01,  2.8910e-01],\n",
              "          [ 2.3074e-01, -8.5166e-01,  5.4217e-01],\n",
              "          [ 7.5232e-02, -3.3251e-01,  2.5642e-01]]],\n",
              "\n",
              "\n",
              "        [[[ 1.6483e-01,  3.0469e-01, -7.3835e-02],\n",
              "          [ 3.8202e-01,  6.8937e-01, -1.5405e-01],\n",
              "          [ 1.1451e-01,  3.8414e-01,  7.7093e-02]],\n",
              "\n",
              "         [[-2.0221e-01, -4.1779e-01, -4.2904e-01],\n",
              "          [-4.9690e-01, -8.6161e-01, -1.0334e+00],\n",
              "          [-3.5371e-01, -5.1922e-01, -3.7808e-01]],\n",
              "\n",
              "         [[ 1.5038e-01,  4.7926e-01, -4.0157e-03],\n",
              "          [ 4.9503e-01,  1.0667e+00,  5.8711e-02],\n",
              "          [ 2.0677e-01,  6.4227e-01,  2.1506e-01]]],\n",
              "\n",
              "\n",
              "        [[[ 1.8650e-01,  2.5584e-01,  4.6442e-02],\n",
              "          [-7.8695e-01, -1.1428e+00, -1.6799e-01],\n",
              "          [ 4.8258e-01,  7.4472e-01,  1.1336e-01]],\n",
              "\n",
              "         [[ 3.8206e-01,  4.4158e-01,  7.4601e-02],\n",
              "          [-1.2973e+00, -1.8665e+00, -4.7407e-01],\n",
              "          [ 8.0058e-01,  1.1902e+00,  3.0918e-01]],\n",
              "\n",
              "         [[ 1.6103e-01,  1.8541e-01,  4.6583e-02],\n",
              "          [-5.4401e-01, -7.9510e-01, -1.3218e-01],\n",
              "          [ 2.7352e-01,  4.7408e-01,  1.0031e-01]]],\n",
              "\n",
              "\n",
              "        [[[-2.9824e-01, -3.1554e-01, -2.7117e-01],\n",
              "          [-4.2219e-01, -4.8135e-01, -4.5563e-01],\n",
              "          [-3.1033e-01, -3.9742e-01, -4.2247e-01]],\n",
              "\n",
              "         [[ 1.1688e-01,  8.1968e-02,  2.1316e-01],\n",
              "          [ 5.1563e-02, -4.7707e-02,  1.6321e-01],\n",
              "          [ 1.8329e-01,  1.1245e-01,  1.8911e-01]],\n",
              "\n",
              "         [[ 2.0597e-01,  1.2195e-01,  1.4867e-01],\n",
              "          [ 2.3383e-01,  1.0552e-01,  2.0295e-01],\n",
              "          [ 2.0720e-01,  1.6686e-01,  1.1398e-01]]],\n",
              "\n",
              "\n",
              "        [[[ 1.6336e-01,  4.0073e-01,  9.9535e-02],\n",
              "          [ 2.8251e-01,  2.4793e-01,  2.4764e-01],\n",
              "          [-5.0571e-02, -4.1382e-02,  1.0521e-01]],\n",
              "\n",
              "         [[ 7.7289e-01,  8.5362e-01,  2.3056e-01],\n",
              "          [ 4.3952e-01,  1.5689e-01,  2.3023e-01],\n",
              "          [ 4.9223e-02, -1.2640e-01,  6.9407e-02]],\n",
              "\n",
              "         [[ 2.7944e-01,  3.6176e-01,  7.3952e-02],\n",
              "          [ 2.3741e-01,  2.2172e-01,  1.2081e-01],\n",
              "          [ 5.8985e-02,  2.3133e-02,  1.0626e-01]]],\n",
              "\n",
              "\n",
              "        [[[-7.0514e-01, -4.7274e-02,  7.8825e-01],\n",
              "          [-8.7217e-01, -1.3340e-01,  9.5309e-01],\n",
              "          [-5.9870e-01, -6.2951e-02,  7.5468e-01]],\n",
              "\n",
              "         [[ 1.8451e-01,  7.5759e-03, -1.8450e-01],\n",
              "          [ 2.0336e-01, -3.9370e-02, -2.4581e-01],\n",
              "          [ 2.1152e-01,  8.5887e-03, -2.0438e-01]],\n",
              "\n",
              "         [[ 4.8968e-01,  6.9541e-02, -5.7782e-01],\n",
              "          [ 5.9471e-01,  1.0658e-01, -7.2209e-01],\n",
              "          [ 4.4446e-01,  7.0110e-02, -5.4602e-01]]],\n",
              "\n",
              "\n",
              "        [[[-1.0053e-01,  2.5252e-03,  1.4553e-02],\n",
              "          [ 3.0832e-01,  4.6977e-01,  3.9713e-02],\n",
              "          [ 2.5676e-01,  3.2978e-01,  4.9095e-02]],\n",
              "\n",
              "         [[-6.8006e-02,  9.3658e-02, -1.8143e-02],\n",
              "          [ 6.4271e-01,  9.2361e-01,  1.2525e-01],\n",
              "          [ 3.4742e-01,  4.1023e-01,  8.9068e-02]],\n",
              "\n",
              "         [[-4.7762e-02, -3.6061e-02, -1.1904e-02],\n",
              "          [ 1.2653e-01,  2.0535e-01,  2.6445e-02],\n",
              "          [ 1.7602e-01,  2.1466e-01,  6.4802e-02]]],\n",
              "\n",
              "\n",
              "        [[[-1.0663e-01,  3.5645e-01, -6.6938e-02],\n",
              "          [-2.8499e-02,  2.3971e-01, -3.2144e-02],\n",
              "          [-7.2986e-02, -2.3005e-02, -1.0498e-01]],\n",
              "\n",
              "         [[-1.3515e-01,  5.8514e-02, -3.1557e-02],\n",
              "          [ 1.5615e-02,  5.4247e-02, -1.2127e-02],\n",
              "          [ 1.2326e-01,  9.2409e-02,  6.0831e-02]],\n",
              "\n",
              "         [[ 2.0333e-01,  7.2607e-01,  3.5521e-01],\n",
              "          [-4.9644e-02,  1.6983e-01, -1.0113e-01],\n",
              "          [-1.2694e-01, -2.4462e-02, -4.4415e-02]]],\n",
              "\n",
              "\n",
              "        [[[-3.9426e-02, -1.7276e-02,  3.1698e-02],\n",
              "          [-2.1496e-01, -3.1658e-01, -1.3974e-01],\n",
              "          [-1.3316e-01, -3.5045e-01, -3.0833e-01]],\n",
              "\n",
              "         [[-1.5802e-02,  4.9987e-02,  5.3208e-02],\n",
              "          [-3.4082e-01, -6.5334e-01, -3.4599e-01],\n",
              "          [-1.3948e-01, -5.4123e-01, -3.9648e-01]],\n",
              "\n",
              "         [[-1.3752e-02, -2.5955e-02, -5.0256e-03],\n",
              "          [-1.4981e-01, -2.1842e-01, -6.1638e-02],\n",
              "          [-1.8203e-02, -1.1897e-01, -1.4033e-01]]],\n",
              "\n",
              "\n",
              "        [[[-1.1156e+00, -6.0711e-02,  1.1703e+00],\n",
              "          [-1.5484e+00, -1.1661e-02,  1.5156e+00],\n",
              "          [-8.9966e-01, -1.3022e-01,  1.0737e+00]],\n",
              "\n",
              "         [[-1.6852e+00, -1.3703e-01,  1.7690e+00],\n",
              "          [-2.1599e+00, -1.0927e-01,  2.1795e+00],\n",
              "          [-1.3250e+00, -1.8371e-01,  1.6217e+00]],\n",
              "\n",
              "         [[-7.5388e-01, -6.9115e-02,  8.1144e-01],\n",
              "          [-1.0852e+00, -2.9064e-03,  1.0619e+00],\n",
              "          [-5.7914e-01, -1.2133e-01,  7.5124e-01]]],\n",
              "\n",
              "\n",
              "        [[[-5.4082e-02,  5.8951e-02,  3.7656e-02],\n",
              "          [ 2.6326e-02, -1.4610e-02,  1.1137e-01],\n",
              "          [-1.1812e-02, -3.2066e-02,  2.6542e-02]],\n",
              "\n",
              "         [[ 3.7955e-01,  1.3068e-01,  2.7853e-01],\n",
              "          [-8.7936e-03, -4.7909e-01, -1.7048e-01],\n",
              "          [ 4.4457e-02, -3.6420e-01, -1.5723e-01]],\n",
              "\n",
              "         [[-3.4900e-01, -3.6765e-01, -3.1589e-01],\n",
              "          [-2.7917e-01, -2.5159e-01, -2.4233e-01],\n",
              "          [-1.2355e-01, -9.8007e-02, -8.1891e-02]]],\n",
              "\n",
              "\n",
              "        [[[-2.0720e-02, -6.2181e-03, -3.0800e-01],\n",
              "          [-5.7946e-02, -2.8221e-01, -3.7908e-01],\n",
              "          [ 5.2524e-02, -9.3346e-02, -1.9470e-01]],\n",
              "\n",
              "         [[-5.0008e-02, -2.2808e-01, -4.4945e-01],\n",
              "          [-1.0392e-01, -6.1919e-01, -6.1583e-01],\n",
              "          [ 1.0227e-01, -1.4490e-01, -1.6625e-01]],\n",
              "\n",
              "         [[ 5.3646e-03,  2.4315e-02, -1.6184e-01],\n",
              "          [-5.4236e-02, -9.0713e-02, -1.7829e-01],\n",
              "          [ 4.9141e-02, -2.0806e-02, -4.6233e-02]]],\n",
              "\n",
              "\n",
              "        [[[ 3.8697e-01, -3.7205e-01, -1.9669e-02],\n",
              "          [ 7.1504e-01, -6.1148e-01, -9.2016e-02],\n",
              "          [ 3.0041e-01, -3.3320e-01, -7.4604e-03]],\n",
              "\n",
              "         [[ 6.8904e-01, -6.1830e-01, -7.0299e-02],\n",
              "          [ 1.1546e+00, -1.0630e+00, -2.0107e-01],\n",
              "          [ 5.5695e-01, -5.4935e-01,  1.9506e-02]],\n",
              "\n",
              "         [[ 2.1046e-01, -2.2775e-01,  2.4324e-02],\n",
              "          [ 4.8397e-01, -4.0971e-01, -1.6858e-02],\n",
              "          [ 1.8117e-01, -2.4488e-01,  2.1964e-02]]],\n",
              "\n",
              "\n",
              "        [[[ 5.0654e-02,  7.4402e-05, -1.4101e-01],\n",
              "          [ 8.4204e-01,  9.1397e-01,  1.7177e-01],\n",
              "          [-9.2958e-01, -9.3729e-01, -3.9340e-02]],\n",
              "\n",
              "         [[ 6.1210e-02, -7.3600e-02, -2.5654e-01],\n",
              "          [ 1.5241e+00,  1.6571e+00,  4.1386e-01],\n",
              "          [-1.5226e+00, -1.6357e+00, -1.8824e-01]],\n",
              "\n",
              "         [[ 2.7405e-02,  1.3793e-03, -7.6812e-02],\n",
              "          [ 4.4222e-01,  4.4532e-01,  6.0471e-02],\n",
              "          [-4.3270e-01, -5.5140e-01, -3.7485e-03]]],\n",
              "\n",
              "\n",
              "        [[[-2.3089e-01, -3.8890e-01, -4.9908e-02],\n",
              "          [-2.6936e-01, -5.9392e-01, -2.2995e-01],\n",
              "          [-1.3231e-01, -4.2919e-01, -1.2203e-01]],\n",
              "\n",
              "         [[ 2.6915e-01,  4.9285e-01,  2.1194e-01],\n",
              "          [ 5.1286e-01,  8.2289e-01,  2.7673e-01],\n",
              "          [ 3.2897e-01,  3.8590e-01,  3.4942e-01]],\n",
              "\n",
              "         [[-1.5547e-01, -8.3435e-02, -1.3699e-01],\n",
              "          [-7.0391e-03,  7.9322e-02, -5.7387e-02],\n",
              "          [-3.2775e-01, -2.8134e-01, -1.8053e-01]]],\n",
              "\n",
              "\n",
              "        [[[-3.6207e-01, -4.8922e-01, -1.2795e-01],\n",
              "          [-6.9988e-01, -1.2605e+00, -5.8458e-01],\n",
              "          [-3.6158e-01, -8.5768e-01, -5.5106e-01]],\n",
              "\n",
              "         [[ 1.4350e-01,  1.8285e-01, -4.0346e-02],\n",
              "          [ 1.6186e-01,  4.0616e-01,  2.1827e-01],\n",
              "          [-1.1034e-01,  8.2738e-02,  4.5524e-02]],\n",
              "\n",
              "         [[ 1.9693e-01,  2.6792e-01,  9.8398e-02],\n",
              "          [ 5.2568e-01,  9.8756e-01,  4.3276e-01],\n",
              "          [ 4.4229e-01,  8.1176e-01,  4.1470e-01]]],\n",
              "\n",
              "\n",
              "        [[[-3.0724e-01, -4.3475e-01, -2.5997e-01],\n",
              "          [-4.2065e-01, -6.9160e-01, -4.0105e-01],\n",
              "          [-3.0896e-01, -4.4693e-01, -2.7567e-01]],\n",
              "\n",
              "         [[ 3.7963e-01,  7.5947e-01,  4.0827e-01],\n",
              "          [ 8.3131e-01,  1.2607e+00,  8.5531e-01],\n",
              "          [ 5.2194e-01,  9.1083e-01,  5.4261e-01]],\n",
              "\n",
              "         [[-1.8628e-01, -3.4072e-01, -1.7337e-01],\n",
              "          [-4.4106e-01, -6.7417e-01, -4.0792e-01],\n",
              "          [-1.5939e-01, -3.0007e-01, -2.0812e-01]]]])"
            ]
          },
          "metadata": {},
          "execution_count": 7
        }
      ]
    },
    {
      "cell_type": "code",
      "source": [
        "model.features[0][0].weight.requires_grad"
      ],
      "metadata": {
        "colab": {
          "base_uri": "https://localhost:8080/"
        },
        "id": "tow6U83a9lrm",
        "outputId": "c9e196c4-cbaa-4846-f717-a119893b1587"
      },
      "id": "tow6U83a9lrm",
      "execution_count": 8,
      "outputs": [
        {
          "output_type": "execute_result",
          "data": {
            "text/plain": [
              "False"
            ]
          },
          "metadata": {},
          "execution_count": 8
        }
      ]
    },
    {
      "cell_type": "code",
      "source": [
        "for name, param in model.named_parameters():\n",
        "  print(name)\n",
        "  if name.startswith(\"features\"):\n",
        "    param.requires_grad_(False)\n",
        "  break"
      ],
      "metadata": {
        "colab": {
          "base_uri": "https://localhost:8080/"
        },
        "id": "mUIMpXfR9zwd",
        "outputId": "c82d7b85-2f3c-4f1a-8894-2834bb4faeff"
      },
      "id": "mUIMpXfR9zwd",
      "execution_count": 9,
      "outputs": [
        {
          "output_type": "stream",
          "name": "stdout",
          "text": [
            "features.0.0.weight\n"
          ]
        }
      ]
    },
    {
      "cell_type": "code",
      "source": [
        "images = th.randint(0, 255, (16, 3, 500, 500)).float()"
      ],
      "metadata": {
        "id": "Br0iuNzM95xX"
      },
      "id": "Br0iuNzM95xX",
      "execution_count": 10,
      "outputs": []
    },
    {
      "cell_type": "code",
      "source": [
        "out = model(images)"
      ],
      "metadata": {
        "id": "00POGFdU-TkP"
      },
      "id": "00POGFdU-TkP",
      "execution_count": null,
      "outputs": []
    },
    {
      "cell_type": "code",
      "source": [
        "out.shape"
      ],
      "metadata": {
        "id": "VeaI7-in-Wtl"
      },
      "id": "VeaI7-in-Wtl",
      "execution_count": null,
      "outputs": []
    },
    {
      "cell_type": "code",
      "source": [
        "t = torchvision.models.EfficientNet_B1_Weights.IMAGENET1K_V1.transforms()\n",
        "t"
      ],
      "metadata": {
        "id": "uckP31VZ-80L"
      },
      "id": "uckP31VZ-80L",
      "execution_count": null,
      "outputs": []
    },
    {
      "cell_type": "code",
      "source": [
        "images_t = t(images)\n",
        "images_t.shape"
      ],
      "metadata": {
        "id": "JLkxY0x7_Fga"
      },
      "id": "JLkxY0x7_Fga",
      "execution_count": null,
      "outputs": []
    },
    {
      "cell_type": "code",
      "source": [],
      "metadata": {
        "id": "QEv2KCtv_Ihs"
      },
      "id": "QEv2KCtv_Ihs",
      "execution_count": null,
      "outputs": []
    },
    {
      "cell_type": "markdown",
      "id": "4d7b6d63",
      "metadata": {
        "id": "4d7b6d63"
      },
      "source": [
        "## Задачи для самостоятельного решения"
      ]
    },
    {
      "cell_type": "markdown",
      "id": "2ca02454",
      "metadata": {
        "id": "2ca02454"
      },
      "source": [
        "<p class=\"task\" id=\"1\"></p>\n",
        "\n",
        "1\\. Используя реализацию из `torchvision`, cоздайте модель `vgg16` и загрузите предобученные веса `IMAGENET1K_V1`. Выведите на экран структуру модели, количество слоев и количество настраиваемых (`requires_grad==True`) параметров модели.\n",
        "\n",
        "- [х] Проверено на семинаре"
      ]
    },
    {
      "cell_type": "code",
      "source": [
        "import torch\n",
        "import torch.nn as nn\n",
        "import torch.optim as optim\n",
        "from torch.utils.data import DataLoader, random_split\n",
        "from torchvision.datasets import ImageFolder\n",
        "from torchvision import transforms as T\n",
        "from sklearn.model_selection import train_test_split\n",
        "import matplotlib.pyplot as plt\n",
        "import torch.nn.functional as F"
      ],
      "metadata": {
        "id": "59g0QYl6HaHd"
      },
      "id": "59g0QYl6HaHd",
      "execution_count": 3,
      "outputs": []
    },
    {
      "cell_type": "code",
      "source": [
        "import torch\n",
        "import torchvision.models as models"
      ],
      "metadata": {
        "id": "Kxb_iFcXBxQ4"
      },
      "id": "Kxb_iFcXBxQ4",
      "execution_count": 4,
      "outputs": []
    },
    {
      "cell_type": "code",
      "source": [
        "model = models.vgg16(pretrained=True)"
      ],
      "metadata": {
        "colab": {
          "base_uri": "https://localhost:8080/"
        },
        "id": "Cs0_cBuBBSG6",
        "outputId": "53913f13-0b59-4a3b-8660-ef325614a192"
      },
      "id": "Cs0_cBuBBSG6",
      "execution_count": 5,
      "outputs": [
        {
          "output_type": "stream",
          "name": "stderr",
          "text": [
            "/usr/local/lib/python3.10/dist-packages/torchvision/models/_utils.py:208: UserWarning: The parameter 'pretrained' is deprecated since 0.13 and may be removed in the future, please use 'weights' instead.\n",
            "  warnings.warn(\n",
            "/usr/local/lib/python3.10/dist-packages/torchvision/models/_utils.py:223: UserWarning: Arguments other than a weight enum or `None` for 'weights' are deprecated since 0.13 and may be removed in the future. The current behavior is equivalent to passing `weights=VGG16_Weights.IMAGENET1K_V1`. You can also use `weights=VGG16_Weights.DEFAULT` to get the most up-to-date weights.\n",
            "  warnings.warn(msg)\n",
            "Downloading: \"https://download.pytorch.org/models/vgg16-397923af.pth\" to /root/.cache/torch/hub/checkpoints/vgg16-397923af.pth\n",
            "100%|██████████| 528M/528M [00:05<00:00, 102MB/s]\n"
          ]
        }
      ]
    },
    {
      "cell_type": "code",
      "source": [
        "model"
      ],
      "metadata": {
        "colab": {
          "base_uri": "https://localhost:8080/"
        },
        "id": "lRfK_zrcBSPd",
        "outputId": "4489be7d-464c-4a69-ff8a-34d5c50202a9"
      },
      "id": "lRfK_zrcBSPd",
      "execution_count": 6,
      "outputs": [
        {
          "output_type": "execute_result",
          "data": {
            "text/plain": [
              "VGG(\n",
              "  (features): Sequential(\n",
              "    (0): Conv2d(3, 64, kernel_size=(3, 3), stride=(1, 1), padding=(1, 1))\n",
              "    (1): ReLU(inplace=True)\n",
              "    (2): Conv2d(64, 64, kernel_size=(3, 3), stride=(1, 1), padding=(1, 1))\n",
              "    (3): ReLU(inplace=True)\n",
              "    (4): MaxPool2d(kernel_size=2, stride=2, padding=0, dilation=1, ceil_mode=False)\n",
              "    (5): Conv2d(64, 128, kernel_size=(3, 3), stride=(1, 1), padding=(1, 1))\n",
              "    (6): ReLU(inplace=True)\n",
              "    (7): Conv2d(128, 128, kernel_size=(3, 3), stride=(1, 1), padding=(1, 1))\n",
              "    (8): ReLU(inplace=True)\n",
              "    (9): MaxPool2d(kernel_size=2, stride=2, padding=0, dilation=1, ceil_mode=False)\n",
              "    (10): Conv2d(128, 256, kernel_size=(3, 3), stride=(1, 1), padding=(1, 1))\n",
              "    (11): ReLU(inplace=True)\n",
              "    (12): Conv2d(256, 256, kernel_size=(3, 3), stride=(1, 1), padding=(1, 1))\n",
              "    (13): ReLU(inplace=True)\n",
              "    (14): Conv2d(256, 256, kernel_size=(3, 3), stride=(1, 1), padding=(1, 1))\n",
              "    (15): ReLU(inplace=True)\n",
              "    (16): MaxPool2d(kernel_size=2, stride=2, padding=0, dilation=1, ceil_mode=False)\n",
              "    (17): Conv2d(256, 512, kernel_size=(3, 3), stride=(1, 1), padding=(1, 1))\n",
              "    (18): ReLU(inplace=True)\n",
              "    (19): Conv2d(512, 512, kernel_size=(3, 3), stride=(1, 1), padding=(1, 1))\n",
              "    (20): ReLU(inplace=True)\n",
              "    (21): Conv2d(512, 512, kernel_size=(3, 3), stride=(1, 1), padding=(1, 1))\n",
              "    (22): ReLU(inplace=True)\n",
              "    (23): MaxPool2d(kernel_size=2, stride=2, padding=0, dilation=1, ceil_mode=False)\n",
              "    (24): Conv2d(512, 512, kernel_size=(3, 3), stride=(1, 1), padding=(1, 1))\n",
              "    (25): ReLU(inplace=True)\n",
              "    (26): Conv2d(512, 512, kernel_size=(3, 3), stride=(1, 1), padding=(1, 1))\n",
              "    (27): ReLU(inplace=True)\n",
              "    (28): Conv2d(512, 512, kernel_size=(3, 3), stride=(1, 1), padding=(1, 1))\n",
              "    (29): ReLU(inplace=True)\n",
              "    (30): MaxPool2d(kernel_size=2, stride=2, padding=0, dilation=1, ceil_mode=False)\n",
              "  )\n",
              "  (avgpool): AdaptiveAvgPool2d(output_size=(7, 7))\n",
              "  (classifier): Sequential(\n",
              "    (0): Linear(in_features=25088, out_features=4096, bias=True)\n",
              "    (1): ReLU(inplace=True)\n",
              "    (2): Dropout(p=0.5, inplace=False)\n",
              "    (3): Linear(in_features=4096, out_features=4096, bias=True)\n",
              "    (4): ReLU(inplace=True)\n",
              "    (5): Dropout(p=0.5, inplace=False)\n",
              "    (6): Linear(in_features=4096, out_features=1000, bias=True)\n",
              "  )\n",
              ")"
            ]
          },
          "metadata": {},
          "execution_count": 6
        }
      ]
    },
    {
      "cell_type": "code",
      "source": [],
      "metadata": {
        "id": "pfQiW-M5Cp-k"
      },
      "id": "pfQiW-M5Cp-k",
      "execution_count": 6,
      "outputs": []
    },
    {
      "cell_type": "code",
      "source": [
        "sum(p.numel() for p in model.parameters() if p.requires_grad)"
      ],
      "metadata": {
        "colab": {
          "base_uri": "https://localhost:8080/"
        },
        "id": "XshxhUwFCqHd",
        "outputId": "757175f5-4359-4b54-e538-53ccd1332af0"
      },
      "id": "XshxhUwFCqHd",
      "execution_count": 7,
      "outputs": [
        {
          "output_type": "execute_result",
          "data": {
            "text/plain": [
              "138357544"
            ]
          },
          "metadata": {},
          "execution_count": 7
        }
      ]
    },
    {
      "cell_type": "code",
      "source": [
        "# model_children = [x for x in model.children()]\n",
        "# len(model_children)"
      ],
      "metadata": {
        "id": "2ACnXLr4E465"
      },
      "id": "2ACnXLr4E465",
      "execution_count": 8,
      "outputs": []
    },
    {
      "cell_type": "code",
      "source": [
        "def count_layers(model):\n",
        "    count = 0\n",
        "    for layer in model.children():\n",
        "        if isinstance(layer, torch.nn.Sequential):\n",
        "\n",
        "            count += count_layers(layer)\n",
        "        else:\n",
        "            count += 1\n",
        "    return count\n"
      ],
      "metadata": {
        "id": "e9Gk6UYKCqMo"
      },
      "id": "e9Gk6UYKCqMo",
      "execution_count": 9,
      "outputs": []
    },
    {
      "cell_type": "code",
      "source": [
        "count_layers(model)"
      ],
      "metadata": {
        "colab": {
          "base_uri": "https://localhost:8080/"
        },
        "id": "9FgNXpaNEu0x",
        "outputId": "f3c47a2b-e1db-4ba2-b2dc-8d22b8caac50"
      },
      "id": "9FgNXpaNEu0x",
      "execution_count": 10,
      "outputs": [
        {
          "output_type": "execute_result",
          "data": {
            "text/plain": [
              "39"
            ]
          },
          "metadata": {},
          "execution_count": 10
        }
      ]
    },
    {
      "cell_type": "markdown",
      "id": "5b918e12",
      "metadata": {
        "id": "5b918e12"
      },
      "source": [
        "<p class=\"task\" id=\"2\"></p>\n",
        "\n",
        "2\\. Создайте датасет `CatBreeds` на основе данных из архива `cat_breeds_4.zip`. Разбейте датасет на обучающее и тестовое множество в соотношении 80 на 20%.\n",
        "\n",
        "К обучающему датасету примените следующее преобразование: приведите картинки к размеру 256x256, затем обрежьте по центру с размером 224х224, затем переведите изображения в тензор и нормализуйте значения интенсивности пикселей (`mean=(0.485, 0.456, 0.406), std=(0.229, 0.224, 0.225)`).\n",
        "\n",
        "К тестовому датасету примените преобразование `VGG16_Weights.IMAGENET1K_V1.transforms`.\n",
        "\n",
        "- [х] Проверено на семинаре"
      ]
    },
    {
      "cell_type": "code",
      "execution_count": 11,
      "metadata": {
        "colab": {
          "base_uri": "https://localhost:8080/"
        },
        "id": "TajbTmKHmUOX",
        "outputId": "d410e5b5-aeb1-45a1-c01b-f8c7c360ea9a"
      },
      "outputs": [
        {
          "output_type": "stream",
          "name": "stdout",
          "text": [
            "Mounted at /content/drive\n"
          ]
        }
      ],
      "source": [
        "from google.colab import drive\n",
        "drive.mount('/content/drive')\n"
      ],
      "id": "TajbTmKHmUOX"
    },
    {
      "cell_type": "code",
      "execution_count": 12,
      "metadata": {
        "colab": {
          "base_uri": "https://localhost:8080/",
          "height": 35
        },
        "id": "yvIxksNLmoPY",
        "outputId": "c26371f4-fbb5-450b-8bea-3277e5e94241"
      },
      "outputs": [
        {
          "output_type": "execute_result",
          "data": {
            "text/plain": [
              "'cat_breeds_4.zip'"
            ],
            "application/vnd.google.colaboratory.intrinsic+json": {
              "type": "string"
            }
          },
          "metadata": {},
          "execution_count": 12
        }
      ],
      "source": [
        "import shutil\n",
        "\n",
        "archive_path = '/content/drive/My Drive/cat_breeds_4.zip'\n",
        "extract_path = 'cat_breeds_4.zip'\n",
        "shutil.copy(archive_path, extract_path)\n"
      ],
      "id": "yvIxksNLmoPY"
    },
    {
      "cell_type": "code",
      "source": [
        "# !unzip cat_breeds_4.zip"
      ],
      "metadata": {
        "id": "SbiowW4yBTOg"
      },
      "id": "SbiowW4yBTOg",
      "execution_count": null,
      "outputs": []
    },
    {
      "cell_type": "code",
      "source": [
        "from torch.utils.data import Dataset\n",
        "class DatasetFromSubset(Dataset):\n",
        "    def __init__(self, subset, transform=None):\n",
        "        self.subset = subset\n",
        "        self.transform = transform\n",
        "\n",
        "    def __getitem__(self, idx):\n",
        "        x, y = self.subset[idx]\n",
        "        return self.transform(x), y\n",
        "\n",
        "\n",
        "    def __len__(self):\n",
        "        return len(self.subset)"
      ],
      "metadata": {
        "id": "E_eutlrhkTBG"
      },
      "execution_count": 14,
      "outputs": [],
      "id": "E_eutlrhkTBG"
    },
    {
      "cell_type": "code",
      "execution_count": 15,
      "metadata": {
        "id": "GUAaJjs09Evd"
      },
      "outputs": [],
      "source": [
        "dataset = ImageFolder(root='/content/cat_breeds_4')"
      ],
      "id": "GUAaJjs09Evd"
    },
    {
      "cell_type": "code",
      "source": [
        "train, test = random_split(dataset, lengths=[0.8, 0.2])"
      ],
      "metadata": {
        "id": "pUbAkDrOIKcb"
      },
      "id": "pUbAkDrOIKcb",
      "execution_count": 16,
      "outputs": []
    },
    {
      "cell_type": "code",
      "source": [
        "train_t = T.Compose([\n",
        "    T.Resize((256, 256)),\n",
        "    T.CenterCrop((224, 224)),\n",
        "    T.ToTensor(),\n",
        "    T.Normalize(mean=(0.485, 0.456, 0.406), std=(0.229, 0.224, 0.225)),\n",
        "])\n",
        "\n",
        "test_t = models.VGG16_Weights.IMAGENET1K_V1.transforms()"
      ],
      "metadata": {
        "id": "c_BCVvWjINr2"
      },
      "id": "c_BCVvWjINr2",
      "execution_count": 17,
      "outputs": []
    },
    {
      "cell_type": "code",
      "source": [
        "train = DatasetFromSubset(train, train_t)\n",
        "test = DatasetFromSubset(test, test_t)"
      ],
      "metadata": {
        "id": "c4YV5z5Z7_oR"
      },
      "execution_count": 18,
      "outputs": [],
      "id": "c4YV5z5Z7_oR"
    },
    {
      "cell_type": "code",
      "source": [
        "train[0]"
      ],
      "metadata": {
        "colab": {
          "base_uri": "https://localhost:8080/"
        },
        "id": "x_IcLupOBTS-",
        "outputId": "fd98faef-ea82-435b-e1da-e9a63863062b"
      },
      "id": "x_IcLupOBTS-",
      "execution_count": 19,
      "outputs": [
        {
          "output_type": "execute_result",
          "data": {
            "text/plain": [
              "(tensor([[[-1.5357, -1.5185, -1.4672,  ...,  0.4679,  0.6221,  0.6906],\n",
              "          [-1.5357, -1.5357, -1.5014,  ...,  0.8447,  1.4098,  1.3070],\n",
              "          [-1.5357, -1.5357, -1.5185,  ...,  0.7591,  1.3413,  1.3242],\n",
              "          ...,\n",
              "          [ 0.8789,  0.9132,  0.8789,  ...,  0.5536,  0.7591,  0.9474],\n",
              "          [ 1.8722,  1.9578,  2.0434,  ...,  0.2453,  0.4337,  0.5707],\n",
              "          [ 1.8208,  1.8893,  2.0092,  ...,  0.3994,  0.7591,  1.0159]],\n",
              " \n",
              "         [[-1.7906, -1.7906, -1.7731,  ..., -0.5826, -0.4251, -0.3725],\n",
              "          [-1.7556, -1.7556, -1.7906,  ..., -0.1975,  0.3803,  0.2752],\n",
              "          [-1.7556, -1.7556, -1.7906,  ..., -0.2850,  0.3102,  0.2927],\n",
              "          ...,\n",
              "          [ 0.2402,  0.2577,  0.2577,  ..., -0.5476, -0.3725, -0.1975],\n",
              "          [ 1.2206,  1.2731,  1.4307,  ..., -0.7752, -0.6176, -0.4776],\n",
              "          [ 1.1681,  1.2031,  1.2556,  ..., -0.5476, -0.2150,  0.0476]],\n",
              " \n",
              "         [[-1.7522, -1.7522, -1.7522,  ..., -1.5430, -1.3513, -1.2990],\n",
              "          [-1.6999, -1.7173, -1.7522,  ..., -1.2293, -0.6715, -0.7587],\n",
              "          [-1.6999, -1.6999, -1.7173,  ..., -1.2641, -0.7238, -0.7587],\n",
              "          ...,\n",
              "          [-0.5844, -0.5147, -0.4798,  ..., -1.6824, -1.3861, -1.2119],\n",
              "          [ 0.0953,  0.1651,  0.2696,  ..., -1.6824, -1.4907, -1.4036],\n",
              "          [-0.1487, -0.1138, -0.0615,  ..., -1.6302, -1.2816, -1.0201]]]),\n",
              " 0)"
            ]
          },
          "metadata": {},
          "execution_count": 19
        }
      ]
    },
    {
      "cell_type": "code",
      "source": [
        "batch_size = 32\n",
        "train_loader = DataLoader(train, batch_size=batch_size, shuffle=True)\n",
        "test_loader = DataLoader(test, batch_size=batch_size, shuffle=True)"
      ],
      "metadata": {
        "id": "C1nqfQndJEkq"
      },
      "id": "C1nqfQndJEkq",
      "execution_count": 46,
      "outputs": []
    },
    {
      "cell_type": "markdown",
      "id": "14ef2afa",
      "metadata": {
        "id": "14ef2afa"
      },
      "source": [
        "<p class=\"task\" id=\"3\"></p>\n",
        "\n",
        "3\\. Заморозьте все веса модели из предыдущего задания. Замените последний слой `Linear` классификатора на новый слой, соответствующий задаче. После изменения последнего слоя выведите на экран количество настраиваемых (`requires_grad==True`) параметров модели. Решите задачу, используя модель с замороженными весами и изменнным последним слоем.\n",
        "\n",
        "Постройте график изменения значения функции потерь на обучающем множестве в зависимости от номера эпохи, графики изменения метрики accuracy на обучающем и тестовом множестве в зависимости от эпохи. Выведите на экран итоговое значение метрики accuracy на обучающем и тестовом множестве.\n",
        "\n",
        "- [ ] Проверено на семинаре"
      ]
    },
    {
      "cell_type": "code",
      "source": [
        "model = models.vgg16(pretrained=True)"
      ],
      "metadata": {
        "id": "HZDSDt_oBT7D"
      },
      "id": "HZDSDt_oBT7D",
      "execution_count": 68,
      "outputs": []
    },
    {
      "cell_type": "code",
      "source": [
        "# model"
      ],
      "metadata": {
        "id": "MY3pJxMCGLCk"
      },
      "id": "MY3pJxMCGLCk",
      "execution_count": 69,
      "outputs": []
    },
    {
      "cell_type": "code",
      "source": [
        "for param in model.parameters():\n",
        "    param.requires_grad = False\n"
      ],
      "metadata": {
        "id": "UQ6CyBpjBT_Q"
      },
      "id": "UQ6CyBpjBT_Q",
      "execution_count": 70,
      "outputs": []
    },
    {
      "cell_type": "code",
      "source": [
        "num_classes = len(dataset.classes)\n"
      ],
      "metadata": {
        "id": "DbZctOB0BUGD"
      },
      "id": "DbZctOB0BUGD",
      "execution_count": 71,
      "outputs": []
    },
    {
      "cell_type": "code",
      "source": [
        "model.classifier[6] = nn.Linear(4096, num_classes)"
      ],
      "metadata": {
        "id": "G6tKSruRFRiN"
      },
      "id": "G6tKSruRFRiN",
      "execution_count": 72,
      "outputs": []
    },
    {
      "cell_type": "code",
      "source": [
        "device = torch.device(\"cuda\" if torch.cuda.is_available() else \"cpu\")\n",
        "model.to(device)"
      ],
      "metadata": {
        "id": "OqUbdZWHn_p3"
      },
      "execution_count": null,
      "outputs": [],
      "id": "OqUbdZWHn_p3"
    },
    {
      "cell_type": "code",
      "source": [
        "criterion = nn.CrossEntropyLoss()\n",
        "optimizer = optim.SGD(model.parameters(), lr=0.001)\n",
        "num_epochs=10"
      ],
      "metadata": {
        "id": "s9bDIKqLMph9"
      },
      "id": "s9bDIKqLMph9",
      "execution_count": 74,
      "outputs": []
    },
    {
      "cell_type": "code",
      "execution_count": 75,
      "metadata": {
        "id": "dvMgHqFYftvh"
      },
      "outputs": [],
      "source": [
        "train_loss_list = []\n",
        "train_accuracy_list = []\n",
        "test_accuracy_list = []"
      ],
      "id": "dvMgHqFYftvh"
    },
    {
      "cell_type": "code",
      "execution_count": 76,
      "metadata": {
        "colab": {
          "base_uri": "https://localhost:8080/"
        },
        "id": "lOB-l81jftyj",
        "outputId": "a214ff8f-222e-4b5d-f03f-3b73ad6c9c66"
      },
      "outputs": [
        {
          "output_type": "stream",
          "name": "stdout",
          "text": [
            "Epoch 1, Loss: 0.9957, Train Accuracy: 0.5844, Test Accuracy: 0.7612\n",
            "Epoch 2, Loss: 0.7211, Train Accuracy: 0.7272, Test Accuracy: 0.7588\n",
            "Epoch 3, Loss: 0.6662, Train Accuracy: 0.7388, Test Accuracy: 0.7738\n",
            "Epoch 4, Loss: 0.6302, Train Accuracy: 0.7494, Test Accuracy: 0.7662\n",
            "Epoch 5, Loss: 0.6060, Train Accuracy: 0.7550, Test Accuracy: 0.7688\n",
            "Epoch 6, Loss: 0.5982, Train Accuracy: 0.7600, Test Accuracy: 0.7688\n",
            "Epoch 7, Loss: 0.5854, Train Accuracy: 0.7700, Test Accuracy: 0.7800\n",
            "Epoch 8, Loss: 0.5735, Train Accuracy: 0.7744, Test Accuracy: 0.7762\n",
            "Epoch 9, Loss: 0.5722, Train Accuracy: 0.7709, Test Accuracy: 0.7875\n",
            "Epoch 10, Loss: 0.5635, Train Accuracy: 0.7788, Test Accuracy: 0.7887\n",
            "CPU times: user 5min 55s, sys: 2.02 s, total: 5min 57s\n",
            "Wall time: 5min 58s\n"
          ]
        }
      ],
      "source": [
        "%%time\n",
        "for epoch in range(num_epochs):\n",
        "    model.train()\n",
        "    running_loss = 0\n",
        "    total_correct = 0\n",
        "    total_samples = 0\n",
        "\n",
        "    for inputs, labels in train_loader:\n",
        "        inputs, labels = inputs.to(device), labels.to(device)\n",
        "\n",
        "\n",
        "        outputs = model(inputs)\n",
        "        loss = criterion(outputs, labels)\n",
        "        loss.backward()\n",
        "        optimizer.step()\n",
        "        optimizer.zero_grad()\n",
        "\n",
        "\n",
        "\n",
        "        running_loss += loss.item()\n",
        "        _, predicted = torch.max(outputs, 1)\n",
        "        total_correct += (predicted == labels).sum().item()\n",
        "        total_samples += labels.size(0)\n",
        "\n",
        "    train_accuracy = total_correct / total_samples\n",
        "    train_accuracy_list.append(train_accuracy)\n",
        "    train_loss_list.append(running_loss / len(train_loader))\n",
        "\n",
        "\n",
        "    model.eval()\n",
        "    correct = 0\n",
        "    total = 0\n",
        "\n",
        "    with torch.no_grad():\n",
        "        for inputs, labels in test_loader:\n",
        "            inputs, labels = inputs.to(device), labels.to(device)\n",
        "\n",
        "\n",
        "            outputs = model(inputs)\n",
        "            _, predicted = torch.max(outputs.data, 1)\n",
        "            total += labels.size(0)\n",
        "            correct += (predicted == labels).sum().item()\n",
        "\n",
        "    test_accuracy = correct / total\n",
        "    test_accuracy_list.append(test_accuracy)\n",
        "\n",
        "    print(f'Epoch {epoch+1}, Loss: {train_loss_list[-1]:.4f}, Train Accuracy: {train_accuracy:.4f}, Test Accuracy: {test_accuracy:.4f}')\n"
      ],
      "id": "lOB-l81jftyj"
    },
    {
      "cell_type": "code",
      "execution_count": 77,
      "metadata": {
        "colab": {
          "base_uri": "https://localhost:8080/",
          "height": 487
        },
        "id": "OH325O7qf5Lt",
        "outputId": "477279fc-be5f-45a3-a2ee-8ec8bb10b856"
      },
      "outputs": [
        {
          "output_type": "display_data",
          "data": {
            "text/plain": [
              "<Figure size 1200x500 with 2 Axes>"
            ],
            "image/png": "[encoded data removed]"
          },
          "metadata": {}
        }
      ],
      "source": [
        "plt.figure(figsize=(12, 5))\n",
        "plt.subplot(1, 2, 1)\n",
        "plt.plot(train_loss_list, label='Train Loss')\n",
        "plt.xlabel('Epoch')\n",
        "plt.ylabel('Loss')\n",
        "plt.legend()\n",
        "plt.title('Training Loss')\n",
        "\n",
        "\n",
        "plt.subplot(1, 2, 2)\n",
        "plt.plot(train_accuracy_list, label='Train Accuracy')\n",
        "plt.plot(test_accuracy_list, label='Test Accuracy')\n",
        "plt.xlabel('Epoch')\n",
        "plt.ylabel('Accuracy')\n",
        "plt.legend()\n",
        "plt.title('Training and Test Accuracy')\n",
        "\n",
        "\n",
        "plt.show()"
      ],
      "id": "OH325O7qf5Lt"
    },
    {
      "cell_type": "code",
      "execution_count": 78,
      "metadata": {
        "colab": {
          "base_uri": "https://localhost:8080/"
        },
        "id": "zCNOuI1BpH0f",
        "outputId": "0dc4f072-5959-424c-d192-02b0867f067a"
      },
      "outputs": [
        {
          "output_type": "execute_result",
          "data": {
            "text/plain": [
              "(0.77875, 0.78875)"
            ]
          },
          "metadata": {},
          "execution_count": 78
        }
      ],
      "source": [
        "train_accuracy_list[-1], test_accuracy_list[-1]\n"
      ],
      "id": "zCNOuI1BpH0f"
    },
    {
      "cell_type": "code",
      "source": [],
      "metadata": {
        "id": "JJ2WTgfwKkpD"
      },
      "id": "JJ2WTgfwKkpD",
      "execution_count": 78,
      "outputs": []
    },
    {
      "cell_type": "code",
      "source": [],
      "metadata": {
        "id": "1L6Jk9-wKksP"
      },
      "id": "1L6Jk9-wKksP",
      "execution_count": 78,
      "outputs": []
    },
    {
      "cell_type": "code",
      "source": [],
      "metadata": {
        "id": "hhGEVQWXKSx6"
      },
      "id": "hhGEVQWXKSx6",
      "execution_count": 78,
      "outputs": []
    },
    {
      "cell_type": "code",
      "source": [],
      "metadata": {
        "id": "vSLBnGW5KS93"
      },
      "id": "vSLBnGW5KS93",
      "execution_count": 78,
      "outputs": []
    },
    {
      "cell_type": "markdown",
      "id": "9ecc37d5",
      "metadata": {
        "id": "9ecc37d5"
      },
      "source": [
        "<p class=\"task\" id=\"4\"></p>\n",
        "\n",
        "4\\. Повторите решение предыдущей задачи, заморозив все сверточные слои, кроме последнего (слои классификатора не замораживайте). Сравните качество полученного решения и решения из предыдущей задачи, а также время, затраченное на обучения моделей.\n",
        "\n",
        "- [ ] Проверено на семинаре"
      ]
    },
    {
      "cell_type": "code",
      "source": [
        "model = models.vgg16(pretrained=True)\n",
        "\n",
        "\n",
        "for name, param in model.named_parameters():\n",
        "    if 'classifier' not in name:\n",
        "        param.requires_grad = False\n"
      ],
      "metadata": {
        "id": "PLmwtTZzNt1Y"
      },
      "id": "PLmwtTZzNt1Y",
      "execution_count": 79,
      "outputs": []
    },
    {
      "cell_type": "code",
      "source": [
        "num_classes = len(dataset.classes)\n",
        "model.classifier[6] = nn.Linear(4096, num_classes)"
      ],
      "metadata": {
        "id": "KYv1qYDlN1lS"
      },
      "id": "KYv1qYDlN1lS",
      "execution_count": 80,
      "outputs": []
    },
    {
      "cell_type": "code",
      "source": [],
      "metadata": {
        "id": "66fFwXXJNGk7"
      },
      "id": "66fFwXXJNGk7",
      "execution_count": 80,
      "outputs": []
    },
    {
      "cell_type": "code",
      "source": [
        "device = torch.device(\"cuda\" if torch.cuda.is_available() else \"cpu\")\n",
        "model.to(device)"
      ],
      "metadata": {
        "id": "FaPdVuWsOBLP"
      },
      "execution_count": null,
      "outputs": [],
      "id": "FaPdVuWsOBLP"
    },
    {
      "cell_type": "code",
      "source": [
        "criterion = nn.CrossEntropyLoss()\n",
        "optimizer = optim.SGD(model.parameters(), lr=0.001)\n",
        "num_epochs=10"
      ],
      "metadata": {
        "id": "cEcIlD5IOBLP"
      },
      "execution_count": 82,
      "outputs": [],
      "id": "cEcIlD5IOBLP"
    },
    {
      "cell_type": "code",
      "execution_count": 83,
      "metadata": {
        "id": "XupQQh6NOBLP"
      },
      "outputs": [],
      "source": [
        "train_loss_list = []\n",
        "train_accuracy_list = []\n",
        "test_accuracy_list = []"
      ],
      "id": "XupQQh6NOBLP"
    },
    {
      "cell_type": "code",
      "execution_count": 84,
      "metadata": {
        "colab": {
          "base_uri": "https://localhost:8080/"
        },
        "outputId": "05becb8f-3f58-49ac-9519-9ba5468b34de",
        "id": "f1p7zgjJOBLQ"
      },
      "outputs": [
        {
          "output_type": "stream",
          "name": "stdout",
          "text": [
            "Epoch 1, Loss: 0.9276, Train Accuracy: 0.6219, Test Accuracy: 0.7562\n",
            "Epoch 2, Loss: 0.6890, Train Accuracy: 0.7297, Test Accuracy: 0.7700\n",
            "Epoch 3, Loss: 0.6128, Train Accuracy: 0.7591, Test Accuracy: 0.7837\n",
            "Epoch 4, Loss: 0.5901, Train Accuracy: 0.7650, Test Accuracy: 0.7812\n",
            "Epoch 5, Loss: 0.5573, Train Accuracy: 0.7750, Test Accuracy: 0.7875\n",
            "Epoch 6, Loss: 0.5369, Train Accuracy: 0.7825, Test Accuracy: 0.7925\n",
            "Epoch 7, Loss: 0.5179, Train Accuracy: 0.7891, Test Accuracy: 0.7950\n",
            "Epoch 8, Loss: 0.4935, Train Accuracy: 0.8034, Test Accuracy: 0.7937\n",
            "Epoch 9, Loss: 0.4860, Train Accuracy: 0.8122, Test Accuracy: 0.7975\n",
            "Epoch 10, Loss: 0.4760, Train Accuracy: 0.8091, Test Accuracy: 0.7937\n",
            "CPU times: user 6min 2s, sys: 1.96 s, total: 6min 4s\n",
            "Wall time: 6min 6s\n"
          ]
        }
      ],
      "source": [
        "%%time\n",
        "for epoch in range(num_epochs):\n",
        "    model.train()\n",
        "    running_loss = 0\n",
        "    total_correct = 0\n",
        "    total_samples = 0\n",
        "\n",
        "    for inputs, labels in train_loader:\n",
        "        inputs, labels = inputs.to(device), labels.to(device)\n",
        "\n",
        "\n",
        "        outputs = model(inputs)\n",
        "        loss = criterion(outputs, labels)\n",
        "        loss.backward()\n",
        "        optimizer.step()\n",
        "        optimizer.zero_grad()\n",
        "\n",
        "\n",
        "\n",
        "        running_loss += loss.item()\n",
        "        _, predicted = torch.max(outputs, 1)\n",
        "        total_correct += (predicted == labels).sum().item()\n",
        "        total_samples += labels.size(0)\n",
        "\n",
        "    train_accuracy = total_correct / total_samples\n",
        "    train_accuracy_list.append(train_accuracy)\n",
        "    train_loss_list.append(running_loss / len(train_loader))\n",
        "\n",
        "\n",
        "    model.eval()\n",
        "    correct = 0\n",
        "    total = 0\n",
        "\n",
        "    with torch.no_grad():\n",
        "        for inputs, labels in test_loader:\n",
        "            inputs, labels = inputs.to(device), labels.to(device)\n",
        "\n",
        "\n",
        "            outputs = model(inputs)\n",
        "            _, predicted = torch.max(outputs.data, 1)\n",
        "            total += labels.size(0)\n",
        "            correct += (predicted == labels).sum().item()\n",
        "\n",
        "    test_accuracy = correct / total\n",
        "    test_accuracy_list.append(test_accuracy)\n",
        "\n",
        "    print(f'Epoch {epoch+1}, Loss: {train_loss_list[-1]:.4f}, Train Accuracy: {train_accuracy:.4f}, Test Accuracy: {test_accuracy:.4f}')\n"
      ],
      "id": "f1p7zgjJOBLQ"
    },
    {
      "cell_type": "code",
      "execution_count": 85,
      "metadata": {
        "colab": {
          "base_uri": "https://localhost:8080/",
          "height": 487
        },
        "outputId": "44041e23-3353-4298-977f-4f46cddba8e5",
        "id": "aRbdEjxTOBLQ"
      },
      "outputs": [
        {
          "output_type": "display_data",
          "data": {
            "text/plain": [
              "<Figure size 1200x500 with 2 Axes>"
            ],
            "image/png": "[encoded data removed]"
          },
          "metadata": {}
        }
      ],
      "source": [
        "plt.figure(figsize=(12, 5))\n",
        "plt.subplot(1, 2, 1)\n",
        "plt.plot(train_loss_list, label='Train Loss')\n",
        "plt.xlabel('Epoch')\n",
        "plt.ylabel('Loss')\n",
        "plt.legend()\n",
        "plt.title('Training Loss')\n",
        "\n",
        "\n",
        "plt.subplot(1, 2, 2)\n",
        "plt.plot(train_accuracy_list, label='Train Accuracy')\n",
        "plt.plot(test_accuracy_list, label='Test Accuracy')\n",
        "plt.xlabel('Epoch')\n",
        "plt.ylabel('Accuracy')\n",
        "plt.legend()\n",
        "plt.title('Training and Test Accuracy')\n",
        "\n",
        "\n",
        "plt.show()"
      ],
      "id": "aRbdEjxTOBLQ"
    },
    {
      "cell_type": "code",
      "execution_count": 86,
      "metadata": {
        "colab": {
          "base_uri": "https://localhost:8080/"
        },
        "outputId": "940e597d-4f57-4a50-831f-a653869aa71a",
        "id": "lfUwyV3aOBLQ"
      },
      "outputs": [
        {
          "output_type": "execute_result",
          "data": {
            "text/plain": [
              "(0.8090625, 0.79375)"
            ]
          },
          "metadata": {},
          "execution_count": 86
        }
      ],
      "source": [
        "train_accuracy_list[-1], test_accuracy_list[-1]\n"
      ],
      "id": "lfUwyV3aOBLQ"
    },
    {
      "cell_type": "code",
      "source": [],
      "metadata": {
        "id": "pzSLQ8lwNGsP"
      },
      "id": "pzSLQ8lwNGsP",
      "execution_count": null,
      "outputs": []
    },
    {
      "cell_type": "code",
      "source": [],
      "metadata": {
        "id": "ECYE2k6eN4fJ"
      },
      "id": "ECYE2k6eN4fJ",
      "execution_count": null,
      "outputs": []
    },
    {
      "cell_type": "code",
      "source": [],
      "metadata": {
        "id": "kaIfWCamN4iF"
      },
      "id": "kaIfWCamN4iF",
      "execution_count": null,
      "outputs": []
    },
    {
      "cell_type": "code",
      "source": [],
      "metadata": {
        "id": "sxHl_0XmN4le"
      },
      "id": "sxHl_0XmN4le",
      "execution_count": null,
      "outputs": []
    },
    {
      "cell_type": "code",
      "source": [],
      "metadata": {
        "id": "Ddu9Af0zNHDY"
      },
      "id": "Ddu9Af0zNHDY",
      "execution_count": null,
      "outputs": []
    },
    {
      "cell_type": "code",
      "source": [],
      "metadata": {
        "id": "m84kH1ZhBU-x"
      },
      "id": "m84kH1ZhBU-x",
      "execution_count": null,
      "outputs": []
    },
    {
      "cell_type": "code",
      "source": [],
      "metadata": {
        "id": "jI00pfypBVEh"
      },
      "id": "jI00pfypBVEh",
      "execution_count": null,
      "outputs": []
    },
    {
      "cell_type": "markdown",
      "id": "39ad15b2",
      "metadata": {
        "id": "39ad15b2"
      },
      "source": [
        "<p class=\"task\" id=\"5\"></p>\n",
        "\n",
        "5\\. Повторите решение задачи, расширив обучающий набор данных при помощи преобразований из `torchvision`, изменяющих изображение (повороты, изменение интенсивности пикселей, обрезание и т.д.). При оценке модели на тестовой выборке данные преобразования применяться не должны. Решение о том, сколько и каких слоев модели будет обучаться, примите самостоятельно.\n",
        "\n",
        "- [ ] Проверено на семинаре"
      ]
    },
    {
      "cell_type": "code",
      "source": [
        "train_transforms = T.Compose([\n",
        "    T.RandomResizedCrop(224), #Случайное обрезание\n",
        "    T.RandomHorizontalFlip(), #Случайное отражение по горизонтали\n",
        "    T.RandomRotation(10), # Случайное вращение до 10 градусов\n",
        "    T.ColorJitter(brightness=0.2, contrast=0.2, saturation=0.2, hue=0.2), #яркость, контраст, насыщенность, тон\n",
        "    T.ToTensor(),\n",
        "    T.Normalize(mean=(0.485, 0.456, 0.406), std=(0.229, 0.224, 0.225))\n",
        "])\n",
        "\n",
        "\n",
        "train, test = random_split(dataset, lengths=[0.8, 0.2])\n",
        "train = DatasetFromSubset(train, train_transforms)\n",
        "test = DatasetFromSubset(test, test_t)\n",
        "\n",
        "train_loader = DataLoader(train, batch_size=batch_size, shuffle=True)\n",
        "test_loader = DataLoader(test, batch_size=batch_size, shuffle=False)\n",
        "\n"
      ],
      "metadata": {
        "id": "6CadtW3sBVvi"
      },
      "id": "6CadtW3sBVvi",
      "execution_count": 87,
      "outputs": []
    },
    {
      "cell_type": "code",
      "source": [],
      "metadata": {
        "id": "RY1d_HEZBV0N"
      },
      "id": "RY1d_HEZBV0N",
      "execution_count": null,
      "outputs": []
    },
    {
      "cell_type": "code",
      "source": [
        "model = models.vgg16(pretrained=True)\n",
        "\n",
        "\n",
        "for name, param in model.named_parameters():\n",
        "    if 'classifier' not in name:\n",
        "        param.requires_grad = False\n"
      ],
      "metadata": {
        "id": "cVtW3dqFU4wY"
      },
      "execution_count": null,
      "outputs": [],
      "id": "cVtW3dqFU4wY"
    },
    {
      "cell_type": "code",
      "source": [
        "num_classes = len(dataset.classes)\n",
        "model.classifier[6] = nn.Linear(4096, num_classes)"
      ],
      "metadata": {
        "id": "Iy657AC8U4wZ"
      },
      "execution_count": 89,
      "outputs": [],
      "id": "Iy657AC8U4wZ"
    },
    {
      "cell_type": "code",
      "source": [
        "device = torch.device(\"cuda\" if torch.cuda.is_available() else \"cpu\")\n",
        "model.to(device)"
      ],
      "metadata": {
        "id": "UB-8CgZOU4wZ"
      },
      "execution_count": null,
      "outputs": [],
      "id": "UB-8CgZOU4wZ"
    },
    {
      "cell_type": "code",
      "source": [
        "criterion = nn.CrossEntropyLoss()\n",
        "optimizer = optim.SGD(model.parameters(), lr=0.001)\n",
        "num_epochs=10"
      ],
      "metadata": {
        "id": "NjMpNZ0bU4wZ"
      },
      "execution_count": 91,
      "outputs": [],
      "id": "NjMpNZ0bU4wZ"
    },
    {
      "cell_type": "code",
      "execution_count": 92,
      "metadata": {
        "id": "bTL_iWanU4wZ"
      },
      "outputs": [],
      "source": [
        "train_loss_list = []\n",
        "train_accuracy_list = []\n",
        "test_accuracy_list = []"
      ],
      "id": "bTL_iWanU4wZ"
    },
    {
      "cell_type": "code",
      "execution_count": 93,
      "metadata": {
        "colab": {
          "base_uri": "https://localhost:8080/"
        },
        "outputId": "4568b775-15b3-48e0-d6b2-62335d5bad5e",
        "id": "r2O2g7N_U4wZ"
      },
      "outputs": [
        {
          "output_type": "stream",
          "name": "stdout",
          "text": [
            "Epoch 1, Loss: 1.1192, Train Accuracy: 0.5256, Test Accuracy: 0.7063\n",
            "Epoch 2, Loss: 0.9011, Train Accuracy: 0.6247, Test Accuracy: 0.7450\n",
            "Epoch 3, Loss: 0.8492, Train Accuracy: 0.6450, Test Accuracy: 0.7550\n",
            "Epoch 4, Loss: 0.8222, Train Accuracy: 0.6659, Test Accuracy: 0.7588\n",
            "Epoch 5, Loss: 0.8012, Train Accuracy: 0.6753, Test Accuracy: 0.7625\n",
            "Epoch 6, Loss: 0.7876, Train Accuracy: 0.6719, Test Accuracy: 0.7625\n",
            "Epoch 7, Loss: 0.7301, Train Accuracy: 0.7025, Test Accuracy: 0.7650\n",
            "Epoch 8, Loss: 0.7498, Train Accuracy: 0.6769, Test Accuracy: 0.7650\n",
            "Epoch 9, Loss: 0.7253, Train Accuracy: 0.7078, Test Accuracy: 0.7675\n",
            "Epoch 10, Loss: 0.7562, Train Accuracy: 0.6816, Test Accuracy: 0.7738\n",
            "CPU times: user 9min 14s, sys: 2.6 s, total: 9min 16s\n",
            "Wall time: 9min 28s\n"
          ]
        }
      ],
      "source": [
        "%%time\n",
        "for epoch in range(num_epochs):\n",
        "    model.train()\n",
        "    running_loss = 0\n",
        "    total_correct = 0\n",
        "    total_samples = 0\n",
        "\n",
        "    for inputs, labels in train_loader:\n",
        "        inputs, labels = inputs.to(device), labels.to(device)\n",
        "\n",
        "\n",
        "        outputs = model(inputs)\n",
        "        loss = criterion(outputs, labels)\n",
        "        loss.backward()\n",
        "        optimizer.step()\n",
        "        optimizer.zero_grad()\n",
        "\n",
        "\n",
        "\n",
        "        running_loss += loss.item()\n",
        "        _, predicted = torch.max(outputs, 1)\n",
        "        total_correct += (predicted == labels).sum().item()\n",
        "        total_samples += labels.size(0)\n",
        "\n",
        "    train_accuracy = total_correct / total_samples\n",
        "    train_accuracy_list.append(train_accuracy)\n",
        "    train_loss_list.append(running_loss / len(train_loader))\n",
        "\n",
        "\n",
        "    model.eval()\n",
        "    correct = 0\n",
        "    total = 0\n",
        "\n",
        "    with torch.no_grad():\n",
        "        for inputs, labels in test_loader:\n",
        "            inputs, labels = inputs.to(device), labels.to(device)\n",
        "\n",
        "\n",
        "            outputs = model(inputs)\n",
        "            _, predicted = torch.max(outputs.data, 1)\n",
        "            total += labels.size(0)\n",
        "            correct += (predicted == labels).sum().item()\n",
        "\n",
        "    test_accuracy = correct / total\n",
        "    test_accuracy_list.append(test_accuracy)\n",
        "\n",
        "    print(f'Epoch {epoch+1}, Loss: {train_loss_list[-1]:.4f}, Train Accuracy: {train_accuracy:.4f}, Test Accuracy: {test_accuracy:.4f}')\n"
      ],
      "id": "r2O2g7N_U4wZ"
    },
    {
      "cell_type": "code",
      "execution_count": 94,
      "metadata": {
        "colab": {
          "base_uri": "https://localhost:8080/",
          "height": 487
        },
        "outputId": "ad63fbcc-318a-409c-9782-35cc575cbd93",
        "id": "2oXEn2MaU4wZ"
      },
      "outputs": [
        {
          "output_type": "display_data",
          "data": {
            "text/plain": [
              "<Figure size 1200x500 with 2 Axes>"
            ],
            "image/png": "[encoded data removed]"
          },
          "metadata": {}
        }
      ],
      "source": [
        "plt.figure(figsize=(12, 5))\n",
        "plt.subplot(1, 2, 1)\n",
        "plt.plot(train_loss_list, label='Train Loss')\n",
        "plt.xlabel('Epoch')\n",
        "plt.ylabel('Loss')\n",
        "plt.legend()\n",
        "plt.title('Training Loss')\n",
        "\n",
        "\n",
        "plt.subplot(1, 2, 2)\n",
        "plt.plot(train_accuracy_list, label='Train Accuracy')\n",
        "plt.plot(test_accuracy_list, label='Test Accuracy')\n",
        "plt.xlabel('Epoch')\n",
        "plt.ylabel('Accuracy')\n",
        "plt.legend()\n",
        "plt.title('Training and Test Accuracy')\n",
        "\n",
        "\n",
        "plt.show()"
      ],
      "id": "2oXEn2MaU4wZ"
    },
    {
      "cell_type": "code",
      "execution_count": 95,
      "metadata": {
        "colab": {
          "base_uri": "https://localhost:8080/"
        },
        "outputId": "8e1a0242-a3a3-4d2d-abd2-be6065e14acb",
        "id": "O8shRAuaU4wZ"
      },
      "outputs": [
        {
          "output_type": "execute_result",
          "data": {
            "text/plain": [
              "(0.6815625, 0.77375)"
            ]
          },
          "metadata": {},
          "execution_count": 95
        }
      ],
      "source": [
        "train_accuracy_list[-1], test_accuracy_list[-1]\n"
      ],
      "id": "O8shRAuaU4wZ"
    },
    {
      "cell_type": "code",
      "source": [],
      "metadata": {
        "id": "nSM2NckZBV4r"
      },
      "id": "nSM2NckZBV4r",
      "execution_count": null,
      "outputs": []
    },
    {
      "cell_type": "markdown",
      "id": "66caa919",
      "metadata": {
        "id": "66caa919"
      },
      "source": [
        "## Обратная связь\n",
        "- [ ] Хочу получить обратную связь по решению"
      ]
    }
  ],
  "metadata": {
    "kernelspec": {
      "display_name": "Python 3",
      "name": "python3"
    },
    "language_info": {
      "codemirror_mode": {
        "name": "ipython",
        "version": 3
      },
      "file_extension": ".py",
      "mimetype": "text/x-python",
      "name": "python",
      "nbconvert_exporter": "python",
      "pygments_lexer": "ipython3",
      "version": "3.9.13"
    },
    "colab": {
      "provenance": [],
      "gpuType": "T4"
    },
    "accelerator": "GPU"
  },
  "nbformat": 4,
  "nbformat_minor": 5
}