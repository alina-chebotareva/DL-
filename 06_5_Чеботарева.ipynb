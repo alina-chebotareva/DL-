{
  "cells": [
    {
      "cell_type": "markdown",
      "id": "3a564d5f",
      "metadata": {
        "id": "3a564d5f"
      },
      "source": [
        "#  🤗 Transformers\n",
        "\n",
        "__Автор задач: Блохин Н.В. (NVBlokhin@fa.ru)__\n",
        "\n",
        "Материалы:\n",
        "* https://huggingface.co/docs/transformers/index\n",
        "* https://huggingface.co/docs/transformers/main_classes/pipelines#transformers.pipeline.task\n",
        "* https://huggingface.co/docs/transformers/preprocessing\n",
        "* https://huggingface.co/blog/getting-started-with-embeddings\n",
        "* https://huggingface.co/sentence-transformers\n",
        "* https://habr.com/ru/articles/704592/\n",
        "\n",
        "https://huggingface.co/docs/transformers/training\n",
        "https://huggingface.co/docs/datasets/main/en/repository_structure\n",
        "https://huggingface.co/docs/datasets/main/en/package_reference/loading_methods#datasets.load_dataset\n",
        "https://huggingface.co/docs/transformers/v4.35.2/en/training#prepare-a-dataset\n",
        "https://huggingface.co/docs/datasets/process\n",
        "https://huggingface.co/docs/evaluate/index\n",
        "https://huggingface.co/docs/transformers/main_classes/trainer\n",
        "https://huggingface.co/docs/transformers/v4.35.2/en/main_classes/trainer#transformers.TrainingArguments"
      ]
    },
    {
      "cell_type": "markdown",
      "id": "c9ecd663",
      "metadata": {
        "id": "c9ecd663"
      },
      "source": [
        "## Задачи для совместного разбора"
      ]
    },
    {
      "cell_type": "code",
      "source": [
        "!pip install transformers"
      ],
      "metadata": {
        "id": "YknkYXXOTvaY"
      },
      "id": "YknkYXXOTvaY",
      "execution_count": null,
      "outputs": []
    },
    {
      "cell_type": "markdown",
      "id": "87f79802",
      "metadata": {
        "id": "87f79802"
      },
      "source": [
        "1\\. Обсудите основные возможности и экосистему пакета 🤗 Transformers на примере задачи поиска ответа на вопрос в тексте."
      ]
    },
    {
      "cell_type": "code",
      "execution_count": null,
      "id": "fd8e9845",
      "metadata": {
        "id": "fd8e9845"
      },
      "outputs": [],
      "source": [
        "context = \"\"\"The seminars on Deep Learning and Natural Language Processing were truly captivating,\n",
        "providing a deep dive into the intricacies of these disciplines.\n",
        "The wealth of knowledge and insights gained during the sessions was commendable.\n",
        "However, it's disheartening to note the scarcity of homework assignments.\n",
        "Anastasia, in particular, is quite concerned that the limited number of assignments might\n",
        "fall short of even reaching 30. While the seminars were intellectually stimulating,\n",
        "the desire for more hands-on practice through assignments remains strong,\n",
        "as it is crucial for reinforcing the theoretical understanding acquired during the classes.\"\"\""
      ]
    },
    {
      "cell_type": "code",
      "execution_count": null,
      "id": "6679f696",
      "metadata": {
        "id": "6679f696"
      },
      "outputs": [],
      "source": [
        "question1 = \"What would be the ideal number of homework assignments for Anastasia\"\n",
        "question2 = \"What are the shortcomings of the course?\""
      ]
    },
    {
      "cell_type": "code",
      "source": [
        "from transformers import pipeline\n",
        "\n",
        "question_answerer = pipeline(\n",
        "    \"question-answering\",\n",
        "    model='distilbert-base-cased-distilled-squad'\n",
        ")\n",
        "\n",
        "result = question_answerer(\n",
        "    question=question1,\n",
        "    context=context\n",
        ")\n",
        "result"
      ],
      "metadata": {
        "id": "44xVv4KZT7NK"
      },
      "id": "44xVv4KZT7NK",
      "execution_count": null,
      "outputs": []
    },
    {
      "cell_type": "code",
      "source": [
        "context[result[\"start\"]: result[\"end\"]]"
      ],
      "metadata": {
        "colab": {
          "base_uri": "https://localhost:8080/",
          "height": 36
        },
        "id": "HYvFEpMnT7IQ",
        "outputId": "626dcade-25f9-466a-f25e-ae7d07becc5e"
      },
      "id": "HYvFEpMnT7IQ",
      "execution_count": null,
      "outputs": [
        {
          "output_type": "execute_result",
          "data": {
            "text/plain": [
              "'30'"
            ],
            "application/vnd.google.colaboratory.intrinsic+json": {
              "type": "string"
            }
          },
          "metadata": {},
          "execution_count": 5
        }
      ]
    },
    {
      "cell_type": "code",
      "source": [
        "result[\"answer\"]"
      ],
      "metadata": {
        "colab": {
          "base_uri": "https://localhost:8080/",
          "height": 36
        },
        "id": "WBiZslz8UoyK",
        "outputId": "b42180ec-1b48-44f9-fcf5-a0a04258bfad"
      },
      "id": "WBiZslz8UoyK",
      "execution_count": null,
      "outputs": [
        {
          "output_type": "execute_result",
          "data": {
            "text/plain": [
              "'30'"
            ],
            "application/vnd.google.colaboratory.intrinsic+json": {
              "type": "string"
            }
          },
          "metadata": {},
          "execution_count": 7
        }
      ]
    },
    {
      "cell_type": "code",
      "source": [
        "from transformers import DistilBertTokenizer, DistilBertModel\n",
        "import torch\n",
        "# from transformers import AutoTokenizer\n",
        "\n",
        "tokenizer = DistilBertTokenizer.from_pretrained('distilbert-base-cased-distilled-squad')\n",
        "model = DistilBertModel.from_pretrained('distilbert-base-cased-distilled-squad')\n",
        "inputs = tokenizer(question1, context, return_tensors=\"pt\")"
      ],
      "metadata": {
        "id": "HRH-T7TqVUwk"
      },
      "id": "HRH-T7TqVUwk",
      "execution_count": null,
      "outputs": []
    },
    {
      "cell_type": "code",
      "source": [
        "inputs"
      ],
      "metadata": {
        "id": "kxwl4YQLVuXy"
      },
      "id": "kxwl4YQLVuXy",
      "execution_count": null,
      "outputs": []
    },
    {
      "cell_type": "code",
      "source": [
        "with torch.no_grad():\n",
        "    outputs = model(**inputs)\n",
        "\n",
        "print(outputs)"
      ],
      "metadata": {
        "colab": {
          "base_uri": "https://localhost:8080/"
        },
        "id": "pXajm59LVsfj",
        "outputId": "5c6f1770-e299-4903-c1c3-d39d37ac9fce"
      },
      "id": "pXajm59LVsfj",
      "execution_count": null,
      "outputs": [
        {
          "output_type": "stream",
          "name": "stdout",
          "text": [
            "BaseModelOutput(last_hidden_state=tensor([[[ 1.2595, -0.6063,  1.6427,  ..., -0.4271,  0.0788, -0.3389],\n",
            "         [ 0.7698, -0.7574,  1.5950,  ..., -1.1511, -0.4955, -0.1044],\n",
            "         [ 1.1409, -0.8310,  1.4844,  ..., -1.0516, -0.3719,  0.0044],\n",
            "         ...,\n",
            "         [ 1.0212, -0.6903,  1.8762,  ...,  0.0586,  0.0653, -0.5465],\n",
            "         [ 1.3074, -0.4359,  1.9121,  ..., -0.4082,  0.2553, -0.8889],\n",
            "         [ 0.8205, -1.0346,  1.5188,  ..., -0.9568,  1.0282, -0.2448]]]), hidden_states=None, attentions=None)\n"
          ]
        }
      ]
    },
    {
      "cell_type": "markdown",
      "id": "c4ae0e91-2437-44a7-9cd5-58198a7bef20",
      "metadata": {
        "id": "c4ae0e91-2437-44a7-9cd5-58198a7bef20"
      },
      "source": [
        "2\\. Обсудите основные шаги по дообучению моделей из экосистемы 🤗 Transformers."
      ]
    },
    {
      "cell_type": "markdown",
      "id": "4d7b6d63",
      "metadata": {
        "id": "4d7b6d63"
      },
      "source": [
        "## Задачи для самостоятельного решения"
      ]
    },
    {
      "cell_type": "markdown",
      "id": "2e3fae16",
      "metadata": {
        "id": "2e3fae16"
      },
      "source": [
        "<p class=\"task\" id=\"1\"></p>\n",
        "\n",
        "1\\. Загрузите данные из файла `reviews_polarity.csv`. Среди предобученных моделей найдите модель для классификации тональности русскоязычного текста (позитивный/негативный или позитивный/негативный/нейтральный). Протестируйте данную модель на нескольких предложениях, используя `transformers.pipeline`. Выведите результаты работы в следующем виде:\n",
        "\n",
        "```\n",
        "sentence1 -> class1\n",
        "sentence2 -> class2\n",
        "...\n",
        "```\n",
        "\n",
        "Получите прогноз для всех текстов из файла и посчитайте F1-score. Для ускорения работы модели вы можете перенести ее на GPU и использовать возможности pipeline для работы с батчами и генераторами.\n",
        "\n",
        "- [ ] Проверено на семинаре"
      ]
    },
    {
      "cell_type": "code",
      "source": [
        "import pandas as pd\n",
        "from sklearn.metrics import f1_score\n",
        "from transformers import pipeline\n"
      ],
      "metadata": {
        "id": "zZqxZrOgHZCY"
      },
      "id": "zZqxZrOgHZCY",
      "execution_count": 1,
      "outputs": []
    },
    {
      "cell_type": "code",
      "source": [
        "from tqdm import tqdm"
      ],
      "metadata": {
        "id": "93lbpx4PJuZb"
      },
      "id": "93lbpx4PJuZb",
      "execution_count": 2,
      "outputs": []
    },
    {
      "cell_type": "code",
      "source": [
        "device = torch.device(\"cuda\" if torch.cuda.is_available() else \"cpu\")"
      ],
      "metadata": {
        "id": "DV0_-Vs1RaCH"
      },
      "id": "DV0_-Vs1RaCH",
      "execution_count": 11,
      "outputs": []
    },
    {
      "cell_type": "code",
      "source": [
        "data = pd.read_csv('reviews_polarity.csv')\n",
        "data"
      ],
      "metadata": {
        "colab": {
          "base_uri": "https://localhost:8080/",
          "height": 424
        },
        "id": "JSnlDDpSHZFr",
        "outputId": "4722cb7d-91ac-49e6-c1a0-2e8558e96129"
      },
      "id": "JSnlDDpSHZFr",
      "execution_count": 33,
      "outputs": [
        {
          "output_type": "execute_result",
          "data": {
            "text/plain": [
              "                                                    text  class\n",
              "0      Очень хорошо что открылась 5 ка, теперь не над...      1\n",
              "1      Тесно, вечная сутолока, между рядами трудно ра...      0\n",
              "2      Магазин в пешей доступности. После ремонта и р...      1\n",
              "3      Магазин хороший цены и скидки нормальные токо ...      1\n",
              "4      Сложно найти в торговом центре. А магазин - норм)      1\n",
              "...                                                  ...    ...\n",
              "38213  Магазин очень хороший есть большой ассортимент...      1\n",
              "38214  Удобный, но маленький и ещё не обновили как др...      1\n",
              "38215  Очень хочется пожелать этому магазину стать та...      0\n",
              "38216  Нравится ваш магазин, персонал одекватный, пор...      1\n",
              "38217                                 Не очень  персонал      0\n",
              "\n",
              "[38218 rows x 2 columns]"
            ],
            "text/html": [
              "\n",
              "  <div id=\"df-786a1d30-4994-4bb2-878b-74e3fba91be1\" class=\"colab-df-container\">\n",
              "    <div>\n",
              "<style scoped>\n",
              "    .dataframe tbody tr th:only-of-type {\n",
              "        vertical-align: middle;\n",
              "    }\n",
              "\n",
              "    .dataframe tbody tr th {\n",
              "        vertical-align: top;\n",
              "    }\n",
              "\n",
              "    .dataframe thead th {\n",
              "        text-align: right;\n",
              "    }\n",
              "</style>\n",
              "<table border=\"1\" class=\"dataframe\">\n",
              "  <thead>\n",
              "    <tr style=\"text-align: right;\">\n",
              "      <th></th>\n",
              "      <th>text</th>\n",
              "      <th>class</th>\n",
              "    </tr>\n",
              "  </thead>\n",
              "  <tbody>\n",
              "    <tr>\n",
              "      <th>0</th>\n",
              "      <td>Очень хорошо что открылась 5 ка, теперь не над...</td>\n",
              "      <td>1</td>\n",
              "    </tr>\n",
              "    <tr>\n",
              "      <th>1</th>\n",
              "      <td>Тесно, вечная сутолока, между рядами трудно ра...</td>\n",
              "      <td>0</td>\n",
              "    </tr>\n",
              "    <tr>\n",
              "      <th>2</th>\n",
              "      <td>Магазин в пешей доступности. После ремонта и р...</td>\n",
              "      <td>1</td>\n",
              "    </tr>\n",
              "    <tr>\n",
              "      <th>3</th>\n",
              "      <td>Магазин хороший цены и скидки нормальные токо ...</td>\n",
              "      <td>1</td>\n",
              "    </tr>\n",
              "    <tr>\n",
              "      <th>4</th>\n",
              "      <td>Сложно найти в торговом центре. А магазин - норм)</td>\n",
              "      <td>1</td>\n",
              "    </tr>\n",
              "    <tr>\n",
              "      <th>...</th>\n",
              "      <td>...</td>\n",
              "      <td>...</td>\n",
              "    </tr>\n",
              "    <tr>\n",
              "      <th>38213</th>\n",
              "      <td>Магазин очень хороший есть большой ассортимент...</td>\n",
              "      <td>1</td>\n",
              "    </tr>\n",
              "    <tr>\n",
              "      <th>38214</th>\n",
              "      <td>Удобный, но маленький и ещё не обновили как др...</td>\n",
              "      <td>1</td>\n",
              "    </tr>\n",
              "    <tr>\n",
              "      <th>38215</th>\n",
              "      <td>Очень хочется пожелать этому магазину стать та...</td>\n",
              "      <td>0</td>\n",
              "    </tr>\n",
              "    <tr>\n",
              "      <th>38216</th>\n",
              "      <td>Нравится ваш магазин, персонал одекватный, пор...</td>\n",
              "      <td>1</td>\n",
              "    </tr>\n",
              "    <tr>\n",
              "      <th>38217</th>\n",
              "      <td>Не очень  персонал</td>\n",
              "      <td>0</td>\n",
              "    </tr>\n",
              "  </tbody>\n",
              "</table>\n",
              "<p>38218 rows × 2 columns</p>\n",
              "</div>\n",
              "    <div class=\"colab-df-buttons\">\n",
              "\n",
              "  <div class=\"colab-df-container\">\n",
              "    <button class=\"colab-df-convert\" onclick=\"convertToInteractive('df-786a1d30-4994-4bb2-878b-74e3fba91be1')\"\n",
              "            title=\"Convert this dataframe to an interactive table.\"\n",
              "            style=\"display:none;\">\n",
              "\n",
              "  <svg xmlns=\"http://www.w3.org/2000/svg\" height=\"24px\" viewBox=\"0 -960 960 960\">\n",
              "    <path d=\"M120-120v-720h720v720H120Zm60-500h600v-160H180v160Zm220 220h160v-160H400v160Zm0 220h160v-160H400v160ZM180-400h160v-160H180v160Zm440 0h160v-160H620v160ZM180-180h160v-160H180v160Zm440 0h160v-160H620v160Z\"/>\n",
              "  </svg>\n",
              "    </button>\n",
              "\n",
              "  <style>\n",
              "    .colab-df-container {\n",
              "      display:flex;\n",
              "      gap: 12px;\n",
              "    }\n",
              "\n",
              "    .colab-df-convert {\n",
              "      background-color: #E8F0FE;\n",
              "      border: none;\n",
              "      border-radius: 50%;\n",
              "      cursor: pointer;\n",
              "      display: none;\n",
              "      fill: #1967D2;\n",
              "      height: 32px;\n",
              "      padding: 0 0 0 0;\n",
              "      width: 32px;\n",
              "    }\n",
              "\n",
              "    .colab-df-convert:hover {\n",
              "      background-color: #E2EBFA;\n",
              "      box-shadow: 0px 1px 2px rgba(60, 64, 67, 0.3), 0px 1px 3px 1px rgba(60, 64, 67, 0.15);\n",
              "      fill: #174EA6;\n",
              "    }\n",
              "\n",
              "    .colab-df-buttons div {\n",
              "      margin-bottom: 4px;\n",
              "    }\n",
              "\n",
              "    [theme=dark] .colab-df-convert {\n",
              "      background-color: #3B4455;\n",
              "      fill: #D2E3FC;\n",
              "    }\n",
              "\n",
              "    [theme=dark] .colab-df-convert:hover {\n",
              "      background-color: #434B5C;\n",
              "      box-shadow: 0px 1px 3px 1px rgba(0, 0, 0, 0.15);\n",
              "      filter: drop-shadow(0px 1px 2px rgba(0, 0, 0, 0.3));\n",
              "      fill: #FFFFFF;\n",
              "    }\n",
              "  </style>\n",
              "\n",
              "    <script>\n",
              "      const buttonEl =\n",
              "        document.querySelector('#df-786a1d30-4994-4bb2-878b-74e3fba91be1 button.colab-df-convert');\n",
              "      buttonEl.style.display =\n",
              "        google.colab.kernel.accessAllowed ? 'block' : 'none';\n",
              "\n",
              "      async function convertToInteractive(key) {\n",
              "        const element = document.querySelector('#df-786a1d30-4994-4bb2-878b-74e3fba91be1');\n",
              "        const dataTable =\n",
              "          await google.colab.kernel.invokeFunction('convertToInteractive',\n",
              "                                                    [key], {});\n",
              "        if (!dataTable) return;\n",
              "\n",
              "        const docLinkHtml = 'Like what you see? Visit the ' +\n",
              "          '<a target=\"_blank\" href=https://colab.research.google.com/notebooks/data_table.ipynb>data table notebook</a>'\n",
              "          + ' to learn more about interactive tables.';\n",
              "        element.innerHTML = '';\n",
              "        dataTable['output_type'] = 'display_data';\n",
              "        await google.colab.output.renderOutput(dataTable, element);\n",
              "        const docLink = document.createElement('div');\n",
              "        docLink.innerHTML = docLinkHtml;\n",
              "        element.appendChild(docLink);\n",
              "      }\n",
              "    </script>\n",
              "  </div>\n",
              "\n",
              "\n",
              "<div id=\"df-b5b01f1a-fad1-43a3-97a2-527ffe5bed4b\">\n",
              "  <button class=\"colab-df-quickchart\" onclick=\"quickchart('df-b5b01f1a-fad1-43a3-97a2-527ffe5bed4b')\"\n",
              "            title=\"Suggest charts\"\n",
              "            style=\"display:none;\">\n",
              "\n",
              "<svg xmlns=\"http://www.w3.org/2000/svg\" height=\"24px\"viewBox=\"0 0 24 24\"\n",
              "     width=\"24px\">\n",
              "    <g>\n",
              "        <path d=\"M19 3H5c-1.1 0-2 .9-2 2v14c0 1.1.9 2 2 2h14c1.1 0 2-.9 2-2V5c0-1.1-.9-2-2-2zM9 17H7v-7h2v7zm4 0h-2V7h2v10zm4 0h-2v-4h2v4z\"/>\n",
              "    </g>\n",
              "</svg>\n",
              "  </button>\n",
              "\n",
              "<style>\n",
              "  .colab-df-quickchart {\n",
              "      --bg-color: #E8F0FE;\n",
              "      --fill-color: #1967D2;\n",
              "      --hover-bg-color: #E2EBFA;\n",
              "      --hover-fill-color: #174EA6;\n",
              "      --disabled-fill-color: #AAA;\n",
              "      --disabled-bg-color: #DDD;\n",
              "  }\n",
              "\n",
              "  [theme=dark] .colab-df-quickchart {\n",
              "      --bg-color: #3B4455;\n",
              "      --fill-color: #D2E3FC;\n",
              "      --hover-bg-color: #434B5C;\n",
              "      --hover-fill-color: #FFFFFF;\n",
              "      --disabled-bg-color: #3B4455;\n",
              "      --disabled-fill-color: #666;\n",
              "  }\n",
              "\n",
              "  .colab-df-quickchart {\n",
              "    background-color: var(--bg-color);\n",
              "    border: none;\n",
              "    border-radius: 50%;\n",
              "    cursor: pointer;\n",
              "    display: none;\n",
              "    fill: var(--fill-color);\n",
              "    height: 32px;\n",
              "    padding: 0;\n",
              "    width: 32px;\n",
              "  }\n",
              "\n",
              "  .colab-df-quickchart:hover {\n",
              "    background-color: var(--hover-bg-color);\n",
              "    box-shadow: 0 1px 2px rgba(60, 64, 67, 0.3), 0 1px 3px 1px rgba(60, 64, 67, 0.15);\n",
              "    fill: var(--button-hover-fill-color);\n",
              "  }\n",
              "\n",
              "  .colab-df-quickchart-complete:disabled,\n",
              "  .colab-df-quickchart-complete:disabled:hover {\n",
              "    background-color: var(--disabled-bg-color);\n",
              "    fill: var(--disabled-fill-color);\n",
              "    box-shadow: none;\n",
              "  }\n",
              "\n",
              "  .colab-df-spinner {\n",
              "    border: 2px solid var(--fill-color);\n",
              "    border-color: transparent;\n",
              "    border-bottom-color: var(--fill-color);\n",
              "    animation:\n",
              "      spin 1s steps(1) infinite;\n",
              "  }\n",
              "\n",
              "  @keyframes spin {\n",
              "    0% {\n",
              "      border-color: transparent;\n",
              "      border-bottom-color: var(--fill-color);\n",
              "      border-left-color: var(--fill-color);\n",
              "    }\n",
              "    20% {\n",
              "      border-color: transparent;\n",
              "      border-left-color: var(--fill-color);\n",
              "      border-top-color: var(--fill-color);\n",
              "    }\n",
              "    30% {\n",
              "      border-color: transparent;\n",
              "      border-left-color: var(--fill-color);\n",
              "      border-top-color: var(--fill-color);\n",
              "      border-right-color: var(--fill-color);\n",
              "    }\n",
              "    40% {\n",
              "      border-color: transparent;\n",
              "      border-right-color: var(--fill-color);\n",
              "      border-top-color: var(--fill-color);\n",
              "    }\n",
              "    60% {\n",
              "      border-color: transparent;\n",
              "      border-right-color: var(--fill-color);\n",
              "    }\n",
              "    80% {\n",
              "      border-color: transparent;\n",
              "      border-right-color: var(--fill-color);\n",
              "      border-bottom-color: var(--fill-color);\n",
              "    }\n",
              "    90% {\n",
              "      border-color: transparent;\n",
              "      border-bottom-color: var(--fill-color);\n",
              "    }\n",
              "  }\n",
              "</style>\n",
              "\n",
              "  <script>\n",
              "    async function quickchart(key) {\n",
              "      const quickchartButtonEl =\n",
              "        document.querySelector('#' + key + ' button');\n",
              "      quickchartButtonEl.disabled = true;  // To prevent multiple clicks.\n",
              "      quickchartButtonEl.classList.add('colab-df-spinner');\n",
              "      try {\n",
              "        const charts = await google.colab.kernel.invokeFunction(\n",
              "            'suggestCharts', [key], {});\n",
              "      } catch (error) {\n",
              "        console.error('Error during call to suggestCharts:', error);\n",
              "      }\n",
              "      quickchartButtonEl.classList.remove('colab-df-spinner');\n",
              "      quickchartButtonEl.classList.add('colab-df-quickchart-complete');\n",
              "    }\n",
              "    (() => {\n",
              "      let quickchartButtonEl =\n",
              "        document.querySelector('#df-b5b01f1a-fad1-43a3-97a2-527ffe5bed4b button');\n",
              "      quickchartButtonEl.style.display =\n",
              "        google.colab.kernel.accessAllowed ? 'block' : 'none';\n",
              "    })();\n",
              "  </script>\n",
              "</div>\n",
              "    </div>\n",
              "  </div>\n"
            ]
          },
          "metadata": {},
          "execution_count": 33
        }
      ]
    },
    {
      "cell_type": "code",
      "source": [
        "data['class'].unique()"
      ],
      "metadata": {
        "colab": {
          "base_uri": "https://localhost:8080/"
        },
        "id": "mL89GtqMI9jd",
        "outputId": "93cb7039-940f-45e4-f7f5-a8938bc4d9f9"
      },
      "id": "mL89GtqMI9jd",
      "execution_count": 9,
      "outputs": [
        {
          "output_type": "execute_result",
          "data": {
            "text/plain": [
              "array([1, 0])"
            ]
          },
          "metadata": {},
          "execution_count": 9
        }
      ]
    },
    {
      "cell_type": "code",
      "source": [
        "import pandas as pd\n",
        "from sklearn.metrics import f1_score\n",
        "from transformers import pipeline, AutoTokenizer, AutoModelForSequenceClassification\n",
        "import torch"
      ],
      "metadata": {
        "id": "zJP_gC8HKapM"
      },
      "id": "zJP_gC8HKapM",
      "execution_count": 5,
      "outputs": []
    },
    {
      "cell_type": "code",
      "source": [
        "classifier = pipeline('sentiment-analysis', model='blanchefort/rubert-base-cased-sentiment', device=0, batch_size=8)\n"
      ],
      "metadata": {
        "id": "hpFZMv9-RAWq"
      },
      "id": "hpFZMv9-RAWq",
      "execution_count": 25,
      "outputs": []
    },
    {
      "cell_type": "code",
      "source": [
        "sentences = [\n",
        "    \"Это замечательный день!\",\n",
        "    \"Ужасный опыт, не рекомендую.\",\n",
        "    \"Фильм понравился, рекомендую всем посмотреть.\"\n",
        "]\n",
        "\n",
        "for sentence in sentences:\n",
        "    result = classifier(sentence)\n",
        "    print(f\"{sentence} -> {result[0]['label']}\")\n"
      ],
      "metadata": {
        "colab": {
          "base_uri": "https://localhost:8080/"
        },
        "id": "RMKRq-eDKXCe",
        "outputId": "cd63db7e-31a0-4985-8732-313372221a34"
      },
      "id": "RMKRq-eDKXCe",
      "execution_count": 26,
      "outputs": [
        {
          "output_type": "stream",
          "name": "stdout",
          "text": [
            "Это замечательный день! -> POSITIVE\n",
            "Ужасный опыт, не рекомендую. -> NEGATIVE\n",
            "Фильм понравился, рекомендую всем посмотреть. -> POSITIVE\n"
          ]
        }
      ]
    },
    {
      "cell_type": "code",
      "source": [
        "predictions = classifier(data['text'].tolist())"
      ],
      "metadata": {
        "id": "MkKYb9MbKXLP"
      },
      "id": "MkKYb9MbKXLP",
      "execution_count": 31,
      "outputs": []
    },
    {
      "cell_type": "code",
      "source": [
        "predictions[:5]"
      ],
      "metadata": {
        "colab": {
          "base_uri": "https://localhost:8080/"
        },
        "id": "INpmgeELVxjD",
        "outputId": "ebebe635-62cd-4674-e594-89b3bbc7eeea"
      },
      "id": "INpmgeELVxjD",
      "execution_count": 42,
      "outputs": [
        {
          "output_type": "execute_result",
          "data": {
            "text/plain": [
              "[{'label': 'POSITIVE', 'score': 0.9645202159881592},\n",
              " {'label': 'NEGATIVE', 'score': 0.7516101598739624},\n",
              " {'label': 'POSITIVE', 'score': 0.9681913256645203},\n",
              " {'label': 'POSITIVE', 'score': 0.9519004821777344},\n",
              " {'label': 'POSITIVE', 'score': 0.9813418388366699}]"
            ]
          },
          "metadata": {},
          "execution_count": 42
        }
      ]
    },
    {
      "cell_type": "code",
      "source": [
        "def f(label):\n",
        "    return 1 if label == 'POSITIVE' else 0"
      ],
      "metadata": {
        "id": "k-yUFkp1WaxN"
      },
      "id": "k-yUFkp1WaxN",
      "execution_count": 45,
      "outputs": []
    },
    {
      "cell_type": "code",
      "source": [
        "labels = [f(pred['label']) for pred in predictions]"
      ],
      "metadata": {
        "id": "qhUSfAtaUtIQ"
      },
      "id": "qhUSfAtaUtIQ",
      "execution_count": 48,
      "outputs": []
    },
    {
      "cell_type": "code",
      "source": [
        "labels[:5]"
      ],
      "metadata": {
        "colab": {
          "base_uri": "https://localhost:8080/"
        },
        "id": "Rw-26U1EV5-j",
        "outputId": "f80ee319-c0de-4051-b2b6-3058361d6824"
      },
      "id": "Rw-26U1EV5-j",
      "execution_count": 49,
      "outputs": [
        {
          "output_type": "execute_result",
          "data": {
            "text/plain": [
              "[1, 0, 1, 1, 1]"
            ]
          },
          "metadata": {},
          "execution_count": 49
        }
      ]
    },
    {
      "cell_type": "code",
      "source": [
        "f1 = f1_score(data['class'], labels)\n",
        "f1"
      ],
      "metadata": {
        "colab": {
          "base_uri": "https://localhost:8080/"
        },
        "id": "6GEG7EjETIrD",
        "outputId": "b5de3532-f626-4ec6-8059-c016abe87aff"
      },
      "id": "6GEG7EjETIrD",
      "execution_count": 50,
      "outputs": [
        {
          "output_type": "execute_result",
          "data": {
            "text/plain": [
              "0.814415985743265"
            ]
          },
          "metadata": {},
          "execution_count": 50
        }
      ]
    },
    {
      "cell_type": "code",
      "source": [],
      "metadata": {
        "id": "LX6QenbKTIuv"
      },
      "id": "LX6QenbKTIuv",
      "execution_count": null,
      "outputs": []
    },
    {
      "cell_type": "markdown",
      "id": "ed18c353",
      "metadata": {
        "id": "ed18c353"
      },
      "source": [
        "<p class=\"task\" id=\"2\"></p>\n",
        "\n",
        "2\\. Создайте токенизатор, соответствующий модели из предыдущего задания, используя класс `AutoTokenizer`. Возьмите одно предложение из набора данных и токенизируйте его, используя созданный объект. Выведите на экран полученный результат. Выполните обратное преобразование: получите текст по набору токенов и выведите результат на экран.\n",
        "\n",
        "Получите батч из 10 предложений и токенизируйте его. Продемонстрируйте возможности токенизатора для паддинга, обрезки, преобразования в тензоры.\n",
        "Решите задачу 1, создав объект токенизатора (`AutoTokenizer`) и модель (`AutoModelForSequenceClassification`).\n",
        "\n",
        "- [ ] Проверено на семинаре"
      ]
    },
    {
      "cell_type": "code",
      "source": [
        "model_name = \"blanchefort/rubert-base-cased-sentiment\"\n",
        "tokenizer = AutoTokenizer.from_pretrained(model_name)\n",
        "model = AutoModelForSequenceClassification.from_pretrained(model_name)\n",
        "\n",
        "sample_sentence = data['text'].iloc[0]\n",
        "\n",
        "tokens = tokenizer.tokenize(sample_sentence)\n",
        "tokens"
      ],
      "metadata": {
        "colab": {
          "base_uri": "https://localhost:8080/"
        },
        "id": "Wf7kegEHDjIL",
        "outputId": "63736a88-0c96-4f68-d648-bed8afcf3fb7"
      },
      "id": "Wf7kegEHDjIL",
      "execution_count": 51,
      "outputs": [
        {
          "output_type": "execute_result",
          "data": {
            "text/plain": [
              "['Очень',\n",
              " 'хорошо',\n",
              " 'что',\n",
              " 'открылась',\n",
              " '5',\n",
              " 'ка',\n",
              " ',',\n",
              " 'теперь',\n",
              " 'не',\n",
              " 'надо',\n",
              " 'далеко',\n",
              " 'ехать',\n",
              " 'все',\n",
              " 'рядом',\n",
              " '!']"
            ]
          },
          "metadata": {},
          "execution_count": 51
        }
      ]
    },
    {
      "cell_type": "code",
      "source": [
        "decoded_sentence = tokenizer.decode(tokenizer.encode(sample_sentence))\n",
        "decoded_sentence"
      ],
      "metadata": {
        "colab": {
          "base_uri": "https://localhost:8080/",
          "height": 35
        },
        "id": "0u9m43yXQBTn",
        "outputId": "1c6b3ac3-3f5e-47e5-bb46-90981221a96e"
      },
      "id": "0u9m43yXQBTn",
      "execution_count": 52,
      "outputs": [
        {
          "output_type": "execute_result",
          "data": {
            "text/plain": [
              "'[CLS] Очень хорошо что открылась 5 ка, теперь не надо далеко ехать все рядом! [SEP]'"
            ],
            "application/vnd.google.colaboratory.intrinsic+json": {
              "type": "string"
            }
          },
          "metadata": {},
          "execution_count": 52
        }
      ]
    },
    {
      "cell_type": "code",
      "source": [
        "batch_sentences = data['text'][:10].tolist()\n",
        "batch_tokens = tokenizer(batch_sentences, padding=True, truncation=True, return_tensors=\"pt\")\n",
        "batch_tokens"
      ],
      "metadata": {
        "colab": {
          "base_uri": "https://localhost:8080/"
        },
        "id": "xajlgCtfQBXY",
        "outputId": "192f12c4-611c-422d-adb3-89be6b3d9259"
      },
      "id": "xajlgCtfQBXY",
      "execution_count": 53,
      "outputs": [
        {
          "output_type": "stream",
          "name": "stderr",
          "text": [
            "Asking to truncate to max_length but no maximum length is provided and the model has no predefined maximum length. Default to no truncation.\n"
          ]
        },
        {
          "output_type": "execute_result",
          "data": {
            "text/plain": [
              "{'input_ids': tensor([[  101,  3065,  1643,   825, 33736,   146,   871,   128,  1661,   802,\n",
              "          1199,  3194,  5857,   888,  3504,   106,   102,     0,     0,     0,\n",
              "             0,     0,     0,     0,     0,     0,     0,     0,     0],\n",
              "        [  101, 10229,   793,   128, 48717,  7607,  4548,   813,   128,  1862,\n",
              "         56278,  4703, 76683,   128, 53506,   132, 12213,  2497,   893,   132,\n",
              "          4626,   802,  9458,   132,   102,     0,     0,     0,     0],\n",
              "        [  101, 62127,   340,  6836,   371, 36716,   132,  2525, 17375,   322,\n",
              "         22263,  2774,  5467,  1554,   322, 15530,  1229,   132, 67740,  2892,\n",
              "         17311, 63879,   909,   322, 94994,   132,   102,     0,     0],\n",
              "        [  101, 62127,  4445,  3877,   322, 28892,  9639, 77737,   888,  1210,\n",
              "           352,  1312,  2587,  1980, 42170, 21867,   802,   352,  1437,   999,\n",
              "          1928,   801, 40458,  1583,   102,     0,     0,     0,     0],\n",
              "        [  101, 26093,  2692,   340, 51754,  6339,   132,   445,  6419,   130,\n",
              "          8649,   122,   102,     0,     0,     0,     0,     0,     0,     0,\n",
              "             0,     0,     0,     0,     0,     0,     0,     0,     0],\n",
              "        [  101,  2525, 17375,  6419,   340, 45740,   811,  2774,  1389,  1554,\n",
              "           132,  4626, 49547, 17720,   128,  4691, 28892,   801, 24580,   132,\n",
              "         99240, 31722, 27050,   132,  2270, 15689, 37155,   132,   102],\n",
              "        [  101,  1468, 43570,   128,  8710,   132,   102,     0,     0,     0,\n",
              "             0,     0,     0,     0,     0,     0,     0,     0,     0,     0,\n",
              "             0,     0,     0,     0,     0,     0,     0,     0,     0],\n",
              "        [  101, 16614, 21398,   100, 45292,  3468, 97683,   128, 25532,  1943,\n",
              "         29756,   128,  6997,   336,  2807,  1088, 17081,   106, 74297,  1620,\n",
              "          1583,  1643,   106,   100,   102,     0,     0,     0,     0],\n",
              "        [  101, 15169,  3522, 10549,   128, 36597, 13092,   102,     0,     0,\n",
              "             0,     0,     0,     0,     0,     0,     0,     0,     0,     0,\n",
              "             0,     0,     0,     0,     0,     0,     0,     0,     0],\n",
              "        [  101, 80448,  6419,   128,   876,  2084,   339,   128,  1318,  1069,\n",
              "          1127,  2949,   128,  1127,  3608,  1554,   102,     0,     0,     0,\n",
              "             0,     0,     0,     0,     0,     0,     0,     0,     0]]), 'token_type_ids': tensor([[0, 0, 0, 0, 0, 0, 0, 0, 0, 0, 0, 0, 0, 0, 0, 0, 0, 0, 0, 0, 0, 0, 0, 0,\n",
              "         0, 0, 0, 0, 0],\n",
              "        [0, 0, 0, 0, 0, 0, 0, 0, 0, 0, 0, 0, 0, 0, 0, 0, 0, 0, 0, 0, 0, 0, 0, 0,\n",
              "         0, 0, 0, 0, 0],\n",
              "        [0, 0, 0, 0, 0, 0, 0, 0, 0, 0, 0, 0, 0, 0, 0, 0, 0, 0, 0, 0, 0, 0, 0, 0,\n",
              "         0, 0, 0, 0, 0],\n",
              "        [0, 0, 0, 0, 0, 0, 0, 0, 0, 0, 0, 0, 0, 0, 0, 0, 0, 0, 0, 0, 0, 0, 0, 0,\n",
              "         0, 0, 0, 0, 0],\n",
              "        [0, 0, 0, 0, 0, 0, 0, 0, 0, 0, 0, 0, 0, 0, 0, 0, 0, 0, 0, 0, 0, 0, 0, 0,\n",
              "         0, 0, 0, 0, 0],\n",
              "        [0, 0, 0, 0, 0, 0, 0, 0, 0, 0, 0, 0, 0, 0, 0, 0, 0, 0, 0, 0, 0, 0, 0, 0,\n",
              "         0, 0, 0, 0, 0],\n",
              "        [0, 0, 0, 0, 0, 0, 0, 0, 0, 0, 0, 0, 0, 0, 0, 0, 0, 0, 0, 0, 0, 0, 0, 0,\n",
              "         0, 0, 0, 0, 0],\n",
              "        [0, 0, 0, 0, 0, 0, 0, 0, 0, 0, 0, 0, 0, 0, 0, 0, 0, 0, 0, 0, 0, 0, 0, 0,\n",
              "         0, 0, 0, 0, 0],\n",
              "        [0, 0, 0, 0, 0, 0, 0, 0, 0, 0, 0, 0, 0, 0, 0, 0, 0, 0, 0, 0, 0, 0, 0, 0,\n",
              "         0, 0, 0, 0, 0],\n",
              "        [0, 0, 0, 0, 0, 0, 0, 0, 0, 0, 0, 0, 0, 0, 0, 0, 0, 0, 0, 0, 0, 0, 0, 0,\n",
              "         0, 0, 0, 0, 0]]), 'attention_mask': tensor([[1, 1, 1, 1, 1, 1, 1, 1, 1, 1, 1, 1, 1, 1, 1, 1, 1, 0, 0, 0, 0, 0, 0, 0,\n",
              "         0, 0, 0, 0, 0],\n",
              "        [1, 1, 1, 1, 1, 1, 1, 1, 1, 1, 1, 1, 1, 1, 1, 1, 1, 1, 1, 1, 1, 1, 1, 1,\n",
              "         1, 0, 0, 0, 0],\n",
              "        [1, 1, 1, 1, 1, 1, 1, 1, 1, 1, 1, 1, 1, 1, 1, 1, 1, 1, 1, 1, 1, 1, 1, 1,\n",
              "         1, 1, 1, 0, 0],\n",
              "        [1, 1, 1, 1, 1, 1, 1, 1, 1, 1, 1, 1, 1, 1, 1, 1, 1, 1, 1, 1, 1, 1, 1, 1,\n",
              "         1, 0, 0, 0, 0],\n",
              "        [1, 1, 1, 1, 1, 1, 1, 1, 1, 1, 1, 1, 1, 0, 0, 0, 0, 0, 0, 0, 0, 0, 0, 0,\n",
              "         0, 0, 0, 0, 0],\n",
              "        [1, 1, 1, 1, 1, 1, 1, 1, 1, 1, 1, 1, 1, 1, 1, 1, 1, 1, 1, 1, 1, 1, 1, 1,\n",
              "         1, 1, 1, 1, 1],\n",
              "        [1, 1, 1, 1, 1, 1, 1, 0, 0, 0, 0, 0, 0, 0, 0, 0, 0, 0, 0, 0, 0, 0, 0, 0,\n",
              "         0, 0, 0, 0, 0],\n",
              "        [1, 1, 1, 1, 1, 1, 1, 1, 1, 1, 1, 1, 1, 1, 1, 1, 1, 1, 1, 1, 1, 1, 1, 1,\n",
              "         1, 0, 0, 0, 0],\n",
              "        [1, 1, 1, 1, 1, 1, 1, 1, 0, 0, 0, 0, 0, 0, 0, 0, 0, 0, 0, 0, 0, 0, 0, 0,\n",
              "         0, 0, 0, 0, 0],\n",
              "        [1, 1, 1, 1, 1, 1, 1, 1, 1, 1, 1, 1, 1, 1, 1, 1, 1, 0, 0, 0, 0, 0, 0, 0,\n",
              "         0, 0, 0, 0, 0]])}"
            ]
          },
          "metadata": {},
          "execution_count": 53
        }
      ]
    },
    {
      "cell_type": "code",
      "source": [
        "classifier = pipeline('sentiment-analysis', model=model, tokenizer=tokenizer, device=0, batch_size=16)"
      ],
      "metadata": {
        "id": "Wubo5ztrQBar"
      },
      "id": "Wubo5ztrQBar",
      "execution_count": 54,
      "outputs": []
    },
    {
      "cell_type": "code",
      "source": [
        "sentences = [\n",
        "    \"Это замечательный день!\",\n",
        "    \"Ужасный опыт, не рекомендую.\",\n",
        "    \"Фильм понравился, рекомендую всем посмотреть.\"\n",
        "]\n",
        "\n",
        "for sentence in sentences:\n",
        "    result = classifier(sentence)\n",
        "    print(f\"{sentence} -> {result[0]['label']}\")\n"
      ],
      "metadata": {
        "colab": {
          "base_uri": "https://localhost:8080/"
        },
        "outputId": "c11893d7-eb4d-4dfb-a8b9-3d8177076f31",
        "id": "IS90O5j6Xw8c"
      },
      "execution_count": 55,
      "outputs": [
        {
          "output_type": "stream",
          "name": "stdout",
          "text": [
            "Это замечательный день! -> POSITIVE\n",
            "Ужасный опыт, не рекомендую. -> NEGATIVE\n",
            "Фильм понравился, рекомендую всем посмотреть. -> POSITIVE\n"
          ]
        }
      ],
      "id": "IS90O5j6Xw8c"
    },
    {
      "cell_type": "code",
      "source": [
        "predictions = classifier(data['text'].tolist())"
      ],
      "metadata": {
        "id": "YDlW5iILXw8l"
      },
      "execution_count": 56,
      "outputs": [],
      "id": "YDlW5iILXw8l"
    },
    {
      "cell_type": "code",
      "source": [
        "def f(label):\n",
        "    return 1 if label == 'POSITIVE' else 0"
      ],
      "metadata": {
        "id": "dp_fAzzbXw8l"
      },
      "execution_count": 57,
      "outputs": [],
      "id": "dp_fAzzbXw8l"
    },
    {
      "cell_type": "code",
      "source": [
        "labels = [f(pred['label']) for pred in predictions]"
      ],
      "metadata": {
        "id": "kitHsR5KXw8l"
      },
      "execution_count": 58,
      "outputs": [],
      "id": "kitHsR5KXw8l"
    },
    {
      "cell_type": "code",
      "source": [
        "f1 = f1_score(data['class'], labels)\n",
        "f1"
      ],
      "metadata": {
        "colab": {
          "base_uri": "https://localhost:8080/"
        },
        "outputId": "2eb31707-f12b-4095-d2b6-ad74f3916cce",
        "id": "rNHLpOX2Xw8m"
      },
      "execution_count": 59,
      "outputs": [
        {
          "output_type": "execute_result",
          "data": {
            "text/plain": [
              "0.814415985743265"
            ]
          },
          "metadata": {},
          "execution_count": 59
        }
      ],
      "id": "rNHLpOX2Xw8m"
    },
    {
      "cell_type": "code",
      "source": [],
      "metadata": {
        "id": "35FV-5gSDjOK"
      },
      "id": "35FV-5gSDjOK",
      "execution_count": null,
      "outputs": []
    },
    {
      "cell_type": "markdown",
      "id": "559e189c-00fc-477e-a832-0d59c429859f",
      "metadata": {
        "id": "559e189c-00fc-477e-a832-0d59c429859f"
      },
      "source": [
        "<p class=\"task\" id=\"3\"></p>\n",
        "\n",
        "3\\. Разбейте данные из файла `reviews_polarity.csv` на обучающее и валидационное множество в соотношении 80 на 20. Создайте папку `reviews_polarity_dataset` и сохраните в нее полученные фрагменты данных под названием `train.csv` и `test.csv`. Создайте объект `datasets.Dataset`, используя функцию `load_dataset`.\n",
        "\n",
        "Токенизируйте строки при помощи токенизатора, соотвествующего модели `rubert-base-cased-sentiment`. Удалите из датасета поле `text` после токенизации, замените поле `class` на `labels` и приведите данные к тензорам `torch`.\n",
        "\n",
        "Создайте два `DataLoader` на основе обучающего и валидационного множества. Получите батч из обучающего множества и выведите его на экран.\n",
        "\n",
        "- [ ] Проверено на семинаре"
      ]
    },
    {
      "cell_type": "code",
      "source": [
        "pip install datasets"
      ],
      "metadata": {
        "id": "zBMcWD6wYr0Y"
      },
      "id": "zBMcWD6wYr0Y",
      "execution_count": null,
      "outputs": []
    },
    {
      "cell_type": "code",
      "source": [
        "from sklearn.model_selection import train_test_split\n",
        "from datasets import Dataset\n",
        "import torch\n",
        "from torch.utils.data import DataLoader\n",
        "from datasets import load_dataset"
      ],
      "metadata": {
        "id": "2F20qaNkDjxx"
      },
      "id": "2F20qaNkDjxx",
      "execution_count": 80,
      "outputs": []
    },
    {
      "cell_type": "code",
      "source": [
        "tokenizer = AutoTokenizer.from_pretrained(\"blanchefort/rubert-base-cased-sentiment\")"
      ],
      "metadata": {
        "id": "IlGkqjZkfI_B"
      },
      "id": "IlGkqjZkfI_B",
      "execution_count": 144,
      "outputs": []
    },
    {
      "cell_type": "code",
      "source": [
        "train_data, test_data = train_test_split(data, test_size=0.2, random_state=42)"
      ],
      "metadata": {
        "id": "QjumeGD6Dj1F"
      },
      "id": "QjumeGD6Dj1F",
      "execution_count": 145,
      "outputs": []
    },
    {
      "cell_type": "code",
      "source": [
        "train_data.to_csv('/content/reviews_polarity_dataset/train.csv')\n",
        "test_data.to_csv('/content/reviews_polarity_dataset/test.csv')"
      ],
      "metadata": {
        "id": "gIkWK3t5ZgZY"
      },
      "id": "gIkWK3t5ZgZY",
      "execution_count": 146,
      "outputs": []
    },
    {
      "cell_type": "code",
      "source": [
        "data_files = {'train': 'train.csv', 'test': 'test.csv'}\n",
        "dataset = load_dataset('reviews_polarity_dataset', data_files=data_files)"
      ],
      "metadata": {
        "id": "kOZf4Pf-xsnh"
      },
      "execution_count": 163,
      "outputs": [],
      "id": "kOZf4Pf-xsnh"
    },
    {
      "cell_type": "code",
      "source": [
        "dataset"
      ],
      "metadata": {
        "colab": {
          "base_uri": "https://localhost:8080/"
        },
        "id": "sp4p3UiwadyN",
        "outputId": "691956a5-8363-424c-ae6a-8766f390878a"
      },
      "id": "sp4p3UiwadyN",
      "execution_count": 164,
      "outputs": [
        {
          "output_type": "execute_result",
          "data": {
            "text/plain": [
              "DatasetDict({\n",
              "    train: Dataset({\n",
              "        features: ['Unnamed: 0', 'text', 'class'],\n",
              "        num_rows: 30574\n",
              "    })\n",
              "    test: Dataset({\n",
              "        features: ['Unnamed: 0', 'text', 'class'],\n",
              "        num_rows: 7644\n",
              "    })\n",
              "})"
            ]
          },
          "metadata": {},
          "execution_count": 164
        }
      ]
    },
    {
      "cell_type": "code",
      "source": [
        "dataset = dataset.remove_columns('Unnamed: 0')"
      ],
      "metadata": {
        "id": "migfbo8c39qr"
      },
      "execution_count": 165,
      "outputs": [],
      "id": "migfbo8c39qr"
    },
    {
      "cell_type": "code",
      "source": [
        "def tokenize_func(examples):\n",
        "    return tokenizer(examples, return_tensors='pt', padding=True)"
      ],
      "metadata": {
        "id": "scYvvCpJhxCE"
      },
      "execution_count": 166,
      "outputs": [],
      "id": "scYvvCpJhxCE"
    },
    {
      "cell_type": "code",
      "source": [
        "model_name = \"blanchefort/rubert-base-cased-sentiment\"\n",
        "tokenizer = AutoTokenizer.from_pretrained(model_name)"
      ],
      "metadata": {
        "id": "kKPQYGCUZgl5"
      },
      "id": "kKPQYGCUZgl5",
      "execution_count": 167,
      "outputs": []
    },
    {
      "cell_type": "code",
      "source": [
        "dataset = dataset.map(\n",
        "    tokenize_func,\n",
        "    input_columns=['text'],\n",
        "    batched=True\n",
        ")"
      ],
      "metadata": {
        "colab": {
          "base_uri": "https://localhost:8080/",
          "height": 49,
          "referenced_widgets": [
            "4da7108e322842188ab8b0b0a4fea4bf",
            "6c7a199ced4142c5b5e5b37500a5c704",
            "bacd1ca843214def9b46e146ca5f2666",
            "9595c13933d14fdbb27b0736500fe4f5",
            "989c78c4acb44ce896daf76c94363b84",
            "507d734ffd494094924b36de1872421d",
            "8f05d711677d4a65ad21483c6f097eb0",
            "c6c3be522f13435bbb221fd33def5654",
            "454414af188c4285b4b18c828de08886",
            "536a224c39e74d9c96b88622c2d15f2e",
            "c7ab9c37ba454557894f76a9f0677498"
          ]
        },
        "id": "3MxfRhhTbQoy",
        "outputId": "69b51f91-bf4c-4948-86c9-8a3a56c109c2"
      },
      "id": "3MxfRhhTbQoy",
      "execution_count": 169,
      "outputs": [
        {
          "output_type": "display_data",
          "data": {
            "text/plain": [
              "Map:   0%|          | 0/7644 [00:00<?, ? examples/s]"
            ],
            "application/vnd.jupyter.widget-view+json": {
              "version_major": 2,
              "version_minor": 0,
              "model_id": "4da7108e322842188ab8b0b0a4fea4bf"
            }
          },
          "metadata": {}
        }
      ]
    },
    {
      "cell_type": "code",
      "source": [
        "dataset = dataset.rename_column(\"class\", \"labels\")"
      ],
      "metadata": {
        "id": "zS0FikbIb4q5"
      },
      "id": "zS0FikbIb4q5",
      "execution_count": 170,
      "outputs": []
    },
    {
      "cell_type": "code",
      "source": [
        "dataset = dataset.remove_columns('text')"
      ],
      "metadata": {
        "id": "xMyxfJRzdGLa"
      },
      "id": "xMyxfJRzdGLa",
      "execution_count": 171,
      "outputs": []
    },
    {
      "cell_type": "code",
      "source": [
        "dataset.set_format(type='torch')"
      ],
      "metadata": {
        "id": "QTFVBwWAcEqQ"
      },
      "id": "QTFVBwWAcEqQ",
      "execution_count": 172,
      "outputs": []
    },
    {
      "cell_type": "code",
      "source": [
        "train_loader = DataLoader(dataset['train'], batch_size=32)\n",
        "test_loader = DataLoader(dataset['test'], batch_size=32)"
      ],
      "metadata": {
        "id": "yo7vJA2fcEtS"
      },
      "id": "yo7vJA2fcEtS",
      "execution_count": 173,
      "outputs": []
    },
    {
      "cell_type": "code",
      "source": [
        "next(iter(train_loader))"
      ],
      "metadata": {
        "colab": {
          "base_uri": "https://localhost:8080/"
        },
        "id": "guA5jok2cEwN",
        "outputId": "9f38c673-3c7e-426d-91f0-877df3e63c67"
      },
      "id": "guA5jok2cEwN",
      "execution_count": 174,
      "outputs": [
        {
          "output_type": "execute_result",
          "data": {
            "text/plain": [
              "{'labels': tensor([0, 1, 1, 1, 1, 1, 1, 1, 1, 0, 1, 1, 1, 1, 0, 1, 0, 0, 1, 1, 0, 1, 1, 1,\n",
              "         0, 0, 1, 1, 1, 1, 1, 1]),\n",
              " 'input_ids': tensor([[  101, 14220,  1297,  ...,     0,     0,     0],\n",
              "         [  101,  3065, 31617,  ...,     0,     0,     0],\n",
              "         [  101, 82963,  5187,  ...,     0,     0,     0],\n",
              "         ...,\n",
              "         [  101, 13893,  6419,  ...,     0,     0,     0],\n",
              "         [  101,  3065,  6467,  ...,     0,     0,     0],\n",
              "         [  101, 62127,  4445,  ...,     0,     0,     0]]),\n",
              " 'token_type_ids': tensor([[0, 0, 0,  ..., 0, 0, 0],\n",
              "         [0, 0, 0,  ..., 0, 0, 0],\n",
              "         [0, 0, 0,  ..., 0, 0, 0],\n",
              "         ...,\n",
              "         [0, 0, 0,  ..., 0, 0, 0],\n",
              "         [0, 0, 0,  ..., 0, 0, 0],\n",
              "         [0, 0, 0,  ..., 0, 0, 0]]),\n",
              " 'attention_mask': tensor([[1, 1, 1,  ..., 0, 0, 0],\n",
              "         [1, 1, 1,  ..., 0, 0, 0],\n",
              "         [1, 1, 1,  ..., 0, 0, 0],\n",
              "         ...,\n",
              "         [1, 1, 1,  ..., 0, 0, 0],\n",
              "         [1, 1, 1,  ..., 0, 0, 0],\n",
              "         [1, 1, 1,  ..., 0, 0, 0]])}"
            ]
          },
          "metadata": {},
          "execution_count": 174
        }
      ]
    },
    {
      "cell_type": "markdown",
      "id": "2dd4b3e5-3c42-4697-9dd1-c9703f6ebeef",
      "metadata": {
        "id": "2dd4b3e5-3c42-4697-9dd1-c9703f6ebeef"
      },
      "source": [
        "<p class=\"task\" id=\"4\"></p>\n",
        "\n",
        "4\\. Создайте модель при помощи класса `AutoModelForSequenceClassification`, заменив голову модели в соответствии с задачей бинарной классификации. Используя стандартный цикл обучения `torch`, настройте модель для решения задачи бинарной классификации. Во время обучения выводите на экран значение функции потерь (используйте готовые значения, которые генерирует модель) на обучающем множестве и f1 на валидационном множестве.\n",
        "\n",
        "Здесь и далее для ускорения процесса обучения вы можете заморозить часть сети или уменьшить размер наборов данных, выбрав небольшое подмножество примеров.\n",
        "\n",
        "- [ ] Проверено на семинаре"
      ]
    },
    {
      "cell_type": "code",
      "source": [
        "import torch.nn as nn\n",
        "import torch.optim as optim"
      ],
      "metadata": {
        "id": "SmKZ62tTrytS"
      },
      "execution_count": 175,
      "outputs": [],
      "id": "SmKZ62tTrytS"
    },
    {
      "cell_type": "code",
      "source": [
        "model_name = \"blanchefort/rubert-base-cased-sentiment\"\n",
        "model = AutoModelForSequenceClassification.from_pretrained(model_name,  num_labels=2)"
      ],
      "metadata": {
        "id": "8dYRLRCMDkka"
      },
      "id": "8dYRLRCMDkka",
      "execution_count": null,
      "outputs": []
    },
    {
      "cell_type": "code",
      "source": [
        "model.classifier = nn.Linear(in_features = model.classifier.in_features, out_features=2, bias=True)"
      ],
      "metadata": {
        "id": "CSGoxaNLdN9r"
      },
      "id": "CSGoxaNLdN9r",
      "execution_count": 193,
      "outputs": []
    },
    {
      "cell_type": "code",
      "source": [
        "optimizer = optim.Adam(model.parameters(), lr=0.001)\n",
        "loss_fn = torch.nn.CrossEntropyLoss()"
      ],
      "metadata": {
        "id": "M2k4qtkmdOBb"
      },
      "id": "M2k4qtkmdOBb",
      "execution_count": 194,
      "outputs": []
    },
    {
      "cell_type": "code",
      "source": [
        "import numpy as np"
      ],
      "metadata": {
        "id": "-NwMNU7shaJQ"
      },
      "id": "-NwMNU7shaJQ",
      "execution_count": 227,
      "outputs": []
    },
    {
      "cell_type": "code",
      "source": [
        "epochs = 5"
      ],
      "metadata": {
        "id": "BBewj3wUhaOy"
      },
      "id": "BBewj3wUhaOy",
      "execution_count": 229,
      "outputs": []
    },
    {
      "cell_type": "code",
      "source": [
        "model.to(device)"
      ],
      "metadata": {
        "colab": {
          "base_uri": "https://localhost:8080/"
        },
        "id": "iiegM4b2jCay",
        "outputId": "c463cf4d-ad71-45e2-ecdc-2dd6b02ee237"
      },
      "id": "iiegM4b2jCay",
      "execution_count": 230,
      "outputs": [
        {
          "output_type": "execute_result",
          "data": {
            "text/plain": [
              "BertForSequenceClassification(\n",
              "  (bert): BertModel(\n",
              "    (embeddings): BertEmbeddings(\n",
              "      (word_embeddings): Embedding(119547, 768, padding_idx=0)\n",
              "      (position_embeddings): Embedding(512, 768)\n",
              "      (token_type_embeddings): Embedding(2, 768)\n",
              "      (LayerNorm): LayerNorm((768,), eps=1e-12, elementwise_affine=True)\n",
              "      (dropout): Dropout(p=0.1, inplace=False)\n",
              "    )\n",
              "    (encoder): BertEncoder(\n",
              "      (layer): ModuleList(\n",
              "        (0-11): 12 x BertLayer(\n",
              "          (attention): BertAttention(\n",
              "            (self): BertSelfAttention(\n",
              "              (query): Linear(in_features=768, out_features=768, bias=True)\n",
              "              (key): Linear(in_features=768, out_features=768, bias=True)\n",
              "              (value): Linear(in_features=768, out_features=768, bias=True)\n",
              "              (dropout): Dropout(p=0.1, inplace=False)\n",
              "            )\n",
              "            (output): BertSelfOutput(\n",
              "              (dense): Linear(in_features=768, out_features=768, bias=True)\n",
              "              (LayerNorm): LayerNorm((768,), eps=1e-12, elementwise_affine=True)\n",
              "              (dropout): Dropout(p=0.1, inplace=False)\n",
              "            )\n",
              "          )\n",
              "          (intermediate): BertIntermediate(\n",
              "            (dense): Linear(in_features=768, out_features=3072, bias=True)\n",
              "            (intermediate_act_fn): GELUActivation()\n",
              "          )\n",
              "          (output): BertOutput(\n",
              "            (dense): Linear(in_features=3072, out_features=768, bias=True)\n",
              "            (LayerNorm): LayerNorm((768,), eps=1e-12, elementwise_affine=True)\n",
              "            (dropout): Dropout(p=0.1, inplace=False)\n",
              "          )\n",
              "        )\n",
              "      )\n",
              "    )\n",
              "    (pooler): BertPooler(\n",
              "      (dense): Linear(in_features=768, out_features=768, bias=True)\n",
              "      (activation): Tanh()\n",
              "    )\n",
              "  )\n",
              "  (dropout): Dropout(p=0.1, inplace=False)\n",
              "  (classifier): Linear(in_features=768, out_features=2, bias=True)\n",
              ")"
            ]
          },
          "metadata": {},
          "execution_count": 230
        }
      ]
    },
    {
      "cell_type": "code",
      "source": [],
      "metadata": {
        "id": "j2iuOJsthaTa"
      },
      "id": "j2iuOJsthaTa",
      "execution_count": null,
      "outputs": []
    },
    {
      "cell_type": "code",
      "source": [],
      "metadata": {
        "id": "Oiukf7rV6KDj"
      },
      "id": "Oiukf7rV6KDj",
      "execution_count": null,
      "outputs": []
    },
    {
      "cell_type": "markdown",
      "id": "ca6c91ce-4fa8-4e7c-b0d0-5de9dd3f7b27",
      "metadata": {
        "id": "ca6c91ce-4fa8-4e7c-b0d0-5de9dd3f7b27"
      },
      "source": [
        "<p class=\"task\" id=\"5\"></p>\n",
        "\n",
        "5\\. Создайте модель при помощи класса `AutoModelForSequenceClassification`, заменив голову модели в соответствии с задачей бинарной классификации. Используя `transformers.Trainer`, настройте модель для решения задачи бинарной классификации. При настройке `Trainer` укажите количество эпох, равное 5. Во время обучения выводите на экран значение функции потерь на обучающем множестве и f1 на валидационном множестве.  \n",
        "\n",
        "- [ ] Проверено на семинаре\n"
      ]
    },
    {
      "cell_type": "code",
      "source": [],
      "metadata": {
        "id": "jc8mqnm3DlSd"
      },
      "id": "jc8mqnm3DlSd",
      "execution_count": 233,
      "outputs": []
    },
    {
      "cell_type": "markdown",
      "id": "66caa919",
      "metadata": {
        "jp-MarkdownHeadingCollapsed": true,
        "id": "66caa919"
      },
      "source": [
        "## Обратная связь\n",
        "- [ ] Хочу получить обратную связь по решению"
      ]
    }
  ],
  "metadata": {
    "kernelspec": {
      "display_name": "Python 3",
      "name": "python3"
    },
    "language_info": {
      "codemirror_mode": {
        "name": "ipython",
        "version": 3
      },
      "file_extension": ".py",
      "mimetype": "text/x-python",
      "name": "python",
      "nbconvert_exporter": "python",
      "pygments_lexer": "ipython3",
      "version": "3.11.5"
    },
    "colab": {
      "provenance": [],
      "gpuType": "T4"
    },
    "accelerator": "GPU",
    "widgets": {
      "application/vnd.jupyter.widget-state+json": {
        "4da7108e322842188ab8b0b0a4fea4bf": {
          "model_module": "@jupyter-widgets/controls",
          "model_name": "HBoxModel",
          "model_module_version": "1.5.0",
          "state": {
            "_dom_classes": [],
            "_model_module": "@jupyter-widgets/controls",
            "_model_module_version": "1.5.0",
            "_model_name": "HBoxModel",
            "_view_count": null,
            "_view_module": "@jupyter-widgets/controls",
            "_view_module_version": "1.5.0",
            "_view_name": "HBoxView",
            "box_style": "",
            "children": [
              "IPY_MODEL_6c7a199ced4142c5b5e5b37500a5c704",
              "IPY_MODEL_bacd1ca843214def9b46e146ca5f2666",
              "IPY_MODEL_9595c13933d14fdbb27b0736500fe4f5"
            ],
            "layout": "IPY_MODEL_989c78c4acb44ce896daf76c94363b84"
          }
        },
        "6c7a199ced4142c5b5e5b37500a5c704": {
          "model_module": "@jupyter-widgets/controls",
          "model_name": "HTMLModel",
          "model_module_version": "1.5.0",
          "state": {
            "_dom_classes": [],
            "_model_module": "@jupyter-widgets/controls",
            "_model_module_version": "1.5.0",
            "_model_name": "HTMLModel",
            "_view_count": null,
            "_view_module": "@jupyter-widgets/controls",
            "_view_module_version": "1.5.0",
            "_view_name": "HTMLView",
            "description": "",
            "description_tooltip": null,
            "layout": "IPY_MODEL_507d734ffd494094924b36de1872421d",
            "placeholder": "​",
            "style": "IPY_MODEL_8f05d711677d4a65ad21483c6f097eb0",
            "value": "Map: 100%"
          }
        },
        "bacd1ca843214def9b46e146ca5f2666": {
          "model_module": "@jupyter-widgets/controls",
          "model_name": "FloatProgressModel",
          "model_module_version": "1.5.0",
          "state": {
            "_dom_classes": [],
            "_model_module": "@jupyter-widgets/controls",
            "_model_module_version": "1.5.0",
            "_model_name": "FloatProgressModel",
            "_view_count": null,
            "_view_module": "@jupyter-widgets/controls",
            "_view_module_version": "1.5.0",
            "_view_name": "ProgressView",
            "bar_style": "success",
            "description": "",
            "description_tooltip": null,
            "layout": "IPY_MODEL_c6c3be522f13435bbb221fd33def5654",
            "max": 7644,
            "min": 0,
            "orientation": "horizontal",
            "style": "IPY_MODEL_454414af188c4285b4b18c828de08886",
            "value": 7644
          }
        },
        "9595c13933d14fdbb27b0736500fe4f5": {
          "model_module": "@jupyter-widgets/controls",
          "model_name": "HTMLModel",
          "model_module_version": "1.5.0",
          "state": {
            "_dom_classes": [],
            "_model_module": "@jupyter-widgets/controls",
            "_model_module_version": "1.5.0",
            "_model_name": "HTMLModel",
            "_view_count": null,
            "_view_module": "@jupyter-widgets/controls",
            "_view_module_version": "1.5.0",
            "_view_name": "HTMLView",
            "description": "",
            "description_tooltip": null,
            "layout": "IPY_MODEL_536a224c39e74d9c96b88622c2d15f2e",
            "placeholder": "​",
            "style": "IPY_MODEL_c7ab9c37ba454557894f76a9f0677498",
            "value": " 7644/7644 [00:01&lt;00:00, 4475.50 examples/s]"
          }
        },
        "989c78c4acb44ce896daf76c94363b84": {
          "model_module": "@jupyter-widgets/base",
          "model_name": "LayoutModel",
          "model_module_version": "1.2.0",
          "state": {
            "_model_module": "@jupyter-widgets/base",
            "_model_module_version": "1.2.0",
            "_model_name": "LayoutModel",
            "_view_count": null,
            "_view_module": "@jupyter-widgets/base",
            "_view_module_version": "1.2.0",
            "_view_name": "LayoutView",
            "align_content": null,
            "align_items": null,
            "align_self": null,
            "border": null,
            "bottom": null,
            "display": null,
            "flex": null,
            "flex_flow": null,
            "grid_area": null,
            "grid_auto_columns": null,
            "grid_auto_flow": null,
            "grid_auto_rows": null,
            "grid_column": null,
            "grid_gap": null,
            "grid_row": null,
            "grid_template_areas": null,
            "grid_template_columns": null,
            "grid_template_rows": null,
            "height": null,
            "justify_content": null,
            "justify_items": null,
            "left": null,
            "margin": null,
            "max_height": null,
            "max_width": null,
            "min_height": null,
            "min_width": null,
            "object_fit": null,
            "object_position": null,
            "order": null,
            "overflow": null,
            "overflow_x": null,
            "overflow_y": null,
            "padding": null,
            "right": null,
            "top": null,
            "visibility": null,
            "width": null
          }
        },
        "507d734ffd494094924b36de1872421d": {
          "model_module": "@jupyter-widgets/base",
          "model_name": "LayoutModel",
          "model_module_version": "1.2.0",
          "state": {
            "_model_module": "@jupyter-widgets/base",
            "_model_module_version": "1.2.0",
            "_model_name": "LayoutModel",
            "_view_count": null,
            "_view_module": "@jupyter-widgets/base",
            "_view_module_version": "1.2.0",
            "_view_name": "LayoutView",
            "align_content": null,
            "align_items": null,
            "align_self": null,
            "border": null,
            "bottom": null,
            "display": null,
            "flex": null,
            "flex_flow": null,
            "grid_area": null,
            "grid_auto_columns": null,
            "grid_auto_flow": null,
            "grid_auto_rows": null,
            "grid_column": null,
            "grid_gap": null,
            "grid_row": null,
            "grid_template_areas": null,
            "grid_template_columns": null,
            "grid_template_rows": null,
            "height": null,
            "justify_content": null,
            "justify_items": null,
            "left": null,
            "margin": null,
            "max_height": null,
            "max_width": null,
            "min_height": null,
            "min_width": null,
            "object_fit": null,
            "object_position": null,
            "order": null,
            "overflow": null,
            "overflow_x": null,
            "overflow_y": null,
            "padding": null,
            "right": null,
            "top": null,
            "visibility": null,
            "width": null
          }
        },
        "8f05d711677d4a65ad21483c6f097eb0": {
          "model_module": "@jupyter-widgets/controls",
          "model_name": "DescriptionStyleModel",
          "model_module_version": "1.5.0",
          "state": {
            "_model_module": "@jupyter-widgets/controls",
            "_model_module_version": "1.5.0",
            "_model_name": "DescriptionStyleModel",
            "_view_count": null,
            "_view_module": "@jupyter-widgets/base",
            "_view_module_version": "1.2.0",
            "_view_name": "StyleView",
            "description_width": ""
          }
        },
        "c6c3be522f13435bbb221fd33def5654": {
          "model_module": "@jupyter-widgets/base",
          "model_name": "LayoutModel",
          "model_module_version": "1.2.0",
          "state": {
            "_model_module": "@jupyter-widgets/base",
            "_model_module_version": "1.2.0",
            "_model_name": "LayoutModel",
            "_view_count": null,
            "_view_module": "@jupyter-widgets/base",
            "_view_module_version": "1.2.0",
            "_view_name": "LayoutView",
            "align_content": null,
            "align_items": null,
            "align_self": null,
            "border": null,
            "bottom": null,
            "display": null,
            "flex": null,
            "flex_flow": null,
            "grid_area": null,
            "grid_auto_columns": null,
            "grid_auto_flow": null,
            "grid_auto_rows": null,
            "grid_column": null,
            "grid_gap": null,
            "grid_row": null,
            "grid_template_areas": null,
            "grid_template_columns": null,
            "grid_template_rows": null,
            "height": null,
            "justify_content": null,
            "justify_items": null,
            "left": null,
            "margin": null,
            "max_height": null,
            "max_width": null,
            "min_height": null,
            "min_width": null,
            "object_fit": null,
            "object_position": null,
            "order": null,
            "overflow": null,
            "overflow_x": null,
            "overflow_y": null,
            "padding": null,
            "right": null,
            "top": null,
            "visibility": null,
            "width": null
          }
        },
        "454414af188c4285b4b18c828de08886": {
          "model_module": "@jupyter-widgets/controls",
          "model_name": "ProgressStyleModel",
          "model_module_version": "1.5.0",
          "state": {
            "_model_module": "@jupyter-widgets/controls",
            "_model_module_version": "1.5.0",
            "_model_name": "ProgressStyleModel",
            "_view_count": null,
            "_view_module": "@jupyter-widgets/base",
            "_view_module_version": "1.2.0",
            "_view_name": "StyleView",
            "bar_color": null,
            "description_width": ""
          }
        },
        "536a224c39e74d9c96b88622c2d15f2e": {
          "model_module": "@jupyter-widgets/base",
          "model_name": "LayoutModel",
          "model_module_version": "1.2.0",
          "state": {
            "_model_module": "@jupyter-widgets/base",
            "_model_module_version": "1.2.0",
            "_model_name": "LayoutModel",
            "_view_count": null,
            "_view_module": "@jupyter-widgets/base",
            "_view_module_version": "1.2.0",
            "_view_name": "LayoutView",
            "align_content": null,
            "align_items": null,
            "align_self": null,
            "border": null,
            "bottom": null,
            "display": null,
            "flex": null,
            "flex_flow": null,
            "grid_area": null,
            "grid_auto_columns": null,
            "grid_auto_flow": null,
            "grid_auto_rows": null,
            "grid_column": null,
            "grid_gap": null,
            "grid_row": null,
            "grid_template_areas": null,
            "grid_template_columns": null,
            "grid_template_rows": null,
            "height": null,
            "justify_content": null,
            "justify_items": null,
            "left": null,
            "margin": null,
            "max_height": null,
            "max_width": null,
            "min_height": null,
            "min_width": null,
            "object_fit": null,
            "object_position": null,
            "order": null,
            "overflow": null,
            "overflow_x": null,
            "overflow_y": null,
            "padding": null,
            "right": null,
            "top": null,
            "visibility": null,
            "width": null
          }
        },
        "c7ab9c37ba454557894f76a9f0677498": {
          "model_module": "@jupyter-widgets/controls",
          "model_name": "DescriptionStyleModel",
          "model_module_version": "1.5.0",
          "state": {
            "_model_module": "@jupyter-widgets/controls",
            "_model_module_version": "1.5.0",
            "_model_name": "DescriptionStyleModel",
            "_view_count": null,
            "_view_module": "@jupyter-widgets/base",
            "_view_module_version": "1.2.0",
            "_view_name": "StyleView",
            "description_width": ""
          }
        }
      }
    }
  },
  "nbformat": 4,
  "nbformat_minor": 5
}