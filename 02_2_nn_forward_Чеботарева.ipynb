{
  "cells": [
    {
      "cell_type": "markdown",
      "id": "3a564d5f",
      "metadata": {
        "id": "3a564d5f"
      },
      "source": [
        "#  Forward pass\n",
        "\n",
        "__Автор задач: Блохин Н.В. (NVBlokhin@fa.ru)__\n",
        "\n",
        "Материалы:\n",
        "* Deep Learning with PyTorch (2020) Авторы: Eli Stevens, Luca Antiga, Thomas Viehmann\n",
        "* https://pytorch.org/docs/stable/generated/torch.matmul.html\n",
        "* https://machinelearningmastery.com/choose-an-activation-function-for-deep-learning/\n",
        "* https://machinelearningmastery.com/loss-and-loss-functions-for-training-deep-learning-neural-networks/"
      ]
    },
    {
      "cell_type": "markdown",
      "id": "c9ecd663",
      "metadata": {
        "id": "c9ecd663"
      },
      "source": [
        "## Задачи для совместного разбора"
      ]
    },
    {
      "cell_type": "markdown",
      "id": "a87d01a9",
      "metadata": {
        "id": "a87d01a9"
      },
      "source": [
        "1\\. Используя операции над матрицами и векторами из библиотеки `torch`, реализуйте нейрон с заданными весами `weights` и `bias`. Пропустите вектор `inputs` через нейрон и выведите результат."
      ]
    },
    {
      "cell_type": "code",
      "execution_count": null,
      "id": "2ec7d67f",
      "metadata": {
        "id": "2ec7d67f",
        "outputId": "d83c560f-fb26-4652-89d2-15ceb1b42dc1"
      },
      "outputs": [
        {
          "name": "stdout",
          "output_type": "stream",
          "text": [
            "Requirement already satisfied: torch in c:\\users\\alina\\anaconda3\\lib\\site-packages (1.13.1)\n",
            "Requirement already satisfied: typing_extensions in c:\\users\\alina\\appdata\\roaming\\python\\python39\\site-packages (from torch) (4.5.0)\n",
            "Note: you may need to restart the kernel to use updated packages.\n"
          ]
        }
      ],
      "source": [
        "# pip install torch"
      ]
    },
    {
      "cell_type": "code",
      "execution_count": null,
      "id": "1ee6ad4c",
      "metadata": {
        "id": "1ee6ad4c"
      },
      "outputs": [],
      "source": [
        "import torch"
      ]
    },
    {
      "cell_type": "code",
      "execution_count": null,
      "id": "bc1b50d5",
      "metadata": {
        "id": "bc1b50d5"
      },
      "outputs": [],
      "source": [
        "class Neuron:\n",
        "    def __init__(self, weights, bias):\n",
        "    # <создать атрибуты объекта weights и bias>\n",
        "      self.weights = weights\n",
        "      self.bias = bias\n",
        "\n",
        "    def forward(self, inputs):\n",
        "      return inputs@self.weights+self.bias\n",
        "\n"
      ]
    },
    {
      "cell_type": "code",
      "execution_count": null,
      "id": "60f299f7",
      "metadata": {
        "id": "60f299f7"
      },
      "outputs": [],
      "source": [
        "inputs = torch.tensor([1.0, 2.0, 3.0, 4.0])\n",
        "weights = torch.tensor([-0.2, 0.3, -0.5, 0.7])\n",
        "bias = 3.14"
      ]
    },
    {
      "cell_type": "code",
      "source": [
        "n = Neuron(weights, bias)\n",
        "y = n.forward(inputs)\n"
      ],
      "metadata": {
        "id": "CiXYqcSCuYmd"
      },
      "id": "CiXYqcSCuYmd",
      "execution_count": null,
      "outputs": []
    },
    {
      "cell_type": "code",
      "source": [
        "y"
      ],
      "metadata": {
        "colab": {
          "base_uri": "https://localhost:8080/"
        },
        "id": "xkZh8LpuuoLQ",
        "outputId": "796b2131-fdee-49cd-8944-46b754b76ceb"
      },
      "id": "xkZh8LpuuoLQ",
      "execution_count": null,
      "outputs": [
        {
          "output_type": "execute_result",
          "data": {
            "text/plain": [
              "tensor(4.8400)"
            ]
          },
          "metadata": {},
          "execution_count": 5
        }
      ]
    },
    {
      "cell_type": "markdown",
      "id": "32e5fe51",
      "metadata": {
        "id": "32e5fe51"
      },
      "source": [
        "2\\. Используя операции над матрицами и векторами из библиотеки `torch`, реализуйте функцию активации ReLU:\n",
        "\n",
        "![](https://wikimedia.org/api/rest_v1/media/math/render/svg/f4353f4e3e484130504049599d2e7b040793e1eb)\n",
        "\n",
        "Создайте матрицу размера (4,3), заполненную числами из стандартного нормального распределения, и проверьте работоспособность функции активации."
      ]
    },
    {
      "cell_type": "code",
      "execution_count": null,
      "id": "4679f4e5",
      "metadata": {
        "id": "4679f4e5"
      },
      "outputs": [],
      "source": [
        "class ReLU:\n",
        "    def forward(self, inputs):\n",
        "    # <реализовать логику ReLU>\n",
        "        pass"
      ]
    },
    {
      "cell_type": "code",
      "source": [
        "class ReLU:\n",
        "    def forward(self, inputs):\n",
        "        return torch.clip(inputs,min=0)"
      ],
      "metadata": {
        "id": "bwe1l-lau7yO"
      },
      "id": "bwe1l-lau7yO",
      "execution_count": null,
      "outputs": []
    },
    {
      "cell_type": "code",
      "source": [
        "X = torch.randn(4, 3)\n",
        "X"
      ],
      "metadata": {
        "colab": {
          "base_uri": "https://localhost:8080/"
        },
        "id": "3n81ak9tu4R8",
        "outputId": "a9a6682f-8c97-4e07-aa57-01003b9cc364"
      },
      "id": "3n81ak9tu4R8",
      "execution_count": null,
      "outputs": [
        {
          "output_type": "execute_result",
          "data": {
            "text/plain": [
              "tensor([[-1.4098,  0.6699, -0.4273],\n",
              "        [ 0.5346,  0.8835, -0.7761],\n",
              "        [ 0.1086,  0.8665,  0.0096],\n",
              "        [-0.9992,  0.1900,  1.9118]])"
            ]
          },
          "metadata": {},
          "execution_count": 13
        }
      ]
    },
    {
      "cell_type": "code",
      "source": [
        "relu = ReLU()\n",
        "\n",
        "\n",
        "output = relu.forward(X)\n",
        "\n",
        "output"
      ],
      "metadata": {
        "colab": {
          "base_uri": "https://localhost:8080/"
        },
        "id": "VHeTGCyGu4Un",
        "outputId": "0e4afc84-5a04-4b18-826a-56d2a18f61fa"
      },
      "id": "VHeTGCyGu4Un",
      "execution_count": null,
      "outputs": [
        {
          "output_type": "execute_result",
          "data": {
            "text/plain": [
              "tensor([[0.0000, 0.6699, 0.0000],\n",
              "        [0.5346, 0.8835, 0.0000],\n",
              "        [0.1086, 0.8665, 0.0096],\n",
              "        [0.0000, 0.1900, 1.9118]])"
            ]
          },
          "metadata": {},
          "execution_count": 14
        }
      ]
    },
    {
      "cell_type": "code",
      "source": [],
      "metadata": {
        "id": "VyHNFtTQu4XR"
      },
      "id": "VyHNFtTQu4XR",
      "execution_count": null,
      "outputs": []
    },
    {
      "cell_type": "markdown",
      "id": "c6a16748",
      "metadata": {
        "id": "c6a16748"
      },
      "source": [
        "3\\. Используя операции над матрицами и векторами из библиотеки `torch`, реализуйте функцию потерь MSE:\n",
        "\n",
        "![](https://wikimedia.org/api/rest_v1/media/math/render/svg/e258221518869aa1c6561bb75b99476c4734108e)\n",
        "где $Y_i$ - правильный ответ для примера $i$, $\\hat{Y_i}$ - предсказание модели для примера $i$, $n$ - количество примеров в батче."
      ]
    },
    {
      "cell_type": "code",
      "execution_count": null,
      "id": "e046dfa6",
      "metadata": {
        "id": "e046dfa6"
      },
      "outputs": [],
      "source": [
        "class MSELoss:\n",
        "      def forward(self, y_pred, y_true):\n",
        "        return (y_pred-y_true).pow(2).mean()"
      ]
    },
    {
      "cell_type": "code",
      "execution_count": null,
      "id": "e686f8b8",
      "metadata": {
        "id": "e686f8b8"
      },
      "outputs": [],
      "source": [
        "y_pred = torch.tensor([1.0, 3.0, 5.0])\n",
        "y_true = torch.tensor([2.0, 3.0, 4.0])"
      ]
    },
    {
      "cell_type": "code",
      "source": [
        "criterion = MSELoss()\n",
        "criterion.forward( y_pred, y_true)"
      ],
      "metadata": {
        "colab": {
          "base_uri": "https://localhost:8080/"
        },
        "id": "VXubcS39wEoB",
        "outputId": "53dcc72d-db98-4bda-d74c-a6df456ca097"
      },
      "id": "VXubcS39wEoB",
      "execution_count": null,
      "outputs": [
        {
          "output_type": "execute_result",
          "data": {
            "text/plain": [
              "tensor(0.6667)"
            ]
          },
          "metadata": {},
          "execution_count": 17
        }
      ]
    },
    {
      "cell_type": "code",
      "source": [],
      "metadata": {
        "id": "oaeHnqJywFBH"
      },
      "id": "oaeHnqJywFBH",
      "execution_count": null,
      "outputs": []
    },
    {
      "cell_type": "markdown",
      "id": "4d7b6d63",
      "metadata": {
        "id": "4d7b6d63"
      },
      "source": [
        "## Задачи для самостоятельного решения"
      ]
    },
    {
      "cell_type": "markdown",
      "id": "705e742b",
      "metadata": {
        "id": "705e742b"
      },
      "source": [
        "### Cоздание полносвязных слоев"
      ]
    },
    {
      "cell_type": "markdown",
      "id": "36fe867c",
      "metadata": {
        "id": "36fe867c"
      },
      "source": [
        "<p class=\"task\" id=\"1_1\"></p>\n",
        "\n",
        "1\\.1 Используя операции над матрицами и векторами из библиотеки `torch`, реализуйте полносвязный слой из `n_neurons` нейронов с `n_features` весами у каждого нейрона (инициализируются из стандартного нормального распределения) и опциональным вектором смещения.\n",
        "\n",
        "$$y = xW^T + b$$\n",
        "\n",
        "Пропустите вектор `inputs` через слой и выведите результат. Результатом прогона сквозь слой должна быть матрица размера `batch_size` x `n_neurons`.\n",
        "\n",
        "- [x] Проверено на семинаре"
      ]
    },
    {
      "cell_type": "code",
      "execution_count": null,
      "id": "680571a2",
      "metadata": {
        "id": "680571a2"
      },
      "outputs": [],
      "source": [
        "class Linear:\n",
        "    def __init__(self, n_neurons, n_features, bias: bool = False):\n",
        "        pass\n",
        "\n",
        "    def forward(self, inputs):\n",
        "        pass"
      ]
    },
    {
      "cell_type": "code",
      "execution_count": null,
      "id": "943ddd88",
      "metadata": {
        "id": "943ddd88"
      },
      "outputs": [],
      "source": [
        "# inputs: batch_size(3) x 4\n",
        "inputs = torch.tensor([[1, 2, 3, 2.5],\n",
        "                       [2, 5, -1, 2],\n",
        "                       [-1.5, 2.7, 3.3, -0.8]])"
      ]
    },
    {
      "cell_type": "code",
      "source": [
        "class Linear:\n",
        "    def __init__(self, n_neurons, n_features, bias: bool = False):\n",
        "        self.w = torch.randn(n_neurons, n_features)\n",
        "        if bias:\n",
        "           self.b = torch.randn(n_neurons)\n",
        "        else:\n",
        "           self.b = None\n",
        "\n",
        "    def forward(self, inputs):\n",
        "        output = inputs @ self.w.t()\n",
        "        if self.b is not None:\n",
        "            output += self.b\n",
        "        return output\n"
      ],
      "metadata": {
        "id": "4erI-b-5wcPh"
      },
      "id": "4erI-b-5wcPh",
      "execution_count": null,
      "outputs": []
    },
    {
      "cell_type": "code",
      "source": [
        "linear_layer = Linear(n_neurons=10, n_features=4)\n",
        "output = linear_layer.forward(inputs)"
      ],
      "metadata": {
        "id": "WKKYFSJJwcS4"
      },
      "id": "WKKYFSJJwcS4",
      "execution_count": null,
      "outputs": []
    },
    {
      "cell_type": "code",
      "source": [
        "output"
      ],
      "metadata": {
        "colab": {
          "base_uri": "https://localhost:8080/"
        },
        "id": "hgqBflT7wcWK",
        "outputId": "5e9cb806-0a1a-4c97-e1c2-a33d86d945c5"
      },
      "id": "hgqBflT7wcWK",
      "execution_count": null,
      "outputs": [
        {
          "output_type": "execute_result",
          "data": {
            "text/plain": [
              "tensor([[ 1.7537,  0.6667,  2.4158,  5.3994,  3.5203, -0.5887, -1.6789, -0.5052,\n",
              "          5.2771, -0.1554],\n",
              "        [10.9236,  3.3885,  0.5877,  5.1805,  5.4771,  1.5011, -2.9877, -1.8675,\n",
              "         -3.0159, -3.3321],\n",
              "        [-2.2393, -1.4303,  1.4585, -0.3376, -0.1846,  1.0567, -3.9485,  2.9507,\n",
              "          0.1137, -1.5886]])"
            ]
          },
          "metadata": {},
          "execution_count": 58
        }
      ]
    },
    {
      "cell_type": "code",
      "source": [],
      "metadata": {
        "colab": {
          "base_uri": "https://localhost:8080/"
        },
        "id": "UJP7_gwc6Qk-",
        "outputId": "0ff604ae-b030-45aa-be39-bc529b08ba50"
      },
      "id": "UJP7_gwc6Qk-",
      "execution_count": null,
      "outputs": [
        {
          "output_type": "execute_result",
          "data": {
            "text/plain": [
              "1"
            ]
          },
          "metadata": {},
          "execution_count": 44
        }
      ]
    },
    {
      "cell_type": "markdown",
      "id": "fad52a4f",
      "metadata": {
        "id": "fad52a4f"
      },
      "source": [
        "<p class=\"task\" id=\"1_2\"></p>\n",
        "\n",
        "1\\.2 Используя решение предыдущей задачи, создайте 2 полносвязных слоя и пропустите тензор `inputs` последовательно через эти два слоя. Количество нейронов в первом слое выберите произвольно, количество нейронов во втором слое выберите так, чтобы результатом прогона являлась матрица `batch_size x 7`.\n",
        "\n",
        "- [x] Проверено на семинаре"
      ]
    },
    {
      "cell_type": "code",
      "source": [
        "layer1 = Linear(n_neurons=10, n_features=4)\n",
        "layer2 = Linear(n_neurons=7, n_features=10)"
      ],
      "metadata": {
        "id": "pZDqWuIzwgqn"
      },
      "id": "pZDqWuIzwgqn",
      "execution_count": null,
      "outputs": []
    },
    {
      "cell_type": "code",
      "source": [
        "output1 = layer1.forward(inputs)"
      ],
      "metadata": {
        "id": "JZWgUQOK07Zk"
      },
      "id": "JZWgUQOK07Zk",
      "execution_count": null,
      "outputs": []
    },
    {
      "cell_type": "code",
      "source": [
        "output1"
      ],
      "metadata": {
        "colab": {
          "base_uri": "https://localhost:8080/"
        },
        "id": "DKTDybzl3tSg",
        "outputId": "39bde312-e7ac-4d59-89dc-8b2d30d06fe1"
      },
      "id": "DKTDybzl3tSg",
      "execution_count": null,
      "outputs": [
        {
          "output_type": "execute_result",
          "data": {
            "text/plain": [
              "tensor([[-7.1877,  4.7722,  7.6566, -4.1295,  7.9858,  1.8210,  0.1960, -1.3199,\n",
              "          6.3539, -0.9664],\n",
              "        [-3.5322,  1.6815,  6.3844,  1.5424,  5.9606, -4.3085,  3.5767, -5.1580,\n",
              "          5.3447,  0.0147],\n",
              "        [-2.2465,  5.1041, -0.8427, -4.8925,  2.8111,  4.5355,  4.1751,  3.2480,\n",
              "         -0.0716,  0.2955]])"
            ]
          },
          "metadata": {},
          "execution_count": 39
        }
      ]
    },
    {
      "cell_type": "code",
      "source": [
        "output2 = layer2.forward(output1)"
      ],
      "metadata": {
        "id": "3eMSenad1oep"
      },
      "id": "3eMSenad1oep",
      "execution_count": null,
      "outputs": []
    },
    {
      "cell_type": "code",
      "source": [
        "output2"
      ],
      "metadata": {
        "colab": {
          "base_uri": "https://localhost:8080/"
        },
        "id": "gC9Ltxoa1oiK",
        "outputId": "cd063b87-d4d8-4dc6-bdd2-8784a1b32c0e"
      },
      "id": "gC9Ltxoa1oiK",
      "execution_count": null,
      "outputs": [
        {
          "output_type": "execute_result",
          "data": {
            "text/plain": [
              "tensor([[ -1.8252,  -9.5581,   7.7926,   9.3101,  -4.6363,   1.0317,  10.1012],\n",
              "        [ -3.8969,  12.3756,   5.6654,  -2.2211,   5.7136,  15.7015,   6.2562],\n",
              "        [ -1.3369, -25.9585,   5.8134,  12.1736,  -5.1391, -11.4335,   0.7932]])"
            ]
          },
          "metadata": {},
          "execution_count": 32
        }
      ]
    },
    {
      "cell_type": "markdown",
      "id": "1f89bb8e",
      "metadata": {
        "id": "1f89bb8e"
      },
      "source": [
        "### Создание функций активации"
      ]
    },
    {
      "cell_type": "markdown",
      "id": "d3c912a6",
      "metadata": {
        "id": "d3c912a6"
      },
      "source": [
        "<p class=\"task\" id=\"2_1\"></p>\n",
        "\n",
        "2\\.1 Используя операции над матрицами и векторами из библиотеки `torch`, реализуйте функцию активации softmax:\n",
        "\n",
        "![](https://wikimedia.org/api/rest_v1/media/math/render/svg/6d7500d980c313da83e4117da701bf7c8f1982f5)\n",
        "\n",
        "$$\\overrightarrow{x} = (x_1, ..., x_J)$$\n",
        "\n",
        "Создайте матрицу размера (4,3), заполненную числами из стандартного нормального распределения, и проверьте работоспособность функции активации. Строки матрицы трактовать как выходы линейного слоя некоторого классификатора для 4 различных примеров. Функция должна применяться переданной на вход матрице построчно.\n",
        "\n",
        "- [ ] Проверено на семинаре"
      ]
    },
    {
      "cell_type": "code",
      "execution_count": null,
      "id": "41ec4062",
      "metadata": {
        "id": "41ec4062"
      },
      "outputs": [],
      "source": [
        "class Softmax:\n",
        "    def forward(self, inputs):\n",
        "        # <реализовать логику Softmax>\n",
        "        pass"
      ]
    },
    {
      "cell_type": "code",
      "execution_count": null,
      "metadata": {
        "id": "egHicPmq4qlp"
      },
      "outputs": [],
      "source": [
        "class Softmax:\n",
        "    def forward(self, inputs):\n",
        "        return torch.exp(inputs) / torch.exp(inputs).sum(dim=1).view(-1, 1)\n"
      ],
      "id": "egHicPmq4qlp"
    },
    {
      "cell_type": "code",
      "source": [
        "inputs = torch.randn(size=(4, 3))"
      ],
      "metadata": {
        "id": "-kAGXrsbQ-8A"
      },
      "id": "-kAGXrsbQ-8A",
      "execution_count": null,
      "outputs": []
    },
    {
      "cell_type": "code",
      "source": [
        "inputs"
      ],
      "metadata": {
        "colab": {
          "base_uri": "https://localhost:8080/"
        },
        "id": "0hIYr2w7Q_1T",
        "outputId": "9c333e52-4583-42d4-c9df-a9c303117114"
      },
      "id": "0hIYr2w7Q_1T",
      "execution_count": null,
      "outputs": [
        {
          "output_type": "execute_result",
          "data": {
            "text/plain": [
              "tensor([[-0.7908,  2.0011, -1.3943],\n",
              "        [ 0.6787,  0.2453, -0.7228],\n",
              "        [ 0.5589, -0.3470,  0.6150],\n",
              "        [ 0.2769, -0.8328, -0.9713]])"
            ]
          },
          "metadata": {},
          "execution_count": 32
        }
      ]
    },
    {
      "cell_type": "code",
      "source": [
        "s = Softmax()"
      ],
      "metadata": {
        "id": "AI1ONpYi-6Q-"
      },
      "id": "AI1ONpYi-6Q-",
      "execution_count": null,
      "outputs": []
    },
    {
      "cell_type": "code",
      "source": [
        "s.forward(inputs)"
      ],
      "metadata": {
        "colab": {
          "base_uri": "https://localhost:8080/"
        },
        "id": "CDif0LteRKHQ",
        "outputId": "1d4ff65a-2a3e-40bc-a09a-c10f3d4f45f1"
      },
      "id": "CDif0LteRKHQ",
      "execution_count": null,
      "outputs": [
        {
          "output_type": "execute_result",
          "data": {
            "text/plain": [
              "tensor([[0.0560, 0.9134, 0.0306],\n",
              "        [0.5278, 0.3422, 0.1300],\n",
              "        [0.4062, 0.1642, 0.4296],\n",
              "        [0.6186, 0.2039, 0.1775]])"
            ]
          },
          "metadata": {},
          "execution_count": 34
        }
      ]
    },
    {
      "cell_type": "markdown",
      "id": "1a8acbae",
      "metadata": {
        "id": "1a8acbae"
      },
      "source": [
        "<p class=\"task\" id=\"2_2\"></p>\n",
        "\n",
        "2.2 Используя операции над матрицами и векторами из библиотеки `torch`, реализуйте функцию активации ELU:\n",
        "\n",
        "![](https://wikimedia.org/api/rest_v1/media/math/render/svg/eb23becd37c3602c4838e53f532163279192e4fd)\n",
        "\n",
        "Создайте матрицу размера 4x3, заполненную числами из стандартного нормального распределения, и проверьте работоспособность функции активации.\n",
        "\n",
        "- [ ] Проверено на семинаре"
      ]
    },
    {
      "cell_type": "code",
      "execution_count": null,
      "id": "998b3675",
      "metadata": {
        "id": "998b3675"
      },
      "outputs": [],
      "source": [
        "class ELU:\n",
        "    def __init__(self, alpha: float):\n",
        "        pass\n",
        "\n",
        "    def forward(self, inputs):\n",
        "        # <реализовать логику ELU>\n",
        "        pass"
      ]
    },
    {
      "cell_type": "code",
      "source": [
        "class ELU:\n",
        "    def __init__(self, alpha: float):\n",
        "        self.alpha = alpha\n",
        "\n",
        "    def forward(self, inputs):\n",
        "        positive_mask = inputs > 0\n",
        "        negative_values = self.alpha * (torch.exp(inputs) - 1)\n",
        "        output = torch.where(positive_mask, inputs, negative_values)\n",
        "\n",
        "        return output\n"
      ],
      "metadata": {
        "id": "x8z7FAASMN58"
      },
      "id": "x8z7FAASMN58",
      "execution_count": 5,
      "outputs": []
    },
    {
      "cell_type": "code",
      "execution_count": 6,
      "metadata": {
        "id": "7da39a50",
        "outputId": "5a99ab04-61c7-4d07-d1cd-90962459369b",
        "colab": {
          "base_uri": "https://localhost:8080/"
        }
      },
      "outputs": [
        {
          "output_type": "execute_result",
          "data": {
            "text/plain": [
              "tensor([[-0.5380, -0.7802,  0.0081],\n",
              "        [ 0.3602,  0.9154, -1.5675],\n",
              "        [ 1.4642, -0.2282, -1.9667],\n",
              "        [ 0.1675,  0.9709,  0.2402]])"
            ]
          },
          "metadata": {},
          "execution_count": 6
        }
      ],
      "source": [
        "inputs = torch.randn(size=(4, 3))\n",
        "inputs"
      ],
      "id": "7da39a50"
    },
    {
      "cell_type": "code",
      "execution_count": 7,
      "metadata": {
        "id": "7ab9ee31",
        "outputId": "0b96e622-e8f8-4052-ebfa-a2b269851c01",
        "colab": {
          "base_uri": "https://localhost:8080/"
        }
      },
      "outputs": [
        {
          "output_type": "execute_result",
          "data": {
            "text/plain": [
              "tensor([[-0.6241, -0.8125,  0.0081],\n",
              "        [ 0.3602,  0.9154, -1.1871],\n",
              "        [ 1.4642, -0.3060, -1.2901],\n",
              "        [ 0.1675,  0.9709,  0.2402]])"
            ]
          },
          "metadata": {},
          "execution_count": 7
        }
      ],
      "source": [
        "ELU(1.5).forward(inputs)"
      ],
      "id": "7ab9ee31"
    },
    {
      "cell_type": "code",
      "source": [],
      "metadata": {
        "id": "rrbwNCR6wi4O"
      },
      "id": "rrbwNCR6wi4O",
      "execution_count": null,
      "outputs": []
    },
    {
      "cell_type": "code",
      "source": [],
      "metadata": {
        "id": "tPenuKuFwi9f"
      },
      "id": "tPenuKuFwi9f",
      "execution_count": null,
      "outputs": []
    },
    {
      "cell_type": "markdown",
      "id": "aa02fb0d",
      "metadata": {
        "id": "aa02fb0d"
      },
      "source": [
        "### Создание функции потерь"
      ]
    },
    {
      "cell_type": "markdown",
      "id": "bab7e56a",
      "metadata": {
        "id": "bab7e56a"
      },
      "source": [
        "<p class=\"task\" id=\"3_1\"></p>\n",
        "\n",
        "3\\.1 Используя операции над матрицами и векторами из библиотеки `torch`, реализуйте функцию потерь CrossEntropyLoss:\n",
        "\n",
        "$$y_i = (y_{i,1},...,y_{i,k})$$\n",
        "<img src=\"https://i.ibb.co/93gy1dN/Screenshot-9.png\" width=\"200\">\n",
        "\n",
        "$$ CrossEntropyLoss = \\frac{1}{n}\\sum_{i=1}^{n}{L_i}$$\n",
        "где $y_i$ - вектор правильных ответов для примера $i$, $\\hat{y_i}$ - вектор предсказаний модели для примера $i$; $k$ - количество классов, $n$ - количество примеров в батче.\n",
        "\n",
        "Создайте полносвязный слой с 3 нейронами и прогнать через него батч `inputs`. Полученный результат пропустите через функцию активации Softmax. Посчитайте значение функции потерь, трактуя вектор `y` как вектор правильных ответов.\n",
        "\n",
        "- [ ] Проверено на семинаре"
      ]
    },
    {
      "cell_type": "code",
      "execution_count": null,
      "id": "f683f102",
      "metadata": {
        "id": "f683f102"
      },
      "outputs": [],
      "source": [
        "class CrossEntropyLoss:\n",
        "      def forward(self, y_pred, y_true):\n",
        "    # <реализовать логику функции потерь>\n",
        "        pass"
      ]
    },
    {
      "cell_type": "code",
      "execution_count": null,
      "id": "82a4dba3",
      "metadata": {
        "id": "82a4dba3"
      },
      "outputs": [],
      "source": [
        "inputs = torch.tensor([[1, 2, 3, 2.5],\n",
        "                        [2, 5, -1, 2],\n",
        "                        [-1.5, 2.7, 3.3, -0.8]])\n",
        "y = torch.tensor([1, 0, 0])"
      ]
    },
    {
      "cell_type": "code",
      "source": [],
      "metadata": {
        "id": "xnKSwCLxwkDs"
      },
      "id": "xnKSwCLxwkDs",
      "execution_count": null,
      "outputs": []
    },
    {
      "cell_type": "code",
      "source": [],
      "metadata": {
        "id": "0nIUu0-AwkHP"
      },
      "id": "0nIUu0-AwkHP",
      "execution_count": null,
      "outputs": []
    },
    {
      "cell_type": "code",
      "source": [],
      "metadata": {
        "id": "AaTzeCjrwkKq"
      },
      "id": "AaTzeCjrwkKq",
      "execution_count": null,
      "outputs": []
    },
    {
      "cell_type": "code",
      "source": [],
      "metadata": {
        "id": "MMuD0zY3wkN4"
      },
      "id": "MMuD0zY3wkN4",
      "execution_count": null,
      "outputs": []
    },
    {
      "cell_type": "code",
      "source": [],
      "metadata": {
        "id": "WnHKyWLLwkQr"
      },
      "id": "WnHKyWLLwkQr",
      "execution_count": null,
      "outputs": []
    },
    {
      "cell_type": "markdown",
      "id": "7c9c82a1",
      "metadata": {
        "id": "7c9c82a1"
      },
      "source": [
        "<p class=\"task\" id=\"3_2\"></p>\n",
        "\n",
        "3.2 Модифицируйте MSE, добавив L2-регуляризацию.\n",
        "\n",
        "$$MSE_R = MSE + \\lambda\\sum_{i=1}^{m}w_i^2$$\n",
        "\n",
        "где $\\lambda$ - коэффициент регуляризации; $w_i$ - веса модели.\n",
        "\n",
        "- [ ] Проверено на семинаре"
      ]
    },
    {
      "cell_type": "code",
      "execution_count": null,
      "id": "b1f858a9",
      "metadata": {
        "id": "b1f858a9"
      },
      "outputs": [],
      "source": [
        "class MSERegularized:\n",
        "    def __init__(self, lambda_):\n",
        "        pass\n",
        "\n",
        "    def data_loss(self, y_pred, y_true):\n",
        "        # <подсчет первого слагаемого из формулы>\n",
        "        pass\n",
        "\n",
        "    def reg_loss(self, weights):\n",
        "        # <подсчет второго слагаемого из формулы>\n",
        "        pass\n",
        "\n",
        "    def forward(self, y_pred, y_true, weights):\n",
        "        return self.data_loss(y_pred, y_true) + self.reg_loss(weights)"
      ]
    },
    {
      "cell_type": "code",
      "execution_count": null,
      "id": "4c997c44",
      "metadata": {
        "id": "4c997c44"
      },
      "outputs": [],
      "source": [
        "y_pred = torch.tensor([-0.5, 1, 1.7])\n",
        "y_true = torch.tensor([0, 0.6, 2.3])\n",
        "weights = torch.normal(0, 5, (10, 1))"
      ]
    },
    {
      "cell_type": "code",
      "execution_count": null,
      "metadata": {
        "id": "kx_v8qI_PmSP"
      },
      "outputs": [],
      "source": [
        "class MSERegularized:\n",
        "    def __init__(self, lambda_):\n",
        "        self.lambda_ = lambda_\n",
        "\n",
        "    def data_loss(self, y_pred, y_true):\n",
        "        return (y_pred-y_true).pow(2).mean()\n",
        "\n",
        "    def reg_loss(self, weights):\n",
        "        return self.lambda_ * (weights**2).sum()\n",
        "\n",
        "    def forward(self, y_pred, y_true, weights):\n",
        "        data_loss = self.data_loss(y_pred, y_true)\n",
        "        reg_loss = self.reg_loss(weights)\n",
        "        return data_loss + reg_loss"
      ],
      "id": "kx_v8qI_PmSP"
    },
    {
      "cell_type": "code",
      "execution_count": null,
      "metadata": {
        "id": "f4d04351",
        "outputId": "1026d60b-926e-4383-ef10-e06f9140e6af",
        "colab": {
          "base_uri": "https://localhost:8080/"
        }
      },
      "outputs": [
        {
          "output_type": "execute_result",
          "data": {
            "text/plain": [
              "tensor(71.2578)"
            ]
          },
          "metadata": {},
          "execution_count": 28
        }
      ],
      "source": [
        "MSER = MSERegularized(0.2)\n",
        "\n",
        "MSER.forward(y_pred, y_true, weights)"
      ],
      "id": "f4d04351"
    },
    {
      "cell_type": "code",
      "source": [],
      "metadata": {
        "id": "pklK5hgJOuHO"
      },
      "id": "pklK5hgJOuHO",
      "execution_count": null,
      "outputs": []
    },
    {
      "cell_type": "markdown",
      "id": "66caa919",
      "metadata": {
        "id": "66caa919"
      },
      "source": [
        "## Обратная связь\n",
        "- [ ] Хочу получить обратную связь по решению"
      ]
    },
    {
      "cell_type": "code",
      "execution_count": null,
      "id": "87f071f6",
      "metadata": {
        "id": "87f071f6"
      },
      "outputs": [],
      "source": []
    }
  ],
  "metadata": {
    "kernelspec": {
      "display_name": "Python 3 (ipykernel)",
      "language": "python",
      "name": "python3"
    },
    "language_info": {
      "codemirror_mode": {
        "name": "ipython",
        "version": 3
      },
      "file_extension": ".py",
      "mimetype": "text/x-python",
      "name": "python",
      "nbconvert_exporter": "python",
      "pygments_lexer": "ipython3",
      "version": "3.9.7"
    },
    "colab": {
      "provenance": [],
      "collapsed_sections": [
        "705e742b"
      ]
    }
  },
  "nbformat": 4,
  "nbformat_minor": 5
}