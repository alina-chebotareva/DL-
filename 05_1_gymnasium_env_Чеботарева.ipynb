{
  "cells": [
    {
      "cell_type": "markdown",
      "id": "3a564d5f",
      "metadata": {
        "id": "3a564d5f"
      },
      "source": [
        "# Введение в RL и пакет Gymnasium\n",
        "\n",
        "__Автор задач: Блохин Н.В. (NVBlokhin@fa.ru)__\n",
        "\n",
        "Материалы:\n",
        "* https://gymnasium.farama.org/\n",
        "* https://pypi.org/project/ufal.pybox2d/\n",
        "* https://gymnasium.farama.org/tutorials/gymnasium_basics/environment_creation/\n",
        "* https://gymnasium.farama.org/api/spaces/fundamental/\n",
        "* https://gymnasium.farama.org/environments/toy_text/blackjack/"
      ]
    },
    {
      "cell_type": "markdown",
      "id": "c9ecd663",
      "metadata": {
        "id": "c9ecd663"
      },
      "source": [
        "## Задачи для совместного разбора"
      ]
    },
    {
      "cell_type": "markdown",
      "id": "96b79f4f",
      "metadata": {
        "id": "96b79f4f"
      },
      "source": [
        "1. Рассмотрите пример создания окружения `gymnasium` и основные этапы взаимодействия с этим окружением.\n",
        "<img src=\"https://gymnasium.farama.org/_images/AE_loop.png\" width=\"300\"/>"
      ]
    },
    {
      "cell_type": "code",
      "source": [
        "# pip install gymnasium"
      ],
      "metadata": {
        "colab": {
          "base_uri": "https://localhost:8080/"
        },
        "id": "bFnE78e6BI_E",
        "outputId": "ab1cf9f5-3b9b-4f1b-96ee-78b50f08b1d4"
      },
      "id": "bFnE78e6BI_E",
      "execution_count": null,
      "outputs": [
        {
          "output_type": "stream",
          "name": "stdout",
          "text": [
            "Collecting gymnasium\n",
            "  Downloading gymnasium-0.29.1-py3-none-any.whl (953 kB)\n",
            "\u001b[2K     \u001b[90m━━━━━━━━━━━━━━━━━━━━━━━━━━━━━━━━━━━━━━━━\u001b[0m \u001b[32m953.9/953.9 kB\u001b[0m \u001b[31m13.2 MB/s\u001b[0m eta \u001b[36m0:00:00\u001b[0m\n",
            "\u001b[?25hRequirement already satisfied: numpy>=1.21.0 in /usr/local/lib/python3.10/dist-packages (from gymnasium) (1.23.5)\n",
            "Requirement already satisfied: cloudpickle>=1.2.0 in /usr/local/lib/python3.10/dist-packages (from gymnasium) (2.2.1)\n",
            "Requirement already satisfied: typing-extensions>=4.3.0 in /usr/local/lib/python3.10/dist-packages (from gymnasium) (4.5.0)\n",
            "Collecting farama-notifications>=0.0.1 (from gymnasium)\n",
            "  Downloading Farama_Notifications-0.0.4-py3-none-any.whl (2.5 kB)\n",
            "Installing collected packages: farama-notifications, gymnasium\n",
            "Successfully installed farama-notifications-0.0.4 gymnasium-0.29.1\n"
          ]
        }
      ]
    },
    {
      "cell_type": "code",
      "source": [
        "# pip install ufal.pybox2d"
      ],
      "metadata": {
        "colab": {
          "base_uri": "https://localhost:8080/"
        },
        "id": "My8ydJ7sCe3A",
        "outputId": "1f360e57-1ac7-4cb4-855e-5f08cc6a78f0"
      },
      "id": "My8ydJ7sCe3A",
      "execution_count": null,
      "outputs": [
        {
          "output_type": "stream",
          "name": "stdout",
          "text": [
            "Collecting ufal.pybox2d\n",
            "  Downloading ufal.pybox2d-2.3.10.2-cp310-cp310-manylinux_2_17_x86_64.manylinux2014_x86_64.whl (3.7 MB)\n",
            "\u001b[?25l     \u001b[90m━━━━━━━━━━━━━━━━━━━━━━━━━━━━━━━━━━━━━━━━\u001b[0m \u001b[32m0.0/3.7 MB\u001b[0m \u001b[31m?\u001b[0m eta \u001b[36m-:--:--\u001b[0m\r\u001b[2K     \u001b[91m━\u001b[0m\u001b[90m╺\u001b[0m\u001b[90m━━━━━━━━━━━━━━━━━━━━━━━━━━━━━━━━━━━━━━\u001b[0m \u001b[32m0.1/3.7 MB\u001b[0m \u001b[31m2.5 MB/s\u001b[0m eta \u001b[36m0:00:02\u001b[0m\r\u001b[2K     \u001b[91m━━━━━━━━━━━━━━━━━━━\u001b[0m\u001b[91m╸\u001b[0m\u001b[90m━━━━━━━━━━━━━━━━━━━━\u001b[0m \u001b[32m1.8/3.7 MB\u001b[0m \u001b[31m26.4 MB/s\u001b[0m eta \u001b[36m0:00:01\u001b[0m\r\u001b[2K     \u001b[91m━━━━━━━━━━━━━━━━━━━━━━━━━━━━━━━━━━━━━━━\u001b[0m\u001b[91m╸\u001b[0m \u001b[32m3.6/3.7 MB\u001b[0m \u001b[31m41.6 MB/s\u001b[0m eta \u001b[36m0:00:01\u001b[0m\r\u001b[2K     \u001b[90m━━━━━━━━━━━━━━━━━━━━━━━━━━━━━━━━━━━━━━━━\u001b[0m \u001b[32m3.7/3.7 MB\u001b[0m \u001b[31m33.7 MB/s\u001b[0m eta \u001b[36m0:00:00\u001b[0m\n",
            "\u001b[?25hInstalling collected packages: ufal.pybox2d\n",
            "Successfully installed ufal.pybox2d-2.3.10.2\n"
          ]
        }
      ]
    },
    {
      "cell_type": "code",
      "source": [
        "import gymnasium as gym"
      ],
      "metadata": {
        "id": "C-0nHqWpBJCs"
      },
      "id": "C-0nHqWpBJCs",
      "execution_count": null,
      "outputs": []
    },
    {
      "cell_type": "code",
      "source": [
        "env = gym.make(\"LunarLander-v2\", render_mode=\"human\")\n",
        "observation, info = env.reset(seed=42)\n",
        "\n",
        "is_done = True\n",
        "while not is_done:\n",
        "   action = env.action_space.sample()\n",
        "   observation, reward, terminated, truncated, info = env.step(action)\n",
        "\n",
        "   if terminated or truncated:\n",
        "      observation, info = env.reset()\n",
        "\n",
        "env.close()"
      ],
      "metadata": {
        "id": "EFmOEa9aBJGU"
      },
      "id": "EFmOEa9aBJGU",
      "execution_count": null,
      "outputs": []
    },
    {
      "cell_type": "code",
      "source": [
        "observation"
      ],
      "metadata": {
        "colab": {
          "base_uri": "https://localhost:8080/"
        },
        "id": "F_AKI3qBBJJt",
        "outputId": "554ece87-4afa-4c79-8eeb-e53134cd0691"
      },
      "id": "F_AKI3qBBJJt",
      "execution_count": null,
      "outputs": [
        {
          "output_type": "execute_result",
          "data": {
            "text/plain": [
              "array([ 0.00229702,  1.4181306 ,  0.2326471 ,  0.3204666 , -0.00265488,\n",
              "       -0.05269805,  0.        ,  0.        ], dtype=float32)"
            ]
          },
          "metadata": {},
          "execution_count": 3
        }
      ]
    },
    {
      "cell_type": "code",
      "source": [],
      "metadata": {
        "id": "vrZxaI2WBJNC"
      },
      "id": "vrZxaI2WBJNC",
      "execution_count": null,
      "outputs": []
    },
    {
      "cell_type": "code",
      "source": [],
      "metadata": {
        "id": "Gm15MrTyBJ-F"
      },
      "id": "Gm15MrTyBJ-F",
      "execution_count": null,
      "outputs": []
    },
    {
      "cell_type": "markdown",
      "id": "4d7b6d63",
      "metadata": {
        "id": "4d7b6d63"
      },
      "source": [
        "## Задачи для самостоятельного решения"
      ]
    },
    {
      "cell_type": "markdown",
      "id": "7f49190d",
      "metadata": {
        "id": "7f49190d"
      },
      "source": [
        "<p class=\"task\" id=\"1\"></p>\n",
        "\n",
        "1\\. Создайте окружение `Blackjack-v1`. Сыграйте `N=10000` игр, выбирая действие случайным образом. Посчитайте и выведите на экран долю выигранных игр.\n",
        "\n",
        "- [х] Проверено на семинаре"
      ]
    },
    {
      "cell_type": "code",
      "source": [
        "env = gym.make(\"Blackjack-v1\")"
      ],
      "metadata": {
        "id": "85z4sz68Gva8"
      },
      "id": "85z4sz68Gva8",
      "execution_count": null,
      "outputs": []
    },
    {
      "cell_type": "code",
      "source": [],
      "metadata": {
        "id": "LrhwKb_NOQiL"
      },
      "id": "LrhwKb_NOQiL",
      "execution_count": null,
      "outputs": []
    },
    {
      "cell_type": "code",
      "source": [
        "def policy(env, state):\n",
        "  action = env.action_space.sample()\n",
        "  return action"
      ],
      "metadata": {
        "id": "6BCDKJKJERNh"
      },
      "execution_count": null,
      "outputs": [],
      "id": "6BCDKJKJERNh"
    },
    {
      "cell_type": "code",
      "source": [
        "games = 10000\n",
        "wins = 0\n",
        "\n",
        "for _ in range(games):\n",
        "    observation = env.reset()\n",
        "    is_done = False\n",
        "\n",
        "    while not is_done:\n",
        "        action = policy(env, observation)\n",
        "        observation, reward, terminated, truncated, _ = env.step(action)\n",
        "        is_done = terminated or truncated\n",
        "    if reward > 0:\n",
        "        wins +=1\n",
        "env.close()\n",
        "\n"
      ],
      "metadata": {
        "id": "USV5AuW4BxU_"
      },
      "id": "USV5AuW4BxU_",
      "execution_count": null,
      "outputs": []
    },
    {
      "cell_type": "code",
      "source": [
        "wins"
      ],
      "metadata": {
        "colab": {
          "base_uri": "https://localhost:8080/"
        },
        "id": "prIJ2bWWBxYg",
        "outputId": "23906c8d-86dc-409e-cea3-29b863aeaed2"
      },
      "id": "prIJ2bWWBxYg",
      "execution_count": null,
      "outputs": [
        {
          "output_type": "execute_result",
          "data": {
            "text/plain": [
              "2825"
            ]
          },
          "metadata": {},
          "execution_count": 86
        }
      ]
    },
    {
      "cell_type": "code",
      "source": [
        "wins/games"
      ],
      "metadata": {
        "colab": {
          "base_uri": "https://localhost:8080/"
        },
        "id": "WiuAM-HsBxbk",
        "outputId": "cec26465-de29-44ae-ac42-db02db0aaaf8"
      },
      "id": "WiuAM-HsBxbk",
      "execution_count": null,
      "outputs": [
        {
          "output_type": "execute_result",
          "data": {
            "text/plain": [
              "0.2825"
            ]
          },
          "metadata": {},
          "execution_count": 87
        }
      ]
    },
    {
      "cell_type": "code",
      "source": [],
      "metadata": {
        "id": "wCqRuj_vBxes"
      },
      "id": "wCqRuj_vBxes",
      "execution_count": null,
      "outputs": []
    },
    {
      "cell_type": "code",
      "source": [],
      "metadata": {
        "id": "HpyCOhI4BxhW"
      },
      "id": "HpyCOhI4BxhW",
      "execution_count": null,
      "outputs": []
    },
    {
      "cell_type": "markdown",
      "id": "3e2956c0",
      "metadata": {
        "id": "3e2956c0"
      },
      "source": [
        "<p class=\"task\" id=\"2\"></p>\n",
        "\n",
        "2\\. Создайте окружение `Blackjack-v1`. Предложите стратегию, которая позволит, в среднем, выигрывать чаще, чем случайный выбор действия. Реализуйте эту стратегию и сыграйте `N=10000` игр, выбирая действие согласно этой стратегии. Посчитайте и выведите на экран долю выигранных игр.\n",
        "\n",
        "- [х] Проверено на семинаре"
      ]
    },
    {
      "cell_type": "code",
      "source": [
        "# текущая сумму игрока, значение одной открытой карты дилера (1-10, где 1 - туз) и есть ли у игрока пригодный для использования туз (0 или 1)."
      ],
      "metadata": {
        "id": "bV3GjyP3KLeK"
      },
      "id": "bV3GjyP3KLeK",
      "execution_count": null,
      "outputs": []
    },
    {
      "cell_type": "code",
      "source": [
        "env = gym.make(\"Blackjack-v1\")"
      ],
      "metadata": {
        "id": "iIUnzM5_LQuQ"
      },
      "id": "iIUnzM5_LQuQ",
      "execution_count": null,
      "outputs": []
    },
    {
      "cell_type": "code",
      "source": [
        "def policy(observation):\n",
        "  player_sum, dealer_card, ace = observation\n",
        "  if player_sum < 14:\n",
        "    return 1\n",
        "\n",
        "  else:\n",
        "    return 0"
      ],
      "metadata": {
        "id": "wM5yoWAfOa7j"
      },
      "id": "wM5yoWAfOa7j",
      "execution_count": null,
      "outputs": []
    },
    {
      "cell_type": "code",
      "source": [],
      "metadata": {
        "id": "lznFu1-BOa-3"
      },
      "id": "lznFu1-BOa-3",
      "execution_count": null,
      "outputs": []
    },
    {
      "cell_type": "code",
      "source": [
        "games = 10000\n",
        "wins = 0\n",
        "\n",
        "for _ in range(games):\n",
        "    observation, _ = env.reset()\n",
        "    is_done = False\n",
        "\n",
        "    while not is_done:\n",
        "        action = policy(observation)\n",
        "        observation, reward, terminated, truncated, _ = env.step(action)\n",
        "        is_done = terminated or truncated\n",
        "    if reward > 0:\n",
        "        wins += 1\n",
        "\n",
        "env.close()\n",
        "\n"
      ],
      "metadata": {
        "id": "ByxoWXvYOknp"
      },
      "execution_count": null,
      "outputs": [],
      "id": "ByxoWXvYOknp"
    },
    {
      "cell_type": "code",
      "source": [
        "wins"
      ],
      "metadata": {
        "colab": {
          "base_uri": "https://localhost:8080/"
        },
        "id": "1FOZFQ0OObB5",
        "outputId": "67fea80b-9530-4455-dbec-fd36b336367c"
      },
      "id": "1FOZFQ0OObB5",
      "execution_count": null,
      "outputs": [
        {
          "output_type": "execute_result",
          "data": {
            "text/plain": [
              "4241"
            ]
          },
          "metadata": {},
          "execution_count": 103
        }
      ]
    },
    {
      "cell_type": "code",
      "source": [
        "wins/games"
      ],
      "metadata": {
        "colab": {
          "base_uri": "https://localhost:8080/"
        },
        "id": "xX-OlKOAPj69",
        "outputId": "5931d522-7296-4ba5-dfbc-1c9c8d6f701f"
      },
      "id": "xX-OlKOAPj69",
      "execution_count": null,
      "outputs": [
        {
          "output_type": "execute_result",
          "data": {
            "text/plain": [
              "0.4241"
            ]
          },
          "metadata": {},
          "execution_count": 104
        }
      ]
    },
    {
      "cell_type": "code",
      "source": [],
      "metadata": {
        "id": "0eWGId7hPj95"
      },
      "id": "0eWGId7hPj95",
      "execution_count": null,
      "outputs": []
    },
    {
      "cell_type": "code",
      "source": [],
      "metadata": {
        "id": "aGpDos4_PkAl"
      },
      "id": "aGpDos4_PkAl",
      "execution_count": null,
      "outputs": []
    },
    {
      "cell_type": "markdown",
      "id": "f2698c28",
      "metadata": {
        "id": "f2698c28"
      },
      "source": [
        "<p class=\"task\" id=\"3\"></p>\n",
        "\n",
        "3\\. Создайте окружение для игры в крестики-нолики, реализовав интерфейс `gym.Env`. Решение должно удовлетворять следующим условиям:\n",
        "* для создания пространства состояний используется `spaces.Box`;\n",
        "* для создания пространства действий используется `spaces.MultiDiscrete`;\n",
        "* игра прекращается, если:\n",
        "    - нет возможности сделать ход;\n",
        "    - игрок пытается отметить уже выбранную ячейку.\n",
        "* после каждого хода игрок получает награду:\n",
        "    - 0, если игра не закончена;\n",
        "    - 1, если игрок выиграл;\n",
        "    - -1, если игрок проиграл.\n",
        "* стратегию выбора действия для второго игрока (машины) определите самостоятельно.\n",
        "\n",
        "Стратегия поведения машины является частью окружения и должна быть реализована внутри него. Сделайте все соответствующие переменные и методы приватными (названия всех переменных начинаются с `__`), подчеркнув, что у пользователя не должно быть к ним доступа извне.\n",
        "\n",
        "Сыграйте одну игру, выбирая действия случайным образом. Выведите на экран состояние окружения после каждого хода и итоговую награду пользователя за сессию.\n",
        "\n",
        "- [ ] Проверено на семинаре"
      ]
    },
    {
      "cell_type": "code",
      "source": [
        "from gymnasium  import spaces\n",
        "import numpy as np"
      ],
      "metadata": {
        "id": "Yavcl6y04EGb"
      },
      "id": "Yavcl6y04EGb",
      "execution_count": 3,
      "outputs": []
    },
    {
      "cell_type": "code",
      "source": [
        "class TicTacToeEnv(gym.Env):\n",
        "    def __init__(self):\n",
        "        self.__board = np.zeros((3, 3))\n",
        "        self.__current_player = 1\n",
        "        self.__game_over = False\n",
        "\n",
        "\n",
        "        self.observation_space = spaces.Box(low=-1, high=1, shape=(3, 3), dtype=np.int8)\n",
        "\n",
        "\n",
        "        self.action_space = spaces.MultiDiscrete([3, 3])\n",
        "\n",
        "    def is_game_over(self):\n",
        "        return self.__game_over\n",
        "\n",
        "    def get_board(self):\n",
        "        return self.__board.copy()\n",
        "\n",
        "    def __is_winner(self, player):\n",
        "\n",
        "      for i in range(3):\n",
        "          if all(self.__board[i, j] == player for j in range(3)) or \\\n",
        "            all(self.__board[j, i] == player for j in range(3)):\n",
        "              return True\n",
        "\n",
        "\n",
        "      if all(self.__board[i, i] == player for i in range(3)) or \\\n",
        "        all(self.__board[i, 2 - i] == player for i in range(3)):\n",
        "          return True\n",
        "\n",
        "      return False\n",
        "\n",
        "\n",
        "    def __is_board_full(self):\n",
        "\n",
        "        return np.all(self.__board != 0)\n",
        "\n",
        "    def __is_valid_move(self, action):\n",
        "\n",
        "        row, col = action\n",
        "        return self.__board[row, col] == 0\n",
        "\n",
        "    def step(self, action):\n",
        "        if self.__game_over:\n",
        "            print(\"Игра завершена\")\n",
        "            return self.__board.copy(), 0, True, {}\n",
        "\n",
        "        if not self.__is_valid_move(action):\n",
        "            print(\"Недопустимый ход. Игра завершена.\")\n",
        "            self.__game_over = True\n",
        "            return self.__board.copy(), 0, True, {}\n",
        "\n",
        "        row, col = action\n",
        "        self.__board[row, col] = self.__current_player\n",
        "\n",
        "        reward = 0\n",
        "        if self.__is_winner(self.__current_player):\n",
        "            reward = 1 if self.__current_player == 1 else -1\n",
        "            self.__game_over = True\n",
        "            print(f\"Игрок {self.__current_player} победил!\")\n",
        "        elif self.__is_board_full():\n",
        "            self.__game_over = True\n",
        "            print(\"Ничья!\")\n",
        "            return self.__board.copy(), 0, True, {} # в задании не прописана награда за ничью, поэтому ставлю 0\n",
        "\n",
        "        self.__current_player = -1 if self.__current_player == 1 else 1\n",
        "\n",
        "        return self.__board.copy(), reward, self.__game_over, {}\n",
        "\n",
        "    def reset(self):\n",
        "        self.__board = np.zeros((3, 3))\n",
        "        self.__current_player = 1\n",
        "        self.__game_over = False\n",
        "        return self.__board.copy()\n",
        "\n",
        "    def render(self):\n",
        "        print(self.__board)\n",
        "\n",
        "    def close(self):\n",
        "        pass"
      ],
      "metadata": {
        "id": "PCOP7etv6bjD"
      },
      "id": "PCOP7etv6bjD",
      "execution_count": 51,
      "outputs": []
    },
    {
      "cell_type": "code",
      "source": [
        "env = TicTacToeEnv()\n",
        "observation = env.reset()\n",
        "\n",
        "while True:\n",
        "    env.render()\n",
        "\n",
        "    my_action = env.action_space.sample()\n",
        "    observation, reward, done, _ = env.step(my_action)\n",
        "    if done:\n",
        "        env.render()\n",
        "        print(f\"Игра окончена. Награда: {reward}\")\n",
        "        break\n",
        "\n",
        "    if not done:\n",
        "      machine_action = env.action_space.sample()\n",
        "      observation, reward, done, _ = env.step(machine_action)\n",
        "      if done:\n",
        "          env.render()\n",
        "          print(f\"Игра окончена. Награда: {reward}\")\n",
        "          break"
      ],
      "metadata": {
        "colab": {
          "base_uri": "https://localhost:8080/"
        },
        "id": "0HVuG8ou6bmc",
        "outputId": "99dd951e-e63a-4f44-c878-0852c9e7a1ab"
      },
      "id": "0HVuG8ou6bmc",
      "execution_count": 180,
      "outputs": [
        {
          "output_type": "stream",
          "name": "stdout",
          "text": [
            "[[0. 0. 0.]\n",
            " [0. 0. 0.]\n",
            " [0. 0. 0.]]\n",
            "[[-1.  0.  0.]\n",
            " [ 0.  0.  0.]\n",
            " [ 1.  0.  0.]]\n",
            "[[-1.  0.  0.]\n",
            " [ 1. -1.  0.]\n",
            " [ 1.  0.  0.]]\n",
            "[[-1.  0.  0.]\n",
            " [ 1. -1. -1.]\n",
            " [ 1.  1.  0.]]\n",
            "Игрок 1 победил!\n",
            "[[-1.  0.  0.]\n",
            " [ 1. -1. -1.]\n",
            " [ 1.  1.  1.]]\n",
            "Игра окончена. Награда: 1\n"
          ]
        }
      ]
    },
    {
      "cell_type": "markdown",
      "id": "cdcd8fa6",
      "metadata": {
        "id": "cdcd8fa6"
      },
      "source": [
        "<p class=\"task\" id=\"4\"></p>\n",
        "\n",
        "4\\. Предложите стратегию (в виде алгоритма без использования методов машинного обучения), которая позволит, в среднем, выигрывать в крестики-нолики чаще, чем случайный выбор действия. Реализуйте эту стратегию и сыграйте игру, выбирая действия согласно этой стратегии. Выведите на экран состояние окружения после каждого хода и итоговую награду пользователя за сессию.\n",
        "\n",
        "- [ ] Проверено на семинаре"
      ]
    },
    {
      "cell_type": "code",
      "source": [
        "# проверяю, можно ли выиграть следующим ходом\n",
        "# Проверяю, может ли противник выиграть"
      ],
      "metadata": {
        "id": "n5huXDwGnEZ9"
      },
      "id": "n5huXDwGnEZ9",
      "execution_count": null,
      "outputs": []
    },
    {
      "cell_type": "code",
      "source": [
        "def strategy(board, player):\n",
        "\n",
        "    for i in range(3):\n",
        "        for j in range(3):\n",
        "            if board[i][j] == 0:\n",
        "                board[i][j] = player\n",
        "                if check_winner(board, player):\n",
        "                    return (i, j)\n",
        "                board[i][j] = 0\n",
        "\n",
        "\n",
        "    opponent = -1 #if player == 1 else 1\n",
        "    for i in range(3):\n",
        "        for j in range(3):\n",
        "            if board[i][j] == 0:\n",
        "                board[i][j] = opponent\n",
        "                if check_winner(board, opponent):\n",
        "                    return (i, j)\n",
        "                board[i][j] = 0\n",
        "\n",
        "\n",
        "    if board[1][1] == 0:\n",
        "        return (1, 1)\n",
        "\n",
        "    corners = [(0, 0), (0, 2), (2, 0), (2, 2)]\n",
        "    for corner in corners:\n",
        "        if board[corner[0]][corner[1]] == 0:\n",
        "            return corner\n",
        "\n",
        "\n",
        "    for i in range(3):\n",
        "        for j in range(3):\n",
        "            if board[i][j] == 0:\n",
        "                return (i, j)\n",
        "\n",
        "def check_winner(board, player):\n",
        "    for i in range(3):\n",
        "        if all(board[i][j] == player for j in range(3)):\n",
        "            return True\n",
        "        if all(board[j][i] == player for j in range(3)):\n",
        "            return True\n",
        "    if all(board[i][i] == player for i in range(3)) or \\\n",
        "       all(board[i][2-i] == player for i in range(3)):\n",
        "        return True\n",
        "    return False"
      ],
      "metadata": {
        "id": "-8QoTlUHBvWa"
      },
      "id": "-8QoTlUHBvWa",
      "execution_count": 181,
      "outputs": []
    },
    {
      "cell_type": "code",
      "source": [
        "env = TicTacToeEnv()\n",
        "observation = env.reset()\n",
        "\n",
        "while True:\n",
        "    env.render()\n",
        "\n",
        "    action = strategy(env.get_board(), 1)\n",
        "    observation, reward, done, _ = env.step(action)\n",
        "    if done:\n",
        "        env.render()\n",
        "        print(f\"Игра окончена. Награда: {reward}\")\n",
        "        break\n",
        "\n",
        "    action = env.action_space.sample()\n",
        "    observation, reward, done, _ = env.step(action)\n",
        "    if done:\n",
        "        env.render()\n",
        "        print(f\"Игра окончена. Награда: {reward}\")\n",
        "        break"
      ],
      "metadata": {
        "id": "9Sqd7x_fBvZs",
        "colab": {
          "base_uri": "https://localhost:8080/"
        },
        "outputId": "7da03d98-b2a0-4f83-db8f-28c0409f36e3"
      },
      "id": "9Sqd7x_fBvZs",
      "execution_count": 187,
      "outputs": [
        {
          "output_type": "stream",
          "name": "stdout",
          "text": [
            "[[0. 0. 0.]\n",
            " [0. 0. 0.]\n",
            " [0. 0. 0.]]\n",
            "[[-1.  0.  0.]\n",
            " [ 0.  1.  0.]\n",
            " [ 0.  0.  0.]]\n",
            "[[-1.  0.  1.]\n",
            " [ 0.  1.  0.]\n",
            " [-1.  0.  0.]]\n",
            "[[-1.  0.  1.]\n",
            " [ 1.  1.  0.]\n",
            " [-1.  0. -1.]]\n",
            "Игрок 1 победил!\n",
            "[[-1.  0.  1.]\n",
            " [ 1.  1.  1.]\n",
            " [-1.  0. -1.]]\n",
            "Игра окончена. Награда: 1\n"
          ]
        }
      ]
    },
    {
      "cell_type": "code",
      "source": [],
      "metadata": {
        "id": "__TQp0GhBviX"
      },
      "id": "__TQp0GhBviX",
      "execution_count": null,
      "outputs": []
    },
    {
      "cell_type": "markdown",
      "id": "0992c961",
      "metadata": {
        "id": "0992c961"
      },
      "source": [
        "<p class=\"task\" id=\"5\"></p>\n",
        "\n",
        "5\\. Создайте окружение `MountainCar-v0`. Проиграйте 10 эпизодов и сохраните на диск файл с записью каждого пятого эпизода. Для записи видео воспользуйтесь обёрткой `RecordVideo`. Вставьте скриншот, на котором видно, что файлы были созданы.\n",
        "\n",
        "- [ ] Проверено на семинаре"
      ]
    },
    {
      "cell_type": "code",
      "source": [
        "from gymnasium.wrappers import RecordVideo"
      ],
      "metadata": {
        "id": "IQspbpsPBuzI"
      },
      "id": "IQspbpsPBuzI",
      "execution_count": 10,
      "outputs": []
    },
    {
      "cell_type": "code",
      "source": [
        "videos_dir = '/content/out/'\n",
        "env = gym.make('MountainCar-v0', render_mode='rgb_array')\n",
        "env = RecordVideo(env, videos_dir, episode_trigger=lambda x: x % 5 == 0)\n",
        "\n",
        "for episode in range(10):\n",
        "    observation = env.reset()\n",
        "    done = False\n",
        "\n",
        "    while not done:\n",
        "        env.render()\n",
        "        action = env.action_space.sample()\n",
        "        observation, reward, terminated, truncated, _ = env.step(action)\n",
        "        done = terminated or truncated\n",
        "\n",
        "env.close()"
      ],
      "metadata": {
        "colab": {
          "base_uri": "https://localhost:8080/"
        },
        "id": "7h118apT685A",
        "outputId": "102e61d3-f9f9-42e1-d017-ad2e2b94b56f"
      },
      "id": "7h118apT685A",
      "execution_count": 14,
      "outputs": [
        {
          "output_type": "stream",
          "name": "stdout",
          "text": [
            "Moviepy - Building video /content/out/rl-video-episode-0.mp4.\n",
            "Moviepy - Writing video /content/out/rl-video-episode-0.mp4\n",
            "\n"
          ]
        },
        {
          "output_type": "stream",
          "name": "stderr",
          "text": []
        },
        {
          "output_type": "stream",
          "name": "stdout",
          "text": [
            "Moviepy - Done !\n",
            "Moviepy - video ready /content/out/rl-video-episode-0.mp4\n",
            "Moviepy - Building video /content/out/rl-video-episode-5.mp4.\n",
            "Moviepy - Writing video /content/out/rl-video-episode-5.mp4\n",
            "\n"
          ]
        },
        {
          "output_type": "stream",
          "name": "stderr",
          "text": []
        },
        {
          "output_type": "stream",
          "name": "stdout",
          "text": [
            "Moviepy - Done !\n",
            "Moviepy - video ready /content/out/rl-video-episode-5.mp4\n",
            "Moviepy - Building video /content/out/rl-video-episode-10.mp4.\n",
            "Moviepy - Writing video /content/out/rl-video-episode-10.mp4\n",
            "\n"
          ]
        },
        {
          "output_type": "stream",
          "name": "stderr",
          "text": [
            "                                                  "
          ]
        },
        {
          "output_type": "stream",
          "name": "stdout",
          "text": [
            "Moviepy - Done !\n",
            "Moviepy - video ready /content/out/rl-video-episode-10.mp4\n"
          ]
        },
        {
          "output_type": "stream",
          "name": "stderr",
          "text": [
            "\r"
          ]
        }
      ]
    },
    {
      "cell_type": "markdown",
      "source": [
        "![image.png](data:image/png;base64,iVBORw0KGgoAAAANSUhEUgAAARkAAACuCAYAAAACqHluAAAAAXNSR0IArs4c6QAAAARnQU1BAACxjwv8YQUAAAAJcEhZcwAAFiUAABYlAUlSJPAAAB0xSURBVHhe7Z0NcBvlmcf/F6pLb0krG0yKHJADcpk4EIda7VkpEdcYJs4QhZJ0cAbsucr1x3DJOAlpKJCa8QU0hhA3E+PGpQ6ZGC7iLuoEM0XtIE/jzOEMceaQr3YKyhwRxboS3RmBoxaWBg3cPe9qbSu25E+tI8nPb2bH2g/tvu+77/71PLvr9/83Fovl/8AwDKMRC9S/DMMwmsAiwzCMprDIMAyjKSwyDMNoCosMwzCawiLDMIymsMgwDKMpLDIMw2gKiwzDMJoyp2/83nTTTbj55puRlZWlLoly8eJFnDhxQp27UhRje3Mt8v1tqHvujLqMYZjZMqeRTHV1NUpKSlBUVHTZJJbddddd6lYMw2QScxbJCDH5wQ9+oM5Nj6GhIfzxj3/E8ePH1SUJyC6B/WEbrEv0ymz4g250PNOOblnMlaHhsBUXX6hD82llNYq3taDWdB5t/wZUVBdCii4GPulH2/ZmcDzDMLMnLe7JZGdnKyIl0q3EmGD/STksC8/DWV+HunonBhZZYX/CTmsm4XQz6qra0P8JIPe1oYoFhmGSRlrd+BVik5BVNpgXh9H/ciu6gjLkYBeaX/QivNgM2yp1G4Zh5py4InPttdfigQcemHAS26QUxixIly7A36fOC/oCCEUkZBnVeYZh5py4IvPRRx+hs7MT119/PW677bbLJrFMrBPbpD4SdDr1I8MwV4SE6ZIQkZdeegmhUEhdAuWzWJaSAhO4CHlhLkwr1XnByhzoIeNiQJ0XXKX+ZRhmTpjwnkys0KS0wAhOu+Ed1KPwfjusBgmSoQRbHiyEftALt/I0aQAXP5GQ/w9lKMzWw3inHRuWjzxPIs4iFAZ0+lwYDAYSJ4ZhksFVN9xwwz+rn+Py2Wef4d1330VfX9+sBEZcuMuXL1fnZobP50MwGFTnxjKE3/d+AuN3S3DP97+Pe0oKcfXQmzj+s3b0/lWs/wBnP/kG7rjjeyi5pxTfu+VvMfjRVbjmqx/D+/oZWhtBaNEtuOM7d6D07nzg1/+Ot5X9MgwzG9LiPZlhxHsyvb296hzDMOlAWj3CZhgm/ZgzkRFv7M6WZOyDYZi5ZU7/QXLyt3YTI9IkFhmGST/Yd4lhGE3hezIMw2gKiwzDMJrCIsMwjKawyDAMoyksMgzDaAqLDMMwmsIiwzCMpmTMezLiRb94DI8PzDDMlSHtRUa8QSxcECaiq6srOZYrq7ajpTof52MGI58SUhFs9+Xiwqtu9CqDmo9l/CDnqYBUZMPG6y+g47e9iFvsWZGaddYabds0NUn7dEn4OCVCRDFCYK645cpyC0rusmHd99T5NGFZcQlK7l2HEnU+dZBQ9GAD9rcdxuHDND2/H7vvm3S4+OQgfmgOt2D7DMeNLllro/5owTJ1fj6Q9iIz1ihuLCKCueJC81YrdlY9hMbfqvNpQu8vdqLqoUa41fmUYc0WVN6VQ5FhE+qqdqL5VBjGDbWomd1wRXOC+5mHULWrFfNpwJK0T5fEGDUT3Y9pampSPguBEUIz9dQpGs5/2hdC3m1G4A9tqPsPS4J0ScLGn+6H7StdqNvjUsPgUuxqLUPWm/Wo95eN+Z4JGx/bCts39cAXMoJ/GIBuZR4uDK+XrLA/tnHUP+pdNw491wGfsmMJBZu2wL6mADliYD85BN+JNjS96hcr4yDBWrkbG1cZoBdDj4b9cLcdQMc52pmS/l2H82eA/G8bINF6OdCNI/valbRuxJdKtYiRVtdg92YLDOK4otz/2YF9v+hCWBwGepRUPgLbyHGC6H6lEe2nhpOC2dT5ckofeR5l1/Sg/vF2RIcws2J7sx25vfV49MWxg5qp5/GtIHK/ZYppg27kVJTBIiojyvOWC420LHq4+G12Ye1e1K4cHU1R2OcobqOUDpf/uALWG/XQ0fYR2t7z80Z0vKduGMPYNjXdtxtb11G5xFjUkTD8nYdw4BVftBxT8BH79KQPWcXm6DkR5Uxw3CvJvHm6NLOIhi7opRF0H23CgV+dVZfFQ0ZHfwARYwFsw31wzQrkLQzCd3L8SH6FtbWwLZXRfaQeOxuOoGdhLnLUdeJiLH+sHJYvvGjeVYWdBzpwwWDDlupiZa20dgu2rM9D+I1mio7oV/yMjPwNO7Br7Wjnj8X04G6UF0fgbaGoZFczOoIG2P6pBtG9CQzI0/fgSMNO1B/pRthgReVD8RIkG3ZUWCD5naivq0P9sfOQvl2GrfdFj2v6oTiODueP1aOurh7OgLhQG2BXs9nZ1HksekkH+X/9qsAIvMrQqZI+kS2FhPwlF9DRuJP27YFfZ4JtZxny/C7U76rHwTdCyCm2oVyNhBK1GZ6rQ9UL/XS2ZfS/UDViZ2zbVouS7AG4Gmh9XRO6w0bYflROLTsJy2tQu8GI8Cn1XIqIbH0N7Mo41VPxEaP+WSShp43q9ZQLvqtMKH3Apq5LHTJaZIRPkxCU4UkgopvJUqxRIvC93gjXGz74g3F+UmN5rR+BiAH56sVevCIPUtCHrg+U2RiKsebWHIT7XPQrH6Qf/F64D3pHL5hVNliWhNHzghP9Q/TjdNYNZ28I0lIziqhT2VYVQPdeF4leP0UQYfQf3QfPezoU0PfGy0wxbMUGhE+3wXmWrsKhfrhfpgtyUR7M31Y3oSN7D7rRGwwjeKodrr4wpPwiisPGIpwfIrhwrgdBmX75T7jQ8Ztu+ELiV5aOUyTq5ETriSBkOYiuA+3wDuXAbBNCMZs6J+DLz9UPAhmRL9SPcZHpPFIE8D612FkXuv10Lj87Dw+JanAoiN6jPipLDnJXiG2n0maxSPAeb0bjvkOK3xdkH5znqGaGfIqvJkEv0bfDGHhz+Fx2oOOEF/4vad2UfMRE/2yCm8oZft+j1Et3rTFxm10hMj6SEZFL7DShQdw4Ioj8Rf04BhH2KjcdlamBglc3+v8bMN4qooBCmI0Sgue6Yn5th8lD1qIIQn/qV+cJmY6jflT8o6jDW58c3vdhOO6k3/yrdNBhBQzX0EX4px66bIaRce5DuhiuMWDF5oaYMombk+JYQM6djtHlT1pp77SvEasYOnaMfvafHYC88Oo4A6l3w3sugoL7W7DfsRvbKwoRPulEB4nGcJ0u+GPqBBLdoQik7Dz6PIs6j6uT+p3pEiNCn4uLWPyN/hnDVNosFhLc0NdhqXbg+eEb0WunaPR1ugf9g3pYH2vB3id3oWaDHv2vOuERQfOUfMTi9E+ln6QW8yZdSjZnROhcVaVOe+CiZW5KmbBkGUqXFyMvO36qNCUifnSM7FudJrDO/bvh3n9sT8x3hu//ROB/NWY/l62LA6Ui8TtpEO59dZRuuNAT+BzXFZVh+9N7UTPBRS8tmEZ3T1TnuHUiFvyt+kFAUZa4d5I0ptNmBpRtq1TSJZGOKdt2xnrwTMQZHHqc0tSXPBQRXk1RsB2OvbthW6KuHkd6+oixyCQTkTItyId5Yz5yBs/HSZUEwppFh5wbCtV5IvbCHvwUss6AZWvUeYEkwmrBWQQ/pij7Bos6L5CQl0VzHwdp7VhC+FTWwfDN2HsstK/xedUIBsN10F36lIL3MawoRfmDpcg764GrrQn1O5vh/SQHhd8R6VC0TrmmmDpRNJdD4ZA8NECfZ1Pn8YQpCpK+YYq552GOHis81Yt7IqbbZkaKLnUInGmGh9IxgUTRxFQwrN6I8k1m4JQb7c/twaOPupX7RebVtHKqPmJpAItMUnHD6wdMN+cgdM4TJ1USnMHJt0PQryyDfbUBekMRyh62jF4wJzvRH5JQsGEXbMuoZ2cXwrbVgb0/tVHILsN92ofIzVZs2VBIHU74TO1Ayc2Um592x6RQw3Sh82wI0q027LqngC4V2n7Dluiv5WJ1E7pILI/YUEhZpH5FOWpX0VHOdcOjrh1hgRGFd21EWWWxkkrpVxQhl9IKWf4zzZ2Bu3e0TpJkQMnWctpnCF63iL9mU+fxeN46D3mxGeVqnYorS1GwKIj+30Vb3LSmHPZN4g7WTJikzfpCJMA6ZBkMJMiiJf4M+a8kGLfXwLrUqPh57aY6jiAVYWNlOZ0jdT6GcHYBrOtJaJTjSDCsIuHUqSnQpD5i6QOLTJLx9J2nYDsEn9rh49Hf1gb3++LpiwP791Si8C8D9I1h+nHoGSe8ch42PtKCw03bUaofgPtf3co2cmcrWn8TQu767dh/eD+236nHwG9oWed4iRH0tzXC+ZaMvPt2oUVsvzaLtj8G96C6Ae31wiULavYexv4dJcj5oAtHXoiTmPUdQtuvfEBRLR2Xtq0zQ/dfbrS9QMsI/4t0nD6KKf7RgZYWB8pNEfQcbUS7+jh1NnUex8lWHDlBbaDWqbYI8P3qCJxq5FhQbIX1uzN/4W3CNpO70HMuAuN6BxzV4va4D4d+6UZgoQX2JxrQcH8+PjwboD5AwiDSnqVmWFaXwHq72PPlyK8dQNuJMHLvFcdpgWNzLsKnnDigvE/lR/uzTmoZM+yOFrQ4ypF/qQfOZ9tpTXqR0e/JJEIMSi48nOY9ynsyWehW7ykx2jP2PZn5AEcyDDMnUGSTLd5J0lGeFIpz/yxzYZFhmDnBhkeaHCi9UYa3syPO/bPMhdMlhmE0Je0jmZmMFcN+2gwzd2TEoFViTJmpvskrREn8awHDMHNDRogMwzCpC9/4ZRhGU1hkGIbRFBYZhmE0hUWGYRhNYZFhGEZTMubpEvsuMUxqkvYiw75L2sG+S0wySPt0iX2XtIN9lyaneOt+KsMshgWdB6S9yLDvknaw79IkrKzBpqLxoyEzl5PR/yDJvksC9l2aru9SWcNhWGUvggYzTKI4X4The+Ugml6PbWMT7E/vRqEcgG5pzvRT6HnEvHm6xL5L7Ls0Vd8lgWQS99D2YKdos3eBgvsrUR4zwLdhcwUsi3zwnLyoLmESkdEiw75L7LsUZTq+S1Hkcx60vxFAWLTZwW746dwW3q2O3SvZULnGgEBnKzwTHpcRZHwkIyKX2Il9l9h3aWLfJZVYEZM9GBgcjpQklG4thXGwG8dem+SHh1GYN+lSsmHfpUz2XRqLflSUV9XAtkyG97gz7Qb0vlKwyCQT9l2KbquQrr5L8VDrQvsvu7uQypUDyzY1uqoW8xIKqw+jZVv8e0jzHRaZpMK+S+nvuxRFWr5htC47aP8LAvDS/l1PxURaYopjwM9cDotMkmHfpfT3XRLIH3yIvE1qXW6JoP/Vo3DFjUyZycjo92QSwQOJq7DvUlyU92SG2jgySRIcyTAMoyksMgzDaAqnSwzDaEraRzLsu8QwqU1GDFrFvksMk7pkhMgwDJO68I1fhmE0hUWGYRhNYZFhGEZTWGQYhtEUFhmGYTQlY54use8Sw6QmaS8y7LukHey7NPeY1pTBDC9cJzNnSKy0T5fYd0k7Utd3SQ/jnTbYtzVgb/Pz2D9usCgTSrc50DLsy9TiQM3q2YwuMw3ED9GMhwktQMm6UpSujh38K/1Je5Fh3yXtSFnfpc070FBRgvyvfIqIbvxwoYaKSpQt16H/MJVfOCf4JVgqdsCmrk9dfDj0aBWqnupQ5zODjP4HSfZdEmSe7xLE0JyyGI+uGNuba5Hvjx37xQD70w5YPnbhoX3q+H5SORwtlJodewhNndFFI8Rrg2APXEdDsNbaRnyX/L89iMbhNk5Q1q9XU3utHI2Y5L5ouaSicjxSYYVRT3L4RQTh9zw4+ExH3DGCxVg2pfCgivqRwHTfbmxdZ4L4KiJUjs5DOPCKL9rHsktgf9g2Wo4PutHxTDu6lZVq/z3pQ1axOXrOxLn/eSM61IHE5op583SJfZcyx3cJisAkwgg9FSlEF9wIcgAffqLD1Qn/vS22DbyQDRbYd1rx+Ulq41174HqHSrhusxoJJS6rMrj8uOE4qd1qS6APuKjdaNl+auOlNlRWjI5QnJDlNajdYET4lHquhVPm+hrYV4qVJth/QuVYeB7O+jrU1TsxsIjE7wk7rRmG+m+RhJ62ndj5lAu+qyiNfGDu47mMFhn2Xcpg36VJiFC0NMqE5ifE5W3QL87Z/3jRSuc0PBSA58yAMtC5SdxnmW5ZJS+OPdeIfW1d1G6kd+ec8FHFDTdZ1Q0mgNRSonM88Obwue5Axwkv/MLShcphXkzLXm5FF+1YDnah+UUvwovN1EeiX4/23ya46dyH3/coflO6a40zbtOZkvGRjIhcYif2XZqnvksTEtsGqlEcpTWxMjXChOcnDiS4oa9ZUOt4fmT7UmHfNJUr73QP+gf1sD7Wgr1P7kLNBj36X3XCI4JqUY5LF+Dvi26q0BdAKCIha8RIM07/TVRODZk36VKyYd+lK+y7NAm6q2LjuliPpiQwnfOzpAw7KkW61IE9lF6JbT1Tdm45g0OPUwr3kocixqspSrZHnSZi7HIvR0Sb6scUgkUmmbDvUnRbBe18lyYmgDCFIDlLYtIRyYjrKJL6NBnDCE23rEYDcnQB9BzwUGQnFkzdiM6weiPKN5mBU260P7cHjz7qVny8zatpZeAiRZy5MCn3Z1RW5lAEKuOiVvZTM4RFJqmw79Jc+C5NTBCet4PQmUpQU0wllQpoX2YY5PPoVZ4smVBSYcfGoplJ2KRl7QuRQOuQZTCQYNPxSfFkqqm52grjUqPypM8aG4lIRdhYWU7nUJ2PIZxdAOt6Ehrl3EkwrDLBoFNTIDrfXkqlCu+3w2qgtYYSbHmQ+sSgl/pI9PupAotMkmHfpTnwXZqE4NEjcL0TQWHVfhxu2YWNhjC6jrSS5AoKYFlthbV4pq5Mk5RV7kLPuQiM6x1wVJcC71C7vRaA7u/taHiiAWWmD9H/fgT4KomG2H6pmcpTAuvtYuZy5NcOoO1EGLn3inPXAsfmXIRPOXFAed/Kj/ZnnVQaM+yOFrQ4ypF/qQfOZ9tTzj43o9+TSQQPJK6ivCPCvkupxNj3ZDIBjmQYJhUQ93Wyi5HzNYpgwjN8YJCisMgwTCqw3A5HUy3MCwPo/nXMi4QZAKdLDMNoStpHMuy7xDCpTUYMWsW+SwyTumSEyDAMk7rwjV+GYTSFRYZhGE1hkWEYRlNYZBiG0RQWGYZhNCVjni6x7xLDpCZpLzLsu6Qd7LvEJIO0T5fYd0k72Hdp9hRv3U9l0GrY0PQg7UWGfZe0g32XZsnKGmwqGj9a8nwjo/9Bkn2XBOy7lFzfJbVfvBVE7rdM0boO+eBqbYLnMj8jE5VjNwrlAHRLc6afYmcQ8+bpEvsuse9ScnyXBBLyl1xAR+NOpay+BQUo+1F5dKQ7FcPmClgW+eA5eVFdMn/JaJFh3yX2XYqSRN8lBZn6RTu636czQGVtfcOPiKEQpcNj90o2VK4xINDZCo+wV5nnZHwkIyKX2Il9l9h3aTyxbTCJ79IwMeIhd4rxiiXoFb8jCaVbS2Ec7Max1ybcw7xh3qRLyYZ9l+ax79JYsmPabFUNbMtkeI87U25A7ysFi0wyYd+l6LYKGeq7FA9KBYXfUZh+Y8ruLqRy58CyTY2+qsW8hMLqw2gZ96h9fsAik1TYdynjfZcUqKzrR/2Otq8rIG3zwkM/Kq6nYiIxMY0z4J9/sMgkGfZdynTfJYGMYIjKuifqd1RwqR8d/+JK8KPCZPR7MonggcRVlHdE2HdpevC/Q0wXjmQYhtEUFhmGYTSF0yWGYTQl7SMZ9l1imNQmIwatYt8lhkldMkJkGIZJXfjGL8MwmsIiwzCMprDIMAyjKSwyDMNoCosMwzCakjFPl9h3iWFSk7QXGfZd0g72XUo+2rZpapL26RL7LmlH6voukUQ1DA/JOTrNyaBQ4odmFsOAlqy1UX+0YDYDTaQbaS8y7LukHSnruwQDpK8C4V4nmn7WNDJN7CiRGrifeQhVu1oxn/6xJaP/QZJ9lwQZ6LuEqN9S1ptV2HNMXZSQOD5JSht0I6eiDBZRGVGet1xopGXRw8Vvswtr96J25eiIenKf6vdE6XD5jytgvVEPHW0foe09P29Ex2U+TFHGtqnpvt3Yuo7KJcYijYTh7zyEA6/4ouXILoH9Ydtom3zQjY5n2tGtrFTrddKHrGJz9JyIciY47pVk3jxdYt+lDPJdUt0PcopVx4i2Fji2ldJeEhHrk+SBX2eCbWcZ8vwu1O+qx8E3QrQvG8qXR7dO1GYQg8fHGU7Ttq0WJdkDcDXQ+romdIeNsI3xYYrL8hrUbjAifEo9l6fCMK6vgX2lWGmC/SfUJgvPw1lfh7p6JwYWkRA/YY+pJ/XPIgk9bVSvp1zwXWVC6QNz7pM5KRktMuy7lKG+S4tlfBgMIdTrUtKk9tNh5KwsQ2VFoss61ifJhW4/ncvPzsNDohocCqL3qI/KkoPcFWLbqbRZLBK8x5vRuO8QukQfkX1wnqOaGfIRM5R5fPRiiPEwBt4cPpcd6Djhhf9LWkdtYl5My15uVfYrB7vQ/KIX4cVm6gPRr0f7ZxPcVM7w+x6lXrprjTP2qtKKjI9kROQSO7HvUgb4Lg260Vpfjz1HSeTe8VF01EhCG4Hh1tLE0UOMT9Ln4iIWf6N/xjCVNouFBDf0dViqHXh+2OB/rWLANDmne9A/qIf1sRbsfXIXajbo0f+qEx4RNIs2uXQB/r7opgp9AYQiErJGdh+nfyr9JLWYN+lSsmHfpVTyXZJx4S8kWZIeU7y8J2E6bWZA2bZKJV0S6ZiybSf1gylxBocepzT1JQ9FhFdTFGyPOkkMO1GOQ0ST6sc0gkUmmbDvUnRbBe18l0w/pKjh6ZrL0oKshbQ3OYypXt6JmW6bGSm61CFwphkeSscEEkUTU8GweiPKN5mBU260P7cHjz7qVu4XmVfTysBFiihzYVLuz6isjPo7XZx9JecUFpmkwr5Lc+G75P/9gHJvYgOlbHqqleGu7ShdpkPw7Wibm9aUw75J3MGaCZO0WV+IBFiHLIOBBFm0xJ8h/5UE4/YaWJcaYbzTjt1UxxGkImysLKdzpM7HEM4ugHU9CY1yHKrHKhMMOjUFovPppVSq8P5Rf6ctD1J9B73UB6LfTxdYZJIM+y7Nge+SWhZdsWiDFjg250N+y4l9R6NtXlBshfW7M3/hbcI2k7vQcy4C43oHHNXi9rgPh37pRmChBfYnGtBwfz4+PBugPkDCINKepWZYVpfAervY8+XIrx1A24kwcu8VxxH1yEX4lBMHlPep/Gh/1kktY4bdEfV3yr/UA+ez7Wlnf5vR78kkggcSV1Hek2Hfpblk7Hsy8wGOZBhmTqDIJlu8k6SjPCkU5/5Z5sIiwzBzgg2PNDlQeqMMb2dHnPtnmQunSwzDaEraRzLsu8QwqU1GDFrFvksMk7pkhMgwDJO68I1fhmE0hUWGYRhNYZFhGEZTWGQYhtEUFhmGYTQlY54use8Sw6QmaS8y7LukHey7xCSDtE+X2HdJO9h3aXKKt+6nY8/ch2k+kPYiw75L2sG+S5OwsgabisaPhsxcTkb/gyT7LgnYd2m6vksiSrLKXgQNZphEcb4Iw/fKQTS9HtvGJtif3o1COQDd0pzpp9DziHnzdIl9l9h3aaq+SwLJJO6h7cFO0WbvAgX3V6I8ZoBvw+YKWBb54Dl5UV3CJCKjRYZ9l9h3Kcp0fJeiyOc8aH8jgLBos4Pd8NO5Lbxb3b9kQ+UaAwKdrfDEWK0w8cn4SEZELrET+y6x79LEvksqX8aslT0YGCRt0QvDFQmlW0thHOzGsdcm+eFhFOZNupRs2Hcpk32XxqIfFeVVNbAtk+E97ky7Ab2vFCwyyYR9l6LbKqSr71I81LqEAyi7u5DKlQPLNjW6qhbzEgqrr8wj9HSARSapsO9S+vsuRZGWbxity45SFCwIwPu7IFxPxURaYopjwM9cDotMkmHfpfT3XRLIH3yIvE1qXW6JoP/Vo3DFjUyZycjo92QSwQOJq7DvUlyU92SG2jgySRIcyTAMoyksMgzDaAqnSwzDaEraRzLsu8QwqU1GDFrFvksMk7pkhMgwDJO68I1fhmE0hUWGYRhNYZFhGEZDgP8HEJrUfsSLjzIAAAAASUVORK5CYII=)"
      ],
      "metadata": {
        "id": "9H9w8IaD764O"
      },
      "id": "9H9w8IaD764O"
    },
    {
      "cell_type": "markdown",
      "source": [
        "![image.png](data:image/png;base64,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)"
      ],
      "metadata": {
        "id": "vSI_n3o577I3"
      },
      "id": "vSI_n3o577I3"
    },
    {
      "cell_type": "markdown",
      "id": "66caa919",
      "metadata": {
        "id": "66caa919"
      },
      "source": [
        "## Обратная связь\n",
        "- [ ] Хочу получить обратную связь по решению"
      ]
    }
  ],
  "metadata": {
    "kernelspec": {
      "display_name": "Python 3 (ipykernel)",
      "language": "python",
      "name": "python3"
    },
    "language_info": {
      "codemirror_mode": {
        "name": "ipython",
        "version": 3
      },
      "file_extension": ".py",
      "mimetype": "text/x-python",
      "name": "python",
      "nbconvert_exporter": "python",
      "pygments_lexer": "ipython3",
      "version": "3.9.13"
    },
    "colab": {
      "provenance": []
    }
  },
  "nbformat": 4,
  "nbformat_minor": 5
}